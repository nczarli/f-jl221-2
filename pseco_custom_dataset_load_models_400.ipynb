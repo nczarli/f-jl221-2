{
  "cells": [
    {
      "cell_type": "markdown",
      "metadata": {
        "id": "view-in-github",
        "colab_type": "text"
      },
      "source": [
        "<a href=\"https://colab.research.google.com/github/nczarli/f-jl221-2/blob/main/pseco_custom_dataset_load_models_400.ipynb\" target=\"_parent\"><img src=\"https://colab.research.google.com/assets/colab-badge.svg\" alt=\"Open In Colab\"/></a>"
      ]
    },
    {
      "cell_type": "markdown",
      "metadata": {
        "id": "MTYh0CTXglZl"
      },
      "source": [
        "# Download Files"
      ]
    },
    {
      "cell_type": "code",
      "execution_count": 1,
      "metadata": {
        "colab": {
          "base_uri": "https://localhost:8080/"
        },
        "id": "U6ElPg3Jgc0p",
        "outputId": "935ccdc0-c43d-4a56-fddc-1428b1cb2768"
      },
      "outputs": [
        {
          "output_type": "stream",
          "name": "stdout",
          "text": [
            "Cloning into 'f-jl221-2'...\n",
            "remote: Enumerating objects: 380, done.\u001b[K\n",
            "remote: Counting objects: 100% (380/380), done.\u001b[K\n",
            "remote: Compressing objects: 100% (198/198), done.\u001b[K\n",
            "remote: Total 380 (delta 255), reused 259 (delta 176), pack-reused 0\u001b[K\n",
            "Receiving objects: 100% (380/380), 10.42 MiB | 5.16 MiB/s, done.\n",
            "Resolving deltas: 100% (255/255), done.\n",
            "Cloning into 'PseCoCustomDataset'...\n",
            "remote: Enumerating objects: 1509, done.\u001b[K\n",
            "remote: Counting objects: 100% (1509/1509), done.\u001b[K\n",
            "remote: Compressing objects: 100% (910/910), done.\u001b[K\n",
            "remote: Total 1509 (delta 606), reused 1477 (delta 578), pack-reused 0\u001b[K\n",
            "Receiving objects: 100% (1509/1509), 8.34 MiB | 18.01 MiB/s, done.\n",
            "Resolving deltas: 100% (606/606), done.\n"
          ]
        }
      ],
      "source": [
        "!git clone https://github.com/nczarli/f-jl221-2.git\n",
        "!git clone https://github.com/nczarli/PseCoCustomDataset.git"
      ]
    },
    {
      "cell_type": "code",
      "execution_count": 2,
      "metadata": {
        "colab": {
          "base_uri": "https://localhost:8080/"
        },
        "id": "XMYOPu7KgkRT",
        "outputId": "663efd22-b813-41f4-f040-341d041c64f7"
      },
      "outputs": [
        {
          "output_type": "stream",
          "name": "stdout",
          "text": [
            "\u001b[0m\u001b[01;34mf-jl221-2\u001b[0m/  \u001b[01;34mPseCoCustomDataset\u001b[0m/  \u001b[01;34msample_data\u001b[0m/\n"
          ]
        }
      ],
      "source": [
        "ls"
      ]
    },
    {
      "cell_type": "code",
      "execution_count": 3,
      "metadata": {
        "colab": {
          "base_uri": "https://localhost:8080/"
        },
        "id": "Snf7W3QwgpVI",
        "outputId": "39f1c15e-acba-4d89-e86f-5b1a74cff488"
      },
      "outputs": [
        {
          "output_type": "stream",
          "name": "stdout",
          "text": [
            "/content/PseCoCustomDataset\n"
          ]
        }
      ],
      "source": [
        "cd PseCoCustomDataset/"
      ]
    },
    {
      "cell_type": "code",
      "execution_count": 4,
      "metadata": {
        "colab": {
          "base_uri": "https://localhost:8080/"
        },
        "id": "4qycBW0-gp7m",
        "outputId": "28af0cb8-9b7e-4ac2-a68e-cd4c50b765be"
      },
      "outputs": [
        {
          "output_type": "stream",
          "name": "stdout",
          "text": [
            "\u001b[0m\u001b[01;34mconfigs\u001b[0m/  \u001b[01;34mdocs\u001b[0m/     README.md         \u001b[01;34mscripts\u001b[0m/  \u001b[01;34mssod\u001b[0m/        \u001b[01;34mtools\u001b[0m/\n",
            "\u001b[01;34mdemo\u001b[0m/     Makefile  requirements.txt  setup.py  \u001b[01;34mthirdparty\u001b[0m/\n"
          ]
        }
      ],
      "source": [
        "ls"
      ]
    },
    {
      "cell_type": "code",
      "execution_count": 5,
      "metadata": {
        "colab": {
          "base_uri": "https://localhost:8080/"
        },
        "id": "o4OgrbfPgr0g",
        "outputId": "3e021080-fab5-4c47-92ab-e0265eb40574"
      },
      "outputs": [
        {
          "output_type": "stream",
          "name": "stdout",
          "text": [
            "Looking in indexes: https://pypi.org/simple, https://us-python.pkg.dev/colab-wheels/public/simple/\n",
            "Looking in links: https://download.pytorch.org/whl/torch_stable.html\n",
            "Collecting torch==1.9.0+cu111\n",
            "  Downloading https://download.pytorch.org/whl/cu111/torch-1.9.0%2Bcu111-cp37-cp37m-linux_x86_64.whl (2041.3 MB)\n",
            "\u001b[K     |█████████████                   | 834.1 MB 1.3 MB/s eta 0:15:06tcmalloc: large alloc 1147494400 bytes == 0x3a55e000 @  0x7f59feacd615 0x58ead6 0x4f355e 0x4d222f 0x51041f 0x5b4ee6 0x58ff2e 0x510325 0x5b4ee6 0x58ff2e 0x50d482 0x4d00fb 0x50cb8d 0x4d00fb 0x50cb8d 0x4d00fb 0x50cb8d 0x4bac0a 0x538a76 0x590ae5 0x510280 0x5b4ee6 0x58ff2e 0x50d482 0x5b4ee6 0x58ff2e 0x50c4fc 0x58fd37 0x50ca37 0x5b4ee6 0x58ff2e\n",
            "\u001b[K     |████████████████▌               | 1055.7 MB 1.3 MB/s eta 0:13:07tcmalloc: large alloc 1434370048 bytes == 0x7ebb4000 @  0x7f59feacd615 0x58ead6 0x4f355e 0x4d222f 0x51041f 0x5b4ee6 0x58ff2e 0x510325 0x5b4ee6 0x58ff2e 0x50d482 0x4d00fb 0x50cb8d 0x4d00fb 0x50cb8d 0x4d00fb 0x50cb8d 0x4bac0a 0x538a76 0x590ae5 0x510280 0x5b4ee6 0x58ff2e 0x50d482 0x5b4ee6 0x58ff2e 0x50c4fc 0x58fd37 0x50ca37 0x5b4ee6 0x58ff2e\n",
            "\u001b[K     |█████████████████████           | 1336.2 MB 1.3 MB/s eta 0:09:00tcmalloc: large alloc 1792966656 bytes == 0x39e6000 @  0x7f59feacd615 0x58ead6 0x4f355e 0x4d222f 0x51041f 0x5b4ee6 0x58ff2e 0x510325 0x5b4ee6 0x58ff2e 0x50d482 0x4d00fb 0x50cb8d 0x4d00fb 0x50cb8d 0x4d00fb 0x50cb8d 0x4bac0a 0x538a76 0x590ae5 0x510280 0x5b4ee6 0x58ff2e 0x50d482 0x5b4ee6 0x58ff2e 0x50c4fc 0x58fd37 0x50ca37 0x5b4ee6 0x58ff2e\n",
            "\u001b[K     |██████████████████████████▌     | 1691.1 MB 1.2 MB/s eta 0:04:50tcmalloc: large alloc 2241208320 bytes == 0x6e7ce000 @  0x7f59feacd615 0x58ead6 0x4f355e 0x4d222f 0x51041f 0x5b4ee6 0x58ff2e 0x510325 0x5b4ee6 0x58ff2e 0x50d482 0x4d00fb 0x50cb8d 0x4d00fb 0x50cb8d 0x4d00fb 0x50cb8d 0x4bac0a 0x538a76 0x590ae5 0x510280 0x5b4ee6 0x58ff2e 0x50d482 0x5b4ee6 0x58ff2e 0x50c4fc 0x58fd37 0x50ca37 0x5b4ee6 0x58ff2e\n",
            "\u001b[K     |████████████████████████████████| 2041.3 MB 1.2 MB/s eta 0:00:01tcmalloc: large alloc 2041348096 bytes == 0xf4130000 @  0x7f59feacc1e7 0x4b2590 0x4b261c 0x58ead6 0x4f355e 0x4d222f 0x51041f 0x5b4ee6 0x58ff2e 0x50ca37 0x5b4ee6 0x58ff2e 0x50ca37 0x5b4ee6 0x58ff2e 0x50ca37 0x5b4ee6 0x58ff2e 0x50ca37 0x5b4ee6 0x58ff2e 0x50ca37 0x58fd37 0x50ca37 0x5b4ee6 0x58ff2e 0x50d482 0x5b4ee6 0x58ff2e 0x50d482 0x5b4ee6\n",
            "tcmalloc: large alloc 2551685120 bytes == 0x1e20b4000 @  0x7f59feacd615 0x58ead6 0x4f355e 0x4d222f 0x51041f 0x5b4ee6 0x58ff2e 0x50ca37 0x5b4ee6 0x58ff2e 0x50ca37 0x5b4ee6 0x58ff2e 0x50ca37 0x5b4ee6 0x58ff2e 0x50ca37 0x5b4ee6 0x58ff2e 0x50ca37 0x58fd37 0x50ca37 0x5b4ee6 0x58ff2e 0x50d482 0x5b4ee6 0x58ff2e 0x50d482 0x5b4ee6 0x4bad99 0x4d3249\n",
            "\u001b[K     |████████████████████████████████| 2041.3 MB 7.2 kB/s \n",
            "\u001b[?25hCollecting torchvision==0.10.0+cu111\n",
            "  Downloading https://download.pytorch.org/whl/cu111/torchvision-0.10.0%2Bcu111-cp37-cp37m-linux_x86_64.whl (23.2 MB)\n",
            "\u001b[K     |████████████████████████████████| 23.2 MB 1.6 MB/s \n",
            "\u001b[?25hCollecting torchaudio==0.9.0\n",
            "  Downloading torchaudio-0.9.0-cp37-cp37m-manylinux1_x86_64.whl (1.9 MB)\n",
            "\u001b[K     |████████████████████████████████| 1.9 MB 21.3 MB/s \n",
            "\u001b[?25hRequirement already satisfied: typing-extensions in /usr/local/lib/python3.7/dist-packages (from torch==1.9.0+cu111) (4.1.1)\n",
            "Requirement already satisfied: numpy in /usr/local/lib/python3.7/dist-packages (from torchvision==0.10.0+cu111) (1.21.6)\n",
            "Requirement already satisfied: pillow>=5.3.0 in /usr/local/lib/python3.7/dist-packages (from torchvision==0.10.0+cu111) (7.1.2)\n",
            "Installing collected packages: torch, torchvision, torchaudio\n",
            "  Attempting uninstall: torch\n",
            "    Found existing installation: torch 1.12.1+cu113\n",
            "    Uninstalling torch-1.12.1+cu113:\n",
            "      Successfully uninstalled torch-1.12.1+cu113\n",
            "  Attempting uninstall: torchvision\n",
            "    Found existing installation: torchvision 0.13.1+cu113\n",
            "    Uninstalling torchvision-0.13.1+cu113:\n",
            "      Successfully uninstalled torchvision-0.13.1+cu113\n",
            "  Attempting uninstall: torchaudio\n",
            "    Found existing installation: torchaudio 0.12.1+cu113\n",
            "    Uninstalling torchaudio-0.12.1+cu113:\n",
            "      Successfully uninstalled torchaudio-0.12.1+cu113\n",
            "\u001b[31mERROR: pip's dependency resolver does not currently take into account all the packages that are installed. This behaviour is the source of the following dependency conflicts.\n",
            "torchtext 0.13.1 requires torch==1.12.1, but you have torch 1.9.0+cu111 which is incompatible.\u001b[0m\n",
            "Successfully installed torch-1.9.0+cu111 torchaudio-0.9.0 torchvision-0.10.0+cu111\n"
          ]
        }
      ],
      "source": [
        "!pip install torch==1.9.0+cu111 torchvision==0.10.0+cu111 torchaudio==0.9.0 -f https://download.pytorch.org/whl/torch_stable.html"
      ]
    },
    {
      "cell_type": "code",
      "execution_count": 6,
      "metadata": {
        "colab": {
          "base_uri": "https://localhost:8080/"
        },
        "id": "qdcS4pH4gsU6",
        "outputId": "06864d84-58d6-49af-87dd-49ae4faa7e0b"
      },
      "outputs": [
        {
          "output_type": "stream",
          "name": "stdout",
          "text": [
            "Looking in indexes: https://pypi.org/simple, https://us-python.pkg.dev/colab-wheels/public/simple/\n",
            "Looking in links: https://download.openmmlab.com/mmcv/dist/cu111/torch1.9.0/index.html\n",
            "Collecting mmcv-full==1.3.17\n",
            "  Downloading https://download.openmmlab.com/mmcv/dist/cu111/torch1.9.0/mmcv_full-1.3.17-cp37-cp37m-manylinux1_x86_64.whl (50.4 MB)\n",
            "\u001b[K     |████████████████████████████████| 50.4 MB 2.5 MB/s \n",
            "\u001b[?25hRequirement already satisfied: pyyaml in /usr/local/lib/python3.7/dist-packages (from mmcv-full==1.3.17) (6.0)\n",
            "Requirement already satisfied: Pillow in /usr/local/lib/python3.7/dist-packages (from mmcv-full==1.3.17) (7.1.2)\n",
            "Requirement already satisfied: packaging in /usr/local/lib/python3.7/dist-packages (from mmcv-full==1.3.17) (21.3)\n",
            "Requirement already satisfied: numpy in /usr/local/lib/python3.7/dist-packages (from mmcv-full==1.3.17) (1.21.6)\n",
            "Collecting addict\n",
            "  Downloading addict-2.4.0-py3-none-any.whl (3.8 kB)\n",
            "Collecting yapf\n",
            "  Downloading yapf-0.32.0-py2.py3-none-any.whl (190 kB)\n",
            "\u001b[K     |████████████████████████████████| 190 kB 32.4 MB/s \n",
            "\u001b[?25hRequirement already satisfied: opencv-python>=3 in /usr/local/lib/python3.7/dist-packages (from mmcv-full==1.3.17) (4.6.0.66)\n",
            "Requirement already satisfied: pyparsing!=3.0.5,>=2.0.2 in /usr/local/lib/python3.7/dist-packages (from packaging->mmcv-full==1.3.17) (3.0.9)\n",
            "Installing collected packages: yapf, addict, mmcv-full\n",
            "Successfully installed addict-2.4.0 mmcv-full-1.3.17 yapf-0.32.0\n"
          ]
        }
      ],
      "source": [
        "pip install mmcv-full==1.3.17 -f https://download.openmmlab.com/mmcv/dist/cu111/torch1.9.0/index.html"
      ]
    },
    {
      "cell_type": "code",
      "execution_count": 7,
      "metadata": {
        "colab": {
          "base_uri": "https://localhost:8080/"
        },
        "id": "nQdDJWMvn4SC",
        "outputId": "6c6da8e1-2ee8-4258-b54f-14a535d8e7a9"
      },
      "outputs": [
        {
          "output_type": "stream",
          "name": "stdout",
          "text": [
            "Looking in indexes: https://pypi.org/simple, https://us-python.pkg.dev/colab-wheels/public/simple/\n",
            "Requirement already satisfied: torch in /usr/local/lib/python3.7/dist-packages (from -r requirements.txt (line 1)) (1.9.0+cu111)\n",
            "Requirement already satisfied: torchvision in /usr/local/lib/python3.7/dist-packages (from -r requirements.txt (line 2)) (0.10.0+cu111)\n",
            "Requirement already satisfied: mmcv-full in /usr/local/lib/python3.7/dist-packages (from -r requirements.txt (line 3)) (1.3.17)\n",
            "Collecting wandb\n",
            "  Downloading wandb-0.13.5-py2.py3-none-any.whl (1.9 MB)\n",
            "\u001b[K     |████████████████████████████████| 1.9 MB 26.9 MB/s \n",
            "\u001b[?25hRequirement already satisfied: prettytable in /usr/local/lib/python3.7/dist-packages (from -r requirements.txt (line 5)) (3.5.0)\n",
            "Requirement already satisfied: typing-extensions in /usr/local/lib/python3.7/dist-packages (from torch->-r requirements.txt (line 1)) (4.1.1)\n",
            "Requirement already satisfied: numpy in /usr/local/lib/python3.7/dist-packages (from torchvision->-r requirements.txt (line 2)) (1.21.6)\n",
            "Requirement already satisfied: pillow>=5.3.0 in /usr/local/lib/python3.7/dist-packages (from torchvision->-r requirements.txt (line 2)) (7.1.2)\n",
            "Requirement already satisfied: opencv-python>=3 in /usr/local/lib/python3.7/dist-packages (from mmcv-full->-r requirements.txt (line 3)) (4.6.0.66)\n",
            "Requirement already satisfied: yapf in /usr/local/lib/python3.7/dist-packages (from mmcv-full->-r requirements.txt (line 3)) (0.32.0)\n",
            "Requirement already satisfied: packaging in /usr/local/lib/python3.7/dist-packages (from mmcv-full->-r requirements.txt (line 3)) (21.3)\n",
            "Requirement already satisfied: pyyaml in /usr/local/lib/python3.7/dist-packages (from mmcv-full->-r requirements.txt (line 3)) (6.0)\n",
            "Requirement already satisfied: addict in /usr/local/lib/python3.7/dist-packages (from mmcv-full->-r requirements.txt (line 3)) (2.4.0)\n",
            "Requirement already satisfied: Click!=8.0.0,>=7.0 in /usr/local/lib/python3.7/dist-packages (from wandb->-r requirements.txt (line 4)) (7.1.2)\n",
            "Requirement already satisfied: protobuf!=4.0.*,!=4.21.0,<5,>=3.12.0 in /usr/local/lib/python3.7/dist-packages (from wandb->-r requirements.txt (line 4)) (3.19.6)\n",
            "Collecting docker-pycreds>=0.4.0\n",
            "  Downloading docker_pycreds-0.4.0-py2.py3-none-any.whl (9.0 kB)\n",
            "Collecting pathtools\n",
            "  Downloading pathtools-0.1.2.tar.gz (11 kB)\n",
            "Requirement already satisfied: psutil>=5.0.0 in /usr/local/lib/python3.7/dist-packages (from wandb->-r requirements.txt (line 4)) (5.4.8)\n",
            "Requirement already satisfied: promise<3,>=2.0 in /usr/local/lib/python3.7/dist-packages (from wandb->-r requirements.txt (line 4)) (2.3)\n",
            "Collecting setproctitle\n",
            "  Downloading setproctitle-1.3.2-cp37-cp37m-manylinux_2_5_x86_64.manylinux1_x86_64.manylinux_2_17_x86_64.manylinux2014_x86_64.whl (30 kB)\n",
            "Collecting GitPython>=1.0.0\n",
            "  Downloading GitPython-3.1.29-py3-none-any.whl (182 kB)\n",
            "\u001b[K     |████████████████████████████████| 182 kB 54.4 MB/s \n",
            "\u001b[?25hCollecting shortuuid>=0.5.0\n",
            "  Downloading shortuuid-1.0.11-py3-none-any.whl (10 kB)\n",
            "Requirement already satisfied: setuptools in /usr/local/lib/python3.7/dist-packages (from wandb->-r requirements.txt (line 4)) (57.4.0)\n",
            "Requirement already satisfied: six>=1.13.0 in /usr/local/lib/python3.7/dist-packages (from wandb->-r requirements.txt (line 4)) (1.15.0)\n",
            "Collecting sentry-sdk>=1.0.0\n",
            "  Downloading sentry_sdk-1.11.1-py2.py3-none-any.whl (168 kB)\n",
            "\u001b[K     |████████████████████████████████| 168 kB 59.3 MB/s \n",
            "\u001b[?25hRequirement already satisfied: requests<3,>=2.0.0 in /usr/local/lib/python3.7/dist-packages (from wandb->-r requirements.txt (line 4)) (2.23.0)\n",
            "Collecting gitdb<5,>=4.0.1\n",
            "  Downloading gitdb-4.0.10-py3-none-any.whl (62 kB)\n",
            "\u001b[K     |████████████████████████████████| 62 kB 1.7 MB/s \n",
            "\u001b[?25hCollecting smmap<6,>=3.0.1\n",
            "  Downloading smmap-5.0.0-py3-none-any.whl (24 kB)\n",
            "Requirement already satisfied: idna<3,>=2.5 in /usr/local/lib/python3.7/dist-packages (from requests<3,>=2.0.0->wandb->-r requirements.txt (line 4)) (2.10)\n",
            "Requirement already satisfied: urllib3!=1.25.0,!=1.25.1,<1.26,>=1.21.1 in /usr/local/lib/python3.7/dist-packages (from requests<3,>=2.0.0->wandb->-r requirements.txt (line 4)) (1.24.3)\n",
            "Requirement already satisfied: chardet<4,>=3.0.2 in /usr/local/lib/python3.7/dist-packages (from requests<3,>=2.0.0->wandb->-r requirements.txt (line 4)) (3.0.4)\n",
            "Requirement already satisfied: certifi>=2017.4.17 in /usr/local/lib/python3.7/dist-packages (from requests<3,>=2.0.0->wandb->-r requirements.txt (line 4)) (2022.9.24)\n",
            "Collecting sentry-sdk>=1.0.0\n",
            "  Downloading sentry_sdk-1.11.0-py2.py3-none-any.whl (168 kB)\n",
            "\u001b[K     |████████████████████████████████| 168 kB 52.8 MB/s \n",
            "\u001b[?25h  Downloading sentry_sdk-1.10.1-py2.py3-none-any.whl (166 kB)\n",
            "\u001b[K     |████████████████████████████████| 166 kB 30.5 MB/s \n",
            "\u001b[?25h  Downloading sentry_sdk-1.10.0-py2.py3-none-any.whl (166 kB)\n",
            "\u001b[K     |████████████████████████████████| 166 kB 57.3 MB/s \n",
            "\u001b[?25h  Downloading sentry_sdk-1.9.10-py2.py3-none-any.whl (162 kB)\n",
            "\u001b[K     |████████████████████████████████| 162 kB 56.7 MB/s \n",
            "\u001b[?25h  Downloading sentry_sdk-1.9.9-py2.py3-none-any.whl (162 kB)\n",
            "\u001b[K     |████████████████████████████████| 162 kB 60.2 MB/s \n",
            "\u001b[?25h  Downloading sentry_sdk-1.9.8-py2.py3-none-any.whl (158 kB)\n",
            "\u001b[K     |████████████████████████████████| 158 kB 52.9 MB/s \n",
            "\u001b[?25h  Downloading sentry_sdk-1.9.7-py2.py3-none-any.whl (157 kB)\n",
            "\u001b[K     |████████████████████████████████| 157 kB 56.2 MB/s \n",
            "\u001b[?25h  Downloading sentry_sdk-1.9.6-py2.py3-none-any.whl (157 kB)\n",
            "\u001b[K     |████████████████████████████████| 157 kB 62.7 MB/s \n",
            "\u001b[?25h  Downloading sentry_sdk-1.9.5-py2.py3-none-any.whl (157 kB)\n",
            "\u001b[K     |████████████████████████████████| 157 kB 25.0 MB/s \n",
            "\u001b[?25h  Downloading sentry_sdk-1.9.4-py2.py3-none-any.whl (157 kB)\n",
            "\u001b[K     |████████████████████████████████| 157 kB 59.1 MB/s \n",
            "\u001b[?25h  Downloading sentry_sdk-1.9.3-py2.py3-none-any.whl (157 kB)\n",
            "\u001b[K     |████████████████████████████████| 157 kB 61.1 MB/s \n",
            "\u001b[?25h  Downloading sentry_sdk-1.9.2-py2.py3-none-any.whl (157 kB)\n",
            "\u001b[K     |████████████████████████████████| 157 kB 66.0 MB/s \n",
            "\u001b[?25h  Downloading sentry_sdk-1.9.1-py2.py3-none-any.whl (157 kB)\n",
            "\u001b[K     |████████████████████████████████| 157 kB 57.3 MB/s \n",
            "\u001b[?25h  Downloading sentry_sdk-1.9.0-py2.py3-none-any.whl (156 kB)\n",
            "\u001b[K     |████████████████████████████████| 156 kB 54.8 MB/s \n",
            "\u001b[?25hRequirement already satisfied: wcwidth in /usr/local/lib/python3.7/dist-packages (from prettytable->-r requirements.txt (line 5)) (0.2.5)\n",
            "Requirement already satisfied: importlib-metadata in /usr/local/lib/python3.7/dist-packages (from prettytable->-r requirements.txt (line 5)) (4.13.0)\n",
            "Requirement already satisfied: zipp>=0.5 in /usr/local/lib/python3.7/dist-packages (from importlib-metadata->prettytable->-r requirements.txt (line 5)) (3.10.0)\n",
            "Requirement already satisfied: pyparsing!=3.0.5,>=2.0.2 in /usr/local/lib/python3.7/dist-packages (from packaging->mmcv-full->-r requirements.txt (line 3)) (3.0.9)\n",
            "Building wheels for collected packages: pathtools\n",
            "  Building wheel for pathtools (setup.py) ... \u001b[?25l\u001b[?25hdone\n",
            "  Created wheel for pathtools: filename=pathtools-0.1.2-py3-none-any.whl size=8806 sha256=88004c58263bc6c26e0282ff602615d740976b54cd956137e7916f4856029123\n",
            "  Stored in directory: /root/.cache/pip/wheels/3e/31/09/fa59cef12cdcfecc627b3d24273699f390e71828921b2cbba2\n",
            "Successfully built pathtools\n",
            "Installing collected packages: smmap, gitdb, shortuuid, setproctitle, sentry-sdk, pathtools, GitPython, docker-pycreds, wandb\n",
            "Successfully installed GitPython-3.1.29 docker-pycreds-0.4.0 gitdb-4.0.10 pathtools-0.1.2 sentry-sdk-1.9.0 setproctitle-1.3.2 shortuuid-1.0.11 smmap-5.0.0 wandb-0.13.5\n"
          ]
        }
      ],
      "source": [
        "pip install -r requirements.txt"
      ]
    },
    {
      "cell_type": "code",
      "execution_count": 8,
      "metadata": {
        "colab": {
          "base_uri": "https://localhost:8080/"
        },
        "id": "UeIaEJQtn8QA",
        "outputId": "e0777807-6437-43d6-9eed-18a4be6c198a"
      },
      "outputs": [
        {
          "output_type": "stream",
          "name": "stdout",
          "text": [
            "/content/PseCoCustomDataset/thirdparty/mmdetection\n"
          ]
        }
      ],
      "source": [
        "cd thirdparty/mmdetection"
      ]
    },
    {
      "cell_type": "code",
      "execution_count": 9,
      "metadata": {
        "colab": {
          "base_uri": "https://localhost:8080/"
        },
        "id": "7fHHkRQqoDLn",
        "outputId": "42abcea7-16b8-45c5-e28d-cc3e0e58a4ce"
      },
      "outputs": [
        {
          "output_type": "stream",
          "name": "stdout",
          "text": [
            "Looking in indexes: https://pypi.org/simple, https://us-python.pkg.dev/colab-wheels/public/simple/\n",
            "Obtaining file:///content/PseCoCustomDataset/thirdparty/mmdetection\n",
            "Requirement already satisfied: matplotlib in /usr/local/lib/python3.7/dist-packages (from mmdet==2.16.0) (3.2.2)\n",
            "Requirement already satisfied: numpy in /usr/local/lib/python3.7/dist-packages (from mmdet==2.16.0) (1.21.6)\n",
            "Requirement already satisfied: six in /usr/local/lib/python3.7/dist-packages (from mmdet==2.16.0) (1.15.0)\n",
            "Collecting terminaltables\n",
            "  Downloading terminaltables-3.1.10-py2.py3-none-any.whl (15 kB)\n",
            "Requirement already satisfied: pycocotools in /usr/local/lib/python3.7/dist-packages (from mmdet==2.16.0) (2.0.6)\n",
            "Requirement already satisfied: python-dateutil>=2.1 in /usr/local/lib/python3.7/dist-packages (from matplotlib->mmdet==2.16.0) (2.8.2)\n",
            "Requirement already satisfied: cycler>=0.10 in /usr/local/lib/python3.7/dist-packages (from matplotlib->mmdet==2.16.0) (0.11.0)\n",
            "Requirement already satisfied: kiwisolver>=1.0.1 in /usr/local/lib/python3.7/dist-packages (from matplotlib->mmdet==2.16.0) (1.4.4)\n",
            "Requirement already satisfied: pyparsing!=2.0.4,!=2.1.2,!=2.1.6,>=2.0.1 in /usr/local/lib/python3.7/dist-packages (from matplotlib->mmdet==2.16.0) (3.0.9)\n",
            "Requirement already satisfied: typing-extensions in /usr/local/lib/python3.7/dist-packages (from kiwisolver>=1.0.1->matplotlib->mmdet==2.16.0) (4.1.1)\n",
            "Installing collected packages: terminaltables, mmdet\n",
            "  Running setup.py develop for mmdet\n",
            "Successfully installed mmdet-2.16.0 terminaltables-3.1.10\n"
          ]
        }
      ],
      "source": [
        "!pip install -e ."
      ]
    },
    {
      "cell_type": "code",
      "execution_count": 10,
      "metadata": {
        "colab": {
          "base_uri": "https://localhost:8080/"
        },
        "id": "vZB86KR2n-h-",
        "outputId": "1c96cf16-9101-4281-c9f8-698128364df4"
      },
      "outputs": [
        {
          "output_type": "stream",
          "name": "stdout",
          "text": [
            "/content/PseCoCustomDataset\n"
          ]
        }
      ],
      "source": [
        "cd /content/PseCoCustomDataset"
      ]
    },
    {
      "cell_type": "code",
      "execution_count": 11,
      "metadata": {
        "colab": {
          "base_uri": "https://localhost:8080/"
        },
        "id": "OyJdChAEoKNU",
        "outputId": "53b00b9f-3149-498b-d74a-49c52dde5ee7"
      },
      "outputs": [
        {
          "output_type": "stream",
          "name": "stdout",
          "text": [
            "Looking in indexes: https://pypi.org/simple, https://us-python.pkg.dev/colab-wheels/public/simple/\n",
            "Obtaining file:///content/PseCoCustomDataset\n",
            "Requirement already satisfied: torch in /usr/local/lib/python3.7/dist-packages (from ssod==0.0.1) (1.9.0+cu111)\n",
            "Requirement already satisfied: torchvision in /usr/local/lib/python3.7/dist-packages (from ssod==0.0.1) (0.10.0+cu111)\n",
            "Requirement already satisfied: mmcv-full in /usr/local/lib/python3.7/dist-packages (from ssod==0.0.1) (1.3.17)\n",
            "Requirement already satisfied: wandb in /usr/local/lib/python3.7/dist-packages (from ssod==0.0.1) (0.13.5)\n",
            "Requirement already satisfied: prettytable in /usr/local/lib/python3.7/dist-packages (from ssod==0.0.1) (3.5.0)\n",
            "Requirement already satisfied: Pillow in /usr/local/lib/python3.7/dist-packages (from mmcv-full->ssod==0.0.1) (7.1.2)\n",
            "Requirement already satisfied: addict in /usr/local/lib/python3.7/dist-packages (from mmcv-full->ssod==0.0.1) (2.4.0)\n",
            "Requirement already satisfied: numpy in /usr/local/lib/python3.7/dist-packages (from mmcv-full->ssod==0.0.1) (1.21.6)\n",
            "Requirement already satisfied: yapf in /usr/local/lib/python3.7/dist-packages (from mmcv-full->ssod==0.0.1) (0.32.0)\n",
            "Requirement already satisfied: pyyaml in /usr/local/lib/python3.7/dist-packages (from mmcv-full->ssod==0.0.1) (6.0)\n",
            "Requirement already satisfied: opencv-python>=3 in /usr/local/lib/python3.7/dist-packages (from mmcv-full->ssod==0.0.1) (4.6.0.66)\n",
            "Requirement already satisfied: packaging in /usr/local/lib/python3.7/dist-packages (from mmcv-full->ssod==0.0.1) (21.3)\n",
            "Requirement already satisfied: pyparsing!=3.0.5,>=2.0.2 in /usr/local/lib/python3.7/dist-packages (from packaging->mmcv-full->ssod==0.0.1) (3.0.9)\n",
            "Requirement already satisfied: wcwidth in /usr/local/lib/python3.7/dist-packages (from prettytable->ssod==0.0.1) (0.2.5)\n",
            "Requirement already satisfied: importlib-metadata in /usr/local/lib/python3.7/dist-packages (from prettytable->ssod==0.0.1) (4.13.0)\n",
            "Requirement already satisfied: typing-extensions>=3.6.4 in /usr/local/lib/python3.7/dist-packages (from importlib-metadata->prettytable->ssod==0.0.1) (4.1.1)\n",
            "Requirement already satisfied: zipp>=0.5 in /usr/local/lib/python3.7/dist-packages (from importlib-metadata->prettytable->ssod==0.0.1) (3.10.0)\n",
            "Requirement already satisfied: sentry-sdk>=1.0.0 in /usr/local/lib/python3.7/dist-packages (from wandb->ssod==0.0.1) (1.9.0)\n",
            "Requirement already satisfied: protobuf!=4.0.*,!=4.21.0,<5,>=3.12.0 in /usr/local/lib/python3.7/dist-packages (from wandb->ssod==0.0.1) (3.19.6)\n",
            "Requirement already satisfied: setproctitle in /usr/local/lib/python3.7/dist-packages (from wandb->ssod==0.0.1) (1.3.2)\n",
            "Requirement already satisfied: psutil>=5.0.0 in /usr/local/lib/python3.7/dist-packages (from wandb->ssod==0.0.1) (5.4.8)\n",
            "Requirement already satisfied: six>=1.13.0 in /usr/local/lib/python3.7/dist-packages (from wandb->ssod==0.0.1) (1.15.0)\n",
            "Requirement already satisfied: Click!=8.0.0,>=7.0 in /usr/local/lib/python3.7/dist-packages (from wandb->ssod==0.0.1) (7.1.2)\n",
            "Requirement already satisfied: setuptools in /usr/local/lib/python3.7/dist-packages (from wandb->ssod==0.0.1) (57.4.0)\n",
            "Requirement already satisfied: promise<3,>=2.0 in /usr/local/lib/python3.7/dist-packages (from wandb->ssod==0.0.1) (2.3)\n",
            "Requirement already satisfied: requests<3,>=2.0.0 in /usr/local/lib/python3.7/dist-packages (from wandb->ssod==0.0.1) (2.23.0)\n",
            "Requirement already satisfied: GitPython>=1.0.0 in /usr/local/lib/python3.7/dist-packages (from wandb->ssod==0.0.1) (3.1.29)\n",
            "Requirement already satisfied: shortuuid>=0.5.0 in /usr/local/lib/python3.7/dist-packages (from wandb->ssod==0.0.1) (1.0.11)\n",
            "Requirement already satisfied: docker-pycreds>=0.4.0 in /usr/local/lib/python3.7/dist-packages (from wandb->ssod==0.0.1) (0.4.0)\n",
            "Requirement already satisfied: pathtools in /usr/local/lib/python3.7/dist-packages (from wandb->ssod==0.0.1) (0.1.2)\n",
            "Requirement already satisfied: gitdb<5,>=4.0.1 in /usr/local/lib/python3.7/dist-packages (from GitPython>=1.0.0->wandb->ssod==0.0.1) (4.0.10)\n",
            "Requirement already satisfied: smmap<6,>=3.0.1 in /usr/local/lib/python3.7/dist-packages (from gitdb<5,>=4.0.1->GitPython>=1.0.0->wandb->ssod==0.0.1) (5.0.0)\n",
            "Requirement already satisfied: urllib3!=1.25.0,!=1.25.1,<1.26,>=1.21.1 in /usr/local/lib/python3.7/dist-packages (from requests<3,>=2.0.0->wandb->ssod==0.0.1) (1.24.3)\n",
            "Requirement already satisfied: idna<3,>=2.5 in /usr/local/lib/python3.7/dist-packages (from requests<3,>=2.0.0->wandb->ssod==0.0.1) (2.10)\n",
            "Requirement already satisfied: chardet<4,>=3.0.2 in /usr/local/lib/python3.7/dist-packages (from requests<3,>=2.0.0->wandb->ssod==0.0.1) (3.0.4)\n",
            "Requirement already satisfied: certifi>=2017.4.17 in /usr/local/lib/python3.7/dist-packages (from requests<3,>=2.0.0->wandb->ssod==0.0.1) (2022.9.24)\n",
            "Installing collected packages: ssod\n",
            "  Running setup.py develop for ssod\n",
            "Successfully installed ssod-0.0.1\n"
          ]
        }
      ],
      "source": [
        "!pip install -e ."
      ]
    },
    {
      "cell_type": "code",
      "execution_count": 11,
      "metadata": {
        "id": "TrdqxrKLn2Vv"
      },
      "outputs": [],
      "source": []
    },
    {
      "cell_type": "code",
      "execution_count": 12,
      "metadata": {
        "colab": {
          "base_uri": "https://localhost:8080/"
        },
        "id": "uqB0vg0skLOp",
        "outputId": "86a0d938-206e-4cd9-d6fb-6f0f76b27747"
      },
      "outputs": [
        {
          "output_type": "stream",
          "name": "stdout",
          "text": [
            "\u001b[0m\u001b[01;34mconfigs\u001b[0m/  \u001b[01;34mdocs\u001b[0m/     README.md         \u001b[01;34mscripts\u001b[0m/  \u001b[01;34mssod\u001b[0m/           \u001b[01;34mthirdparty\u001b[0m/\n",
            "\u001b[01;34mdemo\u001b[0m/     Makefile  requirements.txt  setup.py  \u001b[01;34mssod.egg-info\u001b[0m/  \u001b[01;34mtools\u001b[0m/\n"
          ]
        }
      ],
      "source": [
        "ls"
      ]
    },
    {
      "cell_type": "code",
      "execution_count": 13,
      "metadata": {
        "colab": {
          "base_uri": "https://localhost:8080/"
        },
        "id": "6n_6T5hAknF9",
        "outputId": "3ae01799-073f-4646-b2d1-ea400bf5f1f2"
      },
      "outputs": [
        {
          "output_type": "stream",
          "name": "stdout",
          "text": [
            "/content\n"
          ]
        }
      ],
      "source": [
        "cd .."
      ]
    },
    {
      "cell_type": "code",
      "execution_count": 14,
      "metadata": {
        "id": "edKnavReg0rs"
      },
      "outputs": [],
      "source": [
        "!cp -R f-jl221-2/labels_generated/ PseCoCustomDataset/labels_generated"
      ]
    },
    {
      "cell_type": "code",
      "execution_count": 15,
      "metadata": {
        "colab": {
          "base_uri": "https://localhost:8080/"
        },
        "id": "eWUIxYdMg2r8",
        "outputId": "468e775d-b08b-444f-fffc-f42e01145871"
      },
      "outputs": [
        {
          "output_type": "stream",
          "name": "stdout",
          "text": [
            "/content/PseCoCustomDataset\n"
          ]
        }
      ],
      "source": [
        "cd PseCoCustomDataset/"
      ]
    },
    {
      "cell_type": "code",
      "execution_count": 16,
      "metadata": {
        "colab": {
          "base_uri": "https://localhost:8080/"
        },
        "id": "1L2y_PIyg3zd",
        "outputId": "08a498d0-598b-479c-e4fb-b818de2109c3"
      },
      "outputs": [
        {
          "output_type": "stream",
          "name": "stdout",
          "text": [
            "\u001b[0m\u001b[01;34mconfigs\u001b[0m/  \u001b[01;34mlabels_generated\u001b[0m/  requirements.txt  \u001b[01;34mssod\u001b[0m/           \u001b[01;34mtools\u001b[0m/\n",
            "\u001b[01;34mdemo\u001b[0m/     Makefile           \u001b[01;34mscripts\u001b[0m/          \u001b[01;34mssod.egg-info\u001b[0m/\n",
            "\u001b[01;34mdocs\u001b[0m/     README.md          setup.py          \u001b[01;34mthirdparty\u001b[0m/\n"
          ]
        }
      ],
      "source": [
        "ls"
      ]
    },
    {
      "cell_type": "markdown",
      "metadata": {
        "id": "ZyVCDbcrg85n"
      },
      "source": [
        "# Image Processing"
      ]
    },
    {
      "cell_type": "code",
      "execution_count": 17,
      "metadata": {
        "colab": {
          "base_uri": "https://localhost:8080/"
        },
        "id": "8huObMKyg45e",
        "outputId": "a4f3fe46-e88c-4d6d-af54-e526dda3bbde"
      },
      "outputs": [
        {
          "output_type": "stream",
          "name": "stdout",
          "text": [
            "167\n",
            "(500, 448)\n",
            "(750, 448)\n",
            "(500, 448)\n",
            "(750, 448)\n",
            "(500, 448)\n",
            "(750, 448)\n",
            "(500, 448)\n",
            "(750, 448)\n",
            "(500, 448)\n",
            "(750, 448)\n",
            "(500, 448)\n",
            "(750, 448)\n",
            "(500, 448)\n",
            "(750, 448)\n",
            "(500, 448)\n",
            "(750, 448)\n",
            "(500, 448)\n",
            "(750, 448)\n",
            "(500, 448)\n",
            "(750, 448)\n",
            "(500, 448)\n",
            "(750, 448)\n",
            "(500, 448)\n",
            "(750, 448)\n",
            "(500, 448)\n",
            "(750, 448)\n",
            "(500, 448)\n",
            "(750, 448)\n",
            "(500, 448)\n",
            "(750, 448)\n",
            "(500, 448)\n",
            "(750, 448)\n",
            "(500, 448)\n",
            "(750, 448)\n",
            "(500, 448)\n",
            "(750, 448)\n",
            "(500, 448)\n",
            "(750, 448)\n",
            "(500, 448)\n",
            "(750, 448)\n",
            "(500, 448)\n",
            "(750, 448)\n",
            "(500, 448)\n",
            "(750, 448)\n",
            "(500, 448)\n",
            "(750, 448)\n",
            "(500, 448)\n",
            "(750, 448)\n",
            "(500, 448)\n",
            "(750, 448)\n",
            "(500, 448)\n",
            "(750, 448)\n",
            "(500, 448)\n",
            "(750, 448)\n",
            "(500, 448)\n",
            "(750, 448)\n",
            "(500, 448)\n",
            "(750, 448)\n",
            "(500, 448)\n",
            "(750, 448)\n",
            "(500, 448)\n",
            "(750, 448)\n",
            "(500, 448)\n",
            "(750, 448)\n",
            "(500, 448)\n",
            "(750, 448)\n",
            "(500, 448)\n",
            "(750, 448)\n",
            "(500, 448)\n",
            "(750, 448)\n",
            "(500, 448)\n",
            "(750, 448)\n",
            "(500, 448)\n",
            "(750, 448)\n",
            "(500, 448)\n",
            "(750, 448)\n",
            "(500, 448)\n",
            "(750, 448)\n",
            "(500, 448)\n",
            "(750, 448)\n",
            "(500, 448)\n",
            "(750, 448)\n",
            "(500, 448)\n",
            "(750, 448)\n",
            "(500, 448)\n",
            "(750, 448)\n",
            "(500, 448)\n",
            "(750, 448)\n",
            "(500, 448)\n",
            "(750, 448)\n",
            "(500, 448)\n",
            "(750, 448)\n",
            "(500, 448)\n",
            "(750, 448)\n",
            "(500, 448)\n",
            "(750, 448)\n",
            "(500, 448)\n",
            "(750, 448)\n",
            "(500, 448)\n",
            "(750, 448)\n",
            "(500, 448)\n",
            "(750, 448)\n",
            "(500, 448)\n",
            "(750, 448)\n",
            "(500, 448)\n",
            "(750, 448)\n",
            "(500, 448)\n",
            "(750, 448)\n",
            "(500, 448)\n",
            "(750, 448)\n",
            "(500, 448)\n",
            "(750, 448)\n",
            "(500, 448)\n",
            "(750, 448)\n",
            "(500, 448)\n",
            "(750, 448)\n",
            "(500, 448)\n",
            "(750, 448)\n",
            "(500, 448)\n",
            "(750, 448)\n",
            "(500, 448)\n",
            "(750, 448)\n",
            "(500, 448)\n",
            "(750, 448)\n",
            "(500, 448)\n",
            "(750, 448)\n",
            "(500, 448)\n",
            "(750, 448)\n",
            "(500, 448)\n",
            "(750, 448)\n",
            "(500, 448)\n",
            "(750, 448)\n",
            "(500, 448)\n",
            "(750, 448)\n",
            "(500, 448)\n",
            "(750, 448)\n",
            "(500, 448)\n",
            "(750, 448)\n",
            "(500, 448)\n",
            "(750, 448)\n",
            "(500, 448)\n",
            "(750, 448)\n",
            "(500, 448)\n",
            "(750, 448)\n",
            "(500, 448)\n",
            "(750, 448)\n",
            "(500, 448)\n",
            "(750, 448)\n",
            "(500, 448)\n",
            "(750, 448)\n",
            "(500, 448)\n",
            "(750, 448)\n",
            "(500, 448)\n",
            "(750, 448)\n",
            "(500, 448)\n",
            "(750, 448)\n",
            "(500, 448)\n",
            "(750, 448)\n",
            "(500, 448)\n",
            "(750, 448)\n",
            "(500, 448)\n",
            "(750, 448)\n",
            "(500, 448)\n",
            "(750, 448)\n",
            "(500, 448)\n",
            "(750, 448)\n",
            "(500, 448)\n",
            "(750, 448)\n",
            "(500, 448)\n",
            "(750, 448)\n",
            "(500, 448)\n",
            "(750, 448)\n",
            "(500, 448)\n",
            "(750, 448)\n",
            "(500, 448)\n",
            "(750, 448)\n",
            "(500, 448)\n",
            "(750, 448)\n",
            "(500, 448)\n",
            "(750, 448)\n",
            "(500, 448)\n",
            "(750, 448)\n",
            "(500, 448)\n",
            "(750, 448)\n",
            "(500, 448)\n",
            "(750, 448)\n",
            "(500, 448)\n",
            "(750, 448)\n",
            "(500, 448)\n",
            "(750, 448)\n",
            "(500, 448)\n",
            "(750, 448)\n",
            "(500, 448)\n",
            "(750, 448)\n",
            "(500, 448)\n",
            "(750, 448)\n",
            "(500, 448)\n",
            "(750, 448)\n",
            "(500, 448)\n",
            "(750, 448)\n",
            "(500, 448)\n",
            "(750, 448)\n",
            "(500, 448)\n",
            "(750, 448)\n",
            "(500, 448)\n",
            "(750, 448)\n",
            "(500, 448)\n",
            "(750, 448)\n",
            "(500, 448)\n",
            "(750, 448)\n",
            "(500, 448)\n",
            "(750, 448)\n",
            "(500, 448)\n",
            "(750, 448)\n",
            "(500, 448)\n",
            "(750, 448)\n",
            "(500, 448)\n",
            "(750, 448)\n",
            "(500, 448)\n",
            "(750, 448)\n",
            "(500, 448)\n",
            "(750, 448)\n",
            "(500, 448)\n",
            "(750, 448)\n",
            "(500, 448)\n",
            "(750, 448)\n",
            "(500, 448)\n",
            "(750, 448)\n",
            "(500, 448)\n",
            "(750, 448)\n",
            "(500, 448)\n",
            "(750, 448)\n",
            "(500, 448)\n",
            "(750, 448)\n",
            "(500, 448)\n",
            "(750, 448)\n",
            "(500, 448)\n",
            "(750, 448)\n",
            "(500, 448)\n",
            "(750, 448)\n",
            "(500, 448)\n",
            "(750, 448)\n",
            "(500, 448)\n",
            "(750, 448)\n",
            "(500, 448)\n",
            "(750, 448)\n",
            "(500, 448)\n",
            "(750, 448)\n",
            "(500, 448)\n",
            "(750, 448)\n",
            "(500, 448)\n",
            "(750, 448)\n",
            "(500, 448)\n",
            "(750, 448)\n",
            "(500, 448)\n",
            "(750, 448)\n",
            "(500, 448)\n",
            "(750, 448)\n",
            "(500, 448)\n",
            "(750, 448)\n",
            "(500, 448)\n",
            "(750, 448)\n",
            "(500, 448)\n",
            "(750, 448)\n",
            "(500, 448)\n",
            "(750, 448)\n",
            "(500, 448)\n",
            "(750, 448)\n",
            "(500, 448)\n",
            "(750, 448)\n",
            "(500, 448)\n",
            "(750, 448)\n",
            "(500, 448)\n",
            "(750, 448)\n",
            "(500, 448)\n",
            "(750, 448)\n",
            "(500, 448)\n",
            "(750, 448)\n",
            "(500, 448)\n",
            "(750, 448)\n",
            "(500, 448)\n",
            "(750, 448)\n",
            "(500, 448)\n",
            "(750, 448)\n",
            "(500, 448)\n",
            "(750, 448)\n",
            "(500, 448)\n",
            "(750, 448)\n",
            "(500, 448)\n",
            "(750, 448)\n",
            "(500, 448)\n",
            "(750, 448)\n",
            "(500, 448)\n",
            "(750, 448)\n",
            "(500, 448)\n",
            "(750, 448)\n",
            "(500, 448)\n",
            "(750, 448)\n",
            "(500, 448)\n",
            "(750, 448)\n",
            "(500, 448)\n",
            "(750, 448)\n",
            "(500, 448)\n",
            "(750, 448)\n",
            "(500, 448)\n",
            "(750, 448)\n",
            "(500, 448)\n",
            "(750, 448)\n",
            "(500, 448)\n",
            "(750, 448)\n",
            "(500, 448)\n",
            "(750, 448)\n",
            "(500, 448)\n",
            "(750, 448)\n",
            "(500, 448)\n",
            "(750, 448)\n",
            "(500, 448)\n",
            "(750, 448)\n",
            "(500, 448)\n",
            "(750, 448)\n",
            "(500, 448)\n",
            "(750, 448)\n",
            "(500, 448)\n",
            "(750, 448)\n",
            "(500, 448)\n",
            "(750, 448)\n",
            "(500, 448)\n",
            "(750, 448)\n",
            "(500, 448)\n",
            "(750, 448)\n",
            "(500, 448)\n",
            "(750, 448)\n",
            "(500, 448)\n",
            "(750, 448)\n"
          ]
        }
      ],
      "source": [
        "# Preprocess the images, scale y axis by 1.5\n",
        "\n",
        "# find all bmp images in labels_generated folder\n",
        "# for each image resize y axis by 1.5 times and overwrite the image\n",
        "\n",
        "import os\n",
        "import cv2\n",
        "import numpy as np\n",
        "\n",
        "# get all bmp files in labels_generated and subfolders\n",
        "bmp_files = []\n",
        "\n",
        "for root, dirs, files in os.walk(\"labels_generated\"):\n",
        "    for file in files:\n",
        "        if file.endswith(\".bmp\"):\n",
        "             bmp_files.append(os.path.join(root, file))\n",
        "print(len(bmp_files))\n",
        "# resize each bmp file\n",
        "for bmp_file in bmp_files:\n",
        "    img = cv2.imread(bmp_file, cv2.IMREAD_GRAYSCALE)\n",
        "    print(img.shape)\n",
        "    img = cv2.resize(img, (0,0), fx=1, fy=1.5)\n",
        "    print(img.shape)\n",
        "    cv2.imwrite(bmp_file, img)"
      ]
    },
    {
      "cell_type": "code",
      "execution_count": 18,
      "metadata": {
        "colab": {
          "base_uri": "https://localhost:8080/",
          "height": 870
        },
        "id": "TxHXZGA5olZY",
        "outputId": "951bfb70-2ab7-447c-9cf2-ef7ca24f581e"
      },
      "outputs": [
        {
          "output_type": "stream",
          "name": "stdout",
          "text": [
            "Looking in indexes: https://pypi.org/simple, https://us-python.pkg.dev/colab-wheels/public/simple/\n",
            "Collecting ipdb\n",
            "  Downloading ipdb-0.13.9.tar.gz (16 kB)\n",
            "Requirement already satisfied: setuptools in /usr/local/lib/python3.7/dist-packages (from ipdb) (57.4.0)\n",
            "Collecting ipython>=7.17.0\n",
            "  Downloading ipython-7.34.0-py3-none-any.whl (793 kB)\n",
            "\u001b[K     |████████████████████████████████| 793 kB 41.0 MB/s \n",
            "\u001b[?25hRequirement already satisfied: toml>=0.10.2 in /usr/local/lib/python3.7/dist-packages (from ipdb) (0.10.2)\n",
            "Requirement already satisfied: decorator in /usr/local/lib/python3.7/dist-packages (from ipdb) (4.4.2)\n",
            "Requirement already satisfied: prompt-toolkit!=3.0.0,!=3.0.1,<3.1.0,>=2.0.0 in /usr/local/lib/python3.7/dist-packages (from ipython>=7.17.0->ipdb) (2.0.10)\n",
            "Requirement already satisfied: pickleshare in /usr/local/lib/python3.7/dist-packages (from ipython>=7.17.0->ipdb) (0.7.5)\n",
            "Requirement already satisfied: backcall in /usr/local/lib/python3.7/dist-packages (from ipython>=7.17.0->ipdb) (0.2.0)\n",
            "Collecting jedi>=0.16\n",
            "  Downloading jedi-0.18.2-py2.py3-none-any.whl (1.6 MB)\n",
            "\u001b[K     |████████████████████████████████| 1.6 MB 56.7 MB/s \n",
            "\u001b[?25hRequirement already satisfied: traitlets>=4.2 in /usr/local/lib/python3.7/dist-packages (from ipython>=7.17.0->ipdb) (5.1.1)\n",
            "Requirement already satisfied: pexpect>4.3 in /usr/local/lib/python3.7/dist-packages (from ipython>=7.17.0->ipdb) (4.8.0)\n",
            "Requirement already satisfied: pygments in /usr/local/lib/python3.7/dist-packages (from ipython>=7.17.0->ipdb) (2.6.1)\n",
            "Collecting matplotlib-inline\n",
            "  Downloading matplotlib_inline-0.1.6-py3-none-any.whl (9.4 kB)\n",
            "Requirement already satisfied: parso<0.9.0,>=0.8.0 in /usr/local/lib/python3.7/dist-packages (from jedi>=0.16->ipython>=7.17.0->ipdb) (0.8.3)\n",
            "Requirement already satisfied: ptyprocess>=0.5 in /usr/local/lib/python3.7/dist-packages (from pexpect>4.3->ipython>=7.17.0->ipdb) (0.7.0)\n",
            "Requirement already satisfied: six>=1.9.0 in /usr/local/lib/python3.7/dist-packages (from prompt-toolkit!=3.0.0,!=3.0.1,<3.1.0,>=2.0.0->ipython>=7.17.0->ipdb) (1.15.0)\n",
            "Requirement already satisfied: wcwidth in /usr/local/lib/python3.7/dist-packages (from prompt-toolkit!=3.0.0,!=3.0.1,<3.1.0,>=2.0.0->ipython>=7.17.0->ipdb) (0.2.5)\n",
            "Building wheels for collected packages: ipdb\n",
            "  Building wheel for ipdb (setup.py) ... \u001b[?25l\u001b[?25hdone\n",
            "  Created wheel for ipdb: filename=ipdb-0.13.9-py3-none-any.whl size=11649 sha256=0c91ce4c555a05556ae165212f793dc01f388dc9a0dbfd56da37cf8ca0225242\n",
            "  Stored in directory: /root/.cache/pip/wheels/65/cd/cc/aaf92acae337a28fdd2aa4d632196a59745c8c39f76eaeed01\n",
            "Successfully built ipdb\n",
            "Installing collected packages: matplotlib-inline, jedi, ipython, ipdb\n",
            "  Attempting uninstall: ipython\n",
            "    Found existing installation: ipython 7.9.0\n",
            "    Uninstalling ipython-7.9.0:\n",
            "      Successfully uninstalled ipython-7.9.0\n",
            "\u001b[31mERROR: pip's dependency resolver does not currently take into account all the packages that are installed. This behaviour is the source of the following dependency conflicts.\n",
            "google-colab 1.0.0 requires ipython~=7.9.0, but you have ipython 7.34.0 which is incompatible.\u001b[0m\n",
            "Successfully installed ipdb-0.13.9 ipython-7.34.0 jedi-0.18.2 matplotlib-inline-0.1.6\n"
          ]
        },
        {
          "output_type": "display_data",
          "data": {
            "application/vnd.colab-display-data+json": {
              "pip_warning": {
                "packages": [
                  "IPython"
                ]
              }
            }
          },
          "metadata": {}
        }
      ],
      "source": [
        "!pip install ipdb"
      ]
    },
    {
      "cell_type": "markdown",
      "metadata": {
        "id": "kAwlGy3XNRU-"
      },
      "source": [
        "# Connect to Drive"
      ]
    },
    {
      "cell_type": "code",
      "execution_count": 19,
      "metadata": {
        "colab": {
          "base_uri": "https://localhost:8080/"
        },
        "id": "iDIn85PaNQJI",
        "outputId": "8dfe54d9-04bc-4bee-d5f9-d1db276b5f66"
      },
      "outputs": [
        {
          "output_type": "stream",
          "name": "stdout",
          "text": [
            "Mounted at /content/drive\n"
          ]
        }
      ],
      "source": [
        "from google.colab import drive\n",
        "drive.mount('/content/drive')"
      ]
    },
    {
      "cell_type": "code",
      "execution_count": 20,
      "metadata": {
        "colab": {
          "base_uri": "https://localhost:8080/"
        },
        "id": "N9MRK8JNOtOr",
        "outputId": "af5958b1-e8c6-42bb-ce82-afec2083d348"
      },
      "outputs": [
        {
          "output_type": "stream",
          "name": "stdout",
          "text": [
            "\u001b[0m\u001b[01;34mconfigs\u001b[0m/  \u001b[01;34mlabels_generated\u001b[0m/  requirements.txt  \u001b[01;34mssod\u001b[0m/           \u001b[01;34mtools\u001b[0m/\n",
            "\u001b[01;34mdemo\u001b[0m/     Makefile           \u001b[01;34mscripts\u001b[0m/          \u001b[01;34mssod.egg-info\u001b[0m/\n",
            "\u001b[01;34mdocs\u001b[0m/     README.md          setup.py          \u001b[01;34mthirdparty\u001b[0m/\n"
          ]
        }
      ],
      "source": [
        "ls"
      ]
    },
    {
      "cell_type": "code",
      "execution_count": 21,
      "metadata": {
        "id": "2gzLoEB4OwG7"
      },
      "outputs": [],
      "source": [
        "!mkdir work_dir"
      ]
    },
    {
      "cell_type": "code",
      "execution_count": 22,
      "metadata": {
        "colab": {
          "base_uri": "https://localhost:8080/"
        },
        "id": "lAQcVnn1O14m",
        "outputId": "119a0d97-b41e-4695-f5f6-dc4ddc3f8d43"
      },
      "outputs": [
        {
          "output_type": "stream",
          "name": "stdout",
          "text": [
            "/content\n"
          ]
        }
      ],
      "source": [
        "cd .."
      ]
    },
    {
      "cell_type": "code",
      "execution_count": 23,
      "metadata": {
        "id": "OB4L5Qf-NTaa"
      },
      "outputs": [],
      "source": [
        "!cp -R /content/drive/MyDrive/f-jl221-2/pseco_400_2/iter_400.pth /content/PseCoCustomDataset/work_dir/iter_400.pth"
      ]
    },
    {
      "cell_type": "code",
      "source": [
        "ls"
      ],
      "metadata": {
        "colab": {
          "base_uri": "https://localhost:8080/"
        },
        "id": "YWfzQdA-NJR_",
        "outputId": "abf1a3b5-1fd0-4c58-c108-3053b3f93502"
      },
      "execution_count": 24,
      "outputs": [
        {
          "output_type": "stream",
          "name": "stdout",
          "text": [
            "\u001b[0m\u001b[01;34mdrive\u001b[0m/  \u001b[01;34mf-jl221-2\u001b[0m/  \u001b[01;34mPseCoCustomDataset\u001b[0m/  \u001b[01;34msample_data\u001b[0m/\n"
          ]
        }
      ]
    },
    {
      "cell_type": "code",
      "source": [
        "cd PseCoCustomDataset"
      ],
      "metadata": {
        "colab": {
          "base_uri": "https://localhost:8080/"
        },
        "id": "GeB7HHCONmwG",
        "outputId": "192ea6d3-d8ca-48c0-f235-3d96259675b3"
      },
      "execution_count": 25,
      "outputs": [
        {
          "output_type": "stream",
          "name": "stdout",
          "text": [
            "/content/PseCoCustomDataset\n"
          ]
        }
      ]
    },
    {
      "cell_type": "code",
      "source": [
        "!bash tools/test.sh"
      ],
      "metadata": {
        "colab": {
          "base_uri": "https://localhost:8080/"
        },
        "id": "Ptmv45RoNoXl",
        "outputId": "73d7f9c3-10f3-4c25-bd3b-b3e8786ef273"
      },
      "execution_count": 28,
      "outputs": [
        {
          "output_type": "stream",
          "name": "stdout",
          "text": [
            "loading annotations into memory...\n",
            "Done (t=0.01s)\n",
            "creating index...\n",
            "index created!\n",
            "/content/PseCoCustomDataset/thirdparty/mmdetection/mmdet/core/anchor/builder.py:17: UserWarning: ``build_anchor_generator`` would be deprecated soon, please use ``build_prior_generator`` \n",
            "  '``build_anchor_generator`` would be deprecated soon, please use '\n",
            "load checkpoint from local path: ./work_dir/iter_400.pth\n",
            "The model and loaded state dict do not match exactly\n",
            "\n",
            "unexpected key in source state_dict: precision, recall\n",
            "\n",
            "[                                                  ] 0/117, elapsed: 0s, ETA:/usr/local/lib/python3.7/dist-packages/torch/nn/functional.py:718: UserWarning: Named tensors and all their associated APIs are an experimental feature and subject to change. Please do not use them for anything important until they are released as stable. (Triggered internally at  /pytorch/c10/core/TensorImpl.h:1156.)\n",
            "  return torch.max_pool2d(input, kernel_size, stride, padding, dilation, ceil_mode)\n",
            "/content/PseCoCustomDataset/thirdparty/mmdetection/mmdet/core/anchor/anchor_generator.py:324: UserWarning: ``grid_anchors`` would be deprecated soon. Please use ``grid_priors`` \n",
            "  warnings.warn('``grid_anchors`` would be deprecated soon. '\n",
            "/content/PseCoCustomDataset/thirdparty/mmdetection/mmdet/core/anchor/anchor_generator.py:361: UserWarning: ``single_level_grid_anchors`` would be deprecated soon. Please use ``single_level_grid_priors`` \n",
            "  '``single_level_grid_anchors`` would be deprecated soon. '\n",
            "[>>] 117/117, 13.9 task/s, elapsed: 8s, ETA:     0s\n",
            "writing results to xxx.pkl\n",
            "\n",
            "Evaluating bbox...\n",
            "Loading and preparing results...\n",
            "DONE (t=0.01s)\n",
            "creating index...\n",
            "index created!\n",
            "Running per image evaluation...\n",
            "Evaluate annotation type *bbox*\n",
            "DONE (t=1.04s).\n",
            "Accumulating evaluation results...\n",
            "DONE (t=0.17s).\n",
            " Average Precision  (AP) @[ IoU=0.50:0.95 | area=   all | maxDets=100 ] = 0.322\n",
            " Average Precision  (AP) @[ IoU=0.50      | area=   all | maxDets=1000 ] = 0.469\n",
            " Average Precision  (AP) @[ IoU=0.75      | area=   all | maxDets=1000 ] = 0.399\n",
            " Average Precision  (AP) @[ IoU=0.50:0.95 | area= small | maxDets=1000 ] = 0.405\n",
            " Average Precision  (AP) @[ IoU=0.50:0.95 | area=medium | maxDets=1000 ] = 0.311\n",
            " Average Precision  (AP) @[ IoU=0.50:0.95 | area= large | maxDets=1000 ] = -1.000\n",
            " Average Recall     (AR) @[ IoU=0.50:0.95 | area=   all | maxDets=100 ] = 0.493\n",
            " Average Recall     (AR) @[ IoU=0.50:0.95 | area=   all | maxDets=300 ] = 0.493\n",
            " Average Recall     (AR) @[ IoU=0.50:0.95 | area=   all | maxDets=1000 ] = 0.493\n",
            " Average Recall     (AR) @[ IoU=0.50:0.95 | area= small | maxDets=1000 ] = 0.421\n",
            " Average Recall     (AR) @[ IoU=0.50:0.95 | area=medium | maxDets=1000 ] = 0.535\n",
            " Average Recall     (AR) @[ IoU=0.50:0.95 | area= large | maxDets=1000 ] = -1.000\n",
            "OrderedDict([('bbox_mAP', 0.322), ('bbox_mAP_50', 0.469), ('bbox_mAP_75', 0.399), ('bbox_mAP_s', 0.405), ('bbox_mAP_m', 0.311), ('bbox_mAP_l', -1.0), ('bbox_mAP_copypaste', '0.322 0.469 0.399 0.405 0.311 -1.000')])\n"
          ]
        }
      ]
    },
    {
      "cell_type": "markdown",
      "source": [
        "# Evaluation"
      ],
      "metadata": {
        "id": "8O8o7U8LNKWL"
      }
    },
    {
      "cell_type": "code",
      "source": [],
      "metadata": {
        "id": "x2W7TWK2NNUJ"
      },
      "execution_count": null,
      "outputs": []
    },
    {
      "cell_type": "markdown",
      "metadata": {
        "id": "BOUfcMnUhCxL"
      },
      "source": [
        "# Inference"
      ]
    },
    {
      "cell_type": "markdown",
      "metadata": {
        "id": "3JH3T5KqhEK4"
      },
      "source": [
        "## Add paths of thirdparty packages"
      ]
    },
    {
      "cell_type": "code",
      "execution_count": null,
      "metadata": {
        "id": "gJ2S9IeyhH1s"
      },
      "outputs": [],
      "source": [
        "import sys\n",
        "sys.path.insert(0,'/content/PseCoCustomDataset/thirdparty/mmdetection/mmdet')"
      ]
    },
    {
      "cell_type": "code",
      "execution_count": null,
      "metadata": {
        "colab": {
          "base_uri": "https://localhost:8080/"
        },
        "id": "Ho2Ib9x_hI-5",
        "outputId": "eb101e71-1980-4938-af9d-205f6871ef10"
      },
      "outputs": [
        {
          "name": "stdout",
          "output_type": "stream",
          "text": [
            "['/content/PseCoCustomDataset/thirdparty/mmdetection/mmdet', '/content', '/env/python', '/usr/lib/python37.zip', '/usr/lib/python3.7', '/usr/lib/python3.7/lib-dynload', '', '/usr/local/lib/python3.7/dist-packages', '/usr/lib/python3/dist-packages', '/usr/local/lib/python3.7/dist-packages/IPython/extensions', '/root/.ipython']\n"
          ]
        }
      ],
      "source": [
        "import sys\n",
        "print(sys.path)"
      ]
    },
    {
      "cell_type": "code",
      "execution_count": null,
      "metadata": {
        "id": "btrWarAshJnF"
      },
      "outputs": [],
      "source": [
        "import sys\n",
        "sys.path.insert(0,' /content/PseCoCustomDataset')"
      ]
    },
    {
      "cell_type": "code",
      "execution_count": null,
      "metadata": {
        "id": "9eodEM_2hKfA"
      },
      "outputs": [],
      "source": [
        "!export PYTHONPATH=$(pwd)"
      ]
    },
    {
      "cell_type": "code",
      "execution_count": null,
      "metadata": {
        "colab": {
          "base_uri": "https://localhost:8080/"
        },
        "id": "ifK5DJWwhLNf",
        "outputId": "a79162a4-b9a4-4723-8f14-bf8a1e93905d"
      },
      "outputs": [
        {
          "name": "stdout",
          "output_type": "stream",
          "text": [
            "/content/PseCoCustomDataset/thirdparty/mmdetection\n"
          ]
        }
      ],
      "source": [
        "cd /content/PseCoCustomDataset/thirdparty/mmdetection/"
      ]
    },
    {
      "cell_type": "code",
      "execution_count": null,
      "metadata": {
        "id": "6Jt0_YRMhMAD"
      },
      "outputs": [],
      "source": [
        "import mmdet"
      ]
    },
    {
      "cell_type": "code",
      "execution_count": null,
      "metadata": {
        "colab": {
          "base_uri": "https://localhost:8080/"
        },
        "id": "vb_kh6KhhMyM",
        "outputId": "5b31e046-3c57-4a9e-8867-2b4f89795d24"
      },
      "outputs": [
        {
          "name": "stdout",
          "output_type": "stream",
          "text": [
            "/content\n"
          ]
        }
      ],
      "source": [
        "cd /content"
      ]
    },
    {
      "cell_type": "code",
      "execution_count": null,
      "metadata": {
        "colab": {
          "background_save": true,
          "base_uri": "https://localhost:8080/"
        },
        "id": "IOYMlWS_iNxY",
        "outputId": "e90b5c71-31ea-44d3-ac16-7107878fb39e"
      },
      "outputs": [
        {
          "name": "stdout",
          "output_type": "stream",
          "text": [
            "/content/PseCoCustomDataset/thirdparty/mmdetection/mmdet/core/anchor/builder.py:17: UserWarning: ``build_anchor_generator`` would be deprecated soon, please use ``build_prior_generator`` \n",
            "  '``build_anchor_generator`` would be deprecated soon, please use '\n",
            "load checkpoint from local path: PseCoCustomDataset/work_dir/iter_400.pth\n",
            "The model and loaded state dict do not match exactly\n",
            "\n",
            "unexpected key in source state_dict: precision, recall\n",
            "\n",
            "/content/PseCoCustomDataset/thirdparty/mmdetection/mmdet/datasets/utils.py:69: UserWarning: \"ImageToTensor\" pipeline is replaced by \"DefaultFormatBundle\" for batch inference. It is recommended to manually replace it in the test data pipeline in your config file.\n",
            "  'data pipeline in your config file.', UserWarning)\n",
            "/usr/local/lib/python3.7/dist-packages/torch/nn/functional.py:718: UserWarning: Named tensors and all their associated APIs are an experimental feature and subject to change. Please do not use them for anything important until they are released as stable. (Triggered internally at  /pytorch/c10/core/TensorImpl.h:1156.)\n",
            "  return torch.max_pool2d(input, kernel_size, stride, padding, dilation, ceil_mode)\n",
            "/content/PseCoCustomDataset/thirdparty/mmdetection/mmdet/core/anchor/anchor_generator.py:324: UserWarning: ``grid_anchors`` would be deprecated soon. Please use ``grid_priors`` \n",
            "  warnings.warn('``grid_anchors`` would be deprecated soon. '\n",
            "/content/PseCoCustomDataset/thirdparty/mmdetection/mmdet/core/anchor/anchor_generator.py:361: UserWarning: ``single_level_grid_anchors`` would be deprecated soon. Please use ``single_level_grid_priors`` \n",
            "  '``single_level_grid_anchors`` would be deprecated soon. '\n",
            "Save results to work_dir/rotate_translate_top_paddingCherries,35,19-08-2022,18-18-09,pass.bmp\n"
          ]
        }
      ],
      "source": [
        "!python PseCoCustomDataset/demo/image_demo.py /content/PseCoCustomDataset/labels_generated/unlabelled/images/rotate_translate_top_paddingCherries,35,19-08-2022,18-18-09,pass.bmp PseCoCustomDataset/configs/PseCo/PseCo_faster_rnn_celoss_r50_caffe_fpn_coco_custom.py PseCoCustomDataset/work_dir/iter_400.pth --output work_dir/ --score-thr 0.41"
      ]
    },
    {
      "cell_type": "code",
      "execution_count": null,
      "metadata": {
        "colab": {
          "base_uri": "https://localhost:8080/"
        },
        "id": "kYHJXq9PhQa1",
        "outputId": "60cf453a-617b-4e16-8e9f-1ad3e2ed800a"
      },
      "outputs": [
        {
          "name": "stdout",
          "output_type": "stream",
          "text": [
            "/content/PseCoCustomDataset/thirdparty/mmdetection/mmdet/core/anchor/builder.py:17: UserWarning: ``build_anchor_generator`` would be deprecated soon, please use ``build_prior_generator`` \n",
            "  '``build_anchor_generator`` would be deprecated soon, please use '\n",
            "load checkpoint from local path: PseCoCustomDataset/work_dir/iter_400.pth\n",
            "The model and loaded state dict do not match exactly\n",
            "\n",
            "unexpected key in source state_dict: precision, recall\n",
            "\n",
            "/content/PseCoCustomDataset/thirdparty/mmdetection/mmdet/datasets/utils.py:69: UserWarning: \"ImageToTensor\" pipeline is replaced by \"DefaultFormatBundle\" for batch inference. It is recommended to manually replace it in the test data pipeline in your config file.\n",
            "  'data pipeline in your config file.', UserWarning)\n",
            "/usr/local/lib/python3.7/dist-packages/torch/nn/functional.py:718: UserWarning: Named tensors and all their associated APIs are an experimental feature and subject to change. Please do not use them for anything important until they are released as stable. (Triggered internally at  /pytorch/c10/core/TensorImpl.h:1156.)\n",
            "  return torch.max_pool2d(input, kernel_size, stride, padding, dilation, ceil_mode)\n",
            "/content/PseCoCustomDataset/thirdparty/mmdetection/mmdet/core/anchor/anchor_generator.py:324: UserWarning: ``grid_anchors`` would be deprecated soon. Please use ``grid_priors`` \n",
            "  warnings.warn('``grid_anchors`` would be deprecated soon. '\n",
            "/content/PseCoCustomDataset/thirdparty/mmdetection/mmdet/core/anchor/anchor_generator.py:361: UserWarning: ``single_level_grid_anchors`` would be deprecated soon. Please use ``single_level_grid_priors`` \n",
            "  '``single_level_grid_anchors`` would be deprecated soon. '\n",
            "Save results to work_dir/Cherries,24,19-08-2022,18-10-52,pass.bmp\n"
          ]
        }
      ],
      "source": [
        "!python PseCoCustomDataset/demo/image_demo.py /content/PseCoCustomDataset/labels_generated/test/images/Cherries,24,19-08-2022,18-10-52,pass.bmp PseCoCustomDataset/configs/PseCo/PseCo_faster_rnn_celoss_r50_caffe_fpn_coco_custom.py PseCoCustomDataset/work_dir/iter_400.pth --output work_dir/ --score-thr 0.5"
      ]
    },
    {
      "cell_type": "markdown",
      "metadata": {
        "id": "70Y-iiOChOEN"
      },
      "source": [
        "## Visualise"
      ]
    },
    {
      "cell_type": "markdown",
      "metadata": {
        "id": "RNpE8kw3GFfO"
      },
      "source": [
        "Changed visual threshold to 0.01"
      ]
    },
    {
      "cell_type": "code",
      "execution_count": null,
      "metadata": {
        "colab": {
          "base_uri": "https://localhost:8080/"
        },
        "id": "bFxtl0YKhUJK",
        "outputId": "3de56765-9cb9-4be8-8de5-59fa0cb952a8"
      },
      "outputs": [
        {
          "name": "stdout",
          "output_type": "stream",
          "text": [
            "/content/PseCoCustomDataset/thirdparty/mmdetection/mmdet/core/anchor/builder.py:17: UserWarning: ``build_anchor_generator`` would be deprecated soon, please use ``build_prior_generator`` \n",
            "  '``build_anchor_generator`` would be deprecated soon, please use '\n",
            "load checkpoint from local path: PseCoCustomDataset/work_dir/iter_600.pth\n",
            "The model and loaded state dict do not match exactly\n",
            "\n",
            "unexpected key in source state_dict: precision, recall\n",
            "\n",
            "/content/PseCoCustomDataset/thirdparty/mmdetection/mmdet/datasets/utils.py:69: UserWarning: \"ImageToTensor\" pipeline is replaced by \"DefaultFormatBundle\" for batch inference. It is recommended to manually replace it in the test data pipeline in your config file.\n",
            "  'data pipeline in your config file.', UserWarning)\n",
            "/usr/local/lib/python3.7/dist-packages/torch/nn/functional.py:718: UserWarning: Named tensors and all their associated APIs are an experimental feature and subject to change. Please do not use them for anything important until they are released as stable. (Triggered internally at  /pytorch/c10/core/TensorImpl.h:1156.)\n",
            "  return torch.max_pool2d(input, kernel_size, stride, padding, dilation, ceil_mode)\n",
            "/content/PseCoCustomDataset/thirdparty/mmdetection/mmdet/core/anchor/anchor_generator.py:324: UserWarning: ``grid_anchors`` would be deprecated soon. Please use ``grid_priors`` \n",
            "  warnings.warn('``grid_anchors`` would be deprecated soon. '\n",
            "/content/PseCoCustomDataset/thirdparty/mmdetection/mmdet/core/anchor/anchor_generator.py:361: UserWarning: ``single_level_grid_anchors`` would be deprecated soon. Please use ``single_level_grid_priors`` \n",
            "  '``single_level_grid_anchors`` would be deprecated soon. '\n",
            "Save results to work_dir/rotate_translate_left_paddingCherries,35,19-08-2022,18-18-09,pass.bmp\n",
            "Save results to work_dir/100_pixels_Cherries,20,19-08-2022,18-10-00,pass.bmp\n",
            "Save results to work_dir/200_pixels_Cherries,21,19-08-2022,18-10-11,pass.bmp\n",
            "Save results to work_dir/300_pixels_Cherries,34,19-08-2022,18-17-55,pass.bmp\n",
            "Save results to work_dir/rotate_translate_top_paddingCherries,25,19-08-2022,18-13-50,pass.bmp\n",
            "Save results to work_dir/rotate_translate_top_right_paddingCherries,35,19-08-2022,18-18-09,pass.bmp\n",
            "Save results to work_dir/300_pixels_Cherries,24,19-08-2022,18-10-52,pass.bmp\n",
            "Save results to work_dir/rotate_translateCherries,20,19-08-2022,18-10-00,pass.bmp\n",
            "Save results to work_dir/200_pixels_Cherries,35,19-08-2022,18-18-09,pass.bmp\n",
            "Save results to work_dir/100_pixels_Cherries,27,19-08-2022,18-14-20,pass.bmp\n",
            "Save results to work_dir/rotate_translate_top_right_paddingCherries,22,19-08-2022,18-10-22,pass.bmp\n",
            "Save results to work_dir/rotate_translate_left_paddingCherries,34,19-08-2022,18-17-55,pass.bmp\n",
            "Save results to work_dir/rotate_translate_top_paddingCherries,24,19-08-2022,18-10-52,pass.bmp\n",
            "Save results to work_dir/200_pixels_Cherries,32,19-08-2022,18-17-33,pass.bmp\n",
            "Save results to work_dir/rotate_translate_top_right_paddingCherries,30,19-08-2022,18-16-34,pass.bmp\n",
            "Save results to work_dir/rotate_translate_left_paddingCherries,20,19-08-2022,18-10-00,pass.bmp\n",
            "Save results to work_dir/rotate_translateCherries,33,19-08-2022,18-17-42,pass.bmp\n",
            "Save results to work_dir/rotate_translate_left_paddingCherries,28,19-08-2022,18-14-35,pass.bmp\n",
            "Save results to work_dir/300_pixels_Cherries,26,19-08-2022,18-14-06,pass.bmp\n",
            "Save results to work_dir/200_pixels_Cherries,28,19-08-2022,18-14-35,pass.bmp\n",
            "Save results to work_dir/300_pixels_Cherries,32,19-08-2022,18-17-33,pass.bmp\n",
            "Save results to work_dir/rotate_translate_top_right_paddingCherries,32,19-08-2022,18-17-33,pass.bmp\n",
            "Save results to work_dir/300_pixels_Cherries,22,19-08-2022,18-10-22,pass.bmp\n",
            "Save results to work_dir/100_pixels_Cherries,23,19-08-2022,18-10-35,pass.bmp\n",
            "Save results to work_dir/rotate_translate_top_right_paddingCherries,21,19-08-2022,18-10-11,pass.bmp\n",
            "Save results to work_dir/Cherries,25,19-08-2022,18-13-50,pass.bmp\n",
            "Save results to work_dir/rotate_translate_left_paddingCherries,24,19-08-2022,18-10-52,pass.bmp\n",
            "Save results to work_dir/rotate_translate_left_paddingCherries,32,19-08-2022,18-17-33,pass.bmp\n",
            "Save results to work_dir/300_pixels_Cherries,33,19-08-2022,18-17-42,pass.bmp\n",
            "Save results to work_dir/Cherries,27,19-08-2022,18-14-20,pass.bmp\n",
            "Save results to work_dir/rotate_translate_top_right_paddingCherries,33,19-08-2022,18-17-42,pass.bmp\n",
            "Save results to work_dir/100_pixels_Cherries,22,19-08-2022,18-10-22,pass.bmp\n",
            "Save results to work_dir/rotate_translate_left_paddingCherries,21,19-08-2022,18-10-11,pass.bmp\n",
            "Save results to work_dir/300_pixels_Cherries,29,19-08-2022,18-14-45,pass.bmp\n",
            "Save results to work_dir/rotate_translateCherries,32,19-08-2022,18-17-33,pass.bmp\n",
            "Save results to work_dir/Cherries,28,19-08-2022,18-14-35,pass.bmp\n",
            "Save results to work_dir/rotate_translate_top_right_paddingCherries,31,19-08-2022,18-17-23,pass.bmp\n",
            "Save results to work_dir/Cherries,29,19-08-2022,18-14-45,pass.bmp\n",
            "Save results to work_dir/300_pixels_Cherries,30,19-08-2022,18-16-34,pass.bmp\n",
            "Save results to work_dir/200_pixels_Cherries,20,19-08-2022,18-10-00,pass.bmp\n",
            "Save results to work_dir/100_pixels_Cherries,28,19-08-2022,18-14-35,pass.bmp\n",
            "Save results to work_dir/rotate_translateCherries,24,19-08-2022,18-10-52,pass.bmp\n",
            "Save results to work_dir/200_pixels_Cherries,26,19-08-2022,18-14-06,pass.bmp\n",
            "Save results to work_dir/rotate_translate_left_paddingCherries,27,19-08-2022,18-14-20,pass.bmp\n",
            "Save results to work_dir/rotate_translate_top_right_paddingCherries,25,19-08-2022,18-13-50,pass.bmp\n",
            "Save results to work_dir/100_pixels_Cherries,34,19-08-2022,18-17-55,pass.bmp\n",
            "Save results to work_dir/rotate_translateCherries,22,19-08-2022,18-10-22,pass.bmp\n",
            "Save results to work_dir/rotate_translate_top_right_paddingCherries,29,19-08-2022,18-14-45,pass.bmp\n",
            "Save results to work_dir/300_pixels_Cherries,28,19-08-2022,18-14-35,pass.bmp\n",
            "Save results to work_dir/200_pixels_Cherries,22,19-08-2022,18-10-22,pass.bmp\n",
            "Save results to work_dir/Cherries,26,19-08-2022,18-14-06,pass.bmp\n",
            "Save results to work_dir/100_pixels_Cherries,32,19-08-2022,18-17-33,pass.bmp\n",
            "Save results to work_dir/200_pixels_Cherries,31,19-08-2022,18-17-23,pass.bmp\n",
            "Save results to work_dir/300_pixels_Cherries,23,19-08-2022,18-10-35,pass.bmp\n",
            "Save results to work_dir/rotate_translateCherries,28,19-08-2022,18-14-35,pass.bmp\n",
            "Save results to work_dir/100_pixels_Cherries,21,19-08-2022,18-10-11,pass.bmp\n",
            "Save results to work_dir/100_pixels_Cherries,26,19-08-2022,18-14-06,pass.bmp\n",
            "Save results to work_dir/rotate_translate_top_paddingCherries,35,19-08-2022,18-18-09,pass.bmp\n",
            "Save results to work_dir/100_pixels_Cherries,29,19-08-2022,18-14-45,pass.bmp\n",
            "Save results to work_dir/rotate_translate_left_paddingCherries,31,19-08-2022,18-17-23,pass.bmp\n",
            "Save results to work_dir/300_pixels_Cherries,20,19-08-2022,18-10-00,pass.bmp\n",
            "Save results to work_dir/rotate_translate_top_paddingCherries,34,19-08-2022,18-17-55,pass.bmp\n",
            "Save results to work_dir/rotate_translate_top_paddingCherries,23,19-08-2022,18-10-35,pass.bmp\n",
            "Save results to work_dir/300_pixels_Cherries,35,19-08-2022,18-18-09,pass.bmp\n",
            "Save results to work_dir/rotate_translateCherries,25,19-08-2022,18-13-50,pass.bmp\n",
            "Save results to work_dir/rotate_translate_top_paddingCherries,31,19-08-2022,18-17-23,pass.bmp\n",
            "Save results to work_dir/rotate_translate_top_right_paddingCherries,27,19-08-2022,18-14-20,pass.bmp\n",
            "Save results to work_dir/200_pixels_Cherries,27,19-08-2022,18-14-20,pass.bmp\n",
            "Save results to work_dir/100_pixels_Cherries,24,19-08-2022,18-10-52,pass.bmp\n",
            "Save results to work_dir/rotate_translate_top_paddingCherries,26,19-08-2022,18-14-06,pass.bmp\n",
            "Save results to work_dir/200_pixels_Cherries,23,19-08-2022,18-10-35,pass.bmp\n",
            "Save results to work_dir/rotate_translate_top_right_paddingCherries,26,19-08-2022,18-14-06,pass.bmp\n",
            "Save results to work_dir/rotate_translate_top_paddingCherries,28,19-08-2022,18-14-35,pass.bmp\n",
            "Save results to work_dir/100_pixels_Cherries,35,19-08-2022,18-18-09,pass.bmp\n",
            "Save results to work_dir/100_pixels_Cherries,33,19-08-2022,18-17-42,pass.bmp\n",
            "Save results to work_dir/rotate_translate_left_paddingCherries,23,19-08-2022,18-10-35,pass.bmp\n",
            "Save results to work_dir/300_pixels_Cherries,27,19-08-2022,18-14-20,pass.bmp\n",
            "Save results to work_dir/300_pixels_Cherries,21,19-08-2022,18-10-11,pass.bmp\n",
            "Save results to work_dir/rotate_translate_top_right_paddingCherries,28,19-08-2022,18-14-35,pass.bmp\n",
            "Save results to work_dir/200_pixels_Cherries,34,19-08-2022,18-17-55,pass.bmp\n",
            "Save results to work_dir/rotate_translate_top_paddingCherries,20,19-08-2022,18-10-00,pass.bmp\n",
            "Save results to work_dir/rotate_translateCherries,31,19-08-2022,18-17-23,pass.bmp\n",
            "Save results to work_dir/300_pixels_Cherries,25,19-08-2022,18-13-50,pass.bmp\n",
            "Save results to work_dir/rotate_translate_top_paddingCherries,27,19-08-2022,18-14-20,pass.bmp\n",
            "Save results to work_dir/200_pixels_Cherries,30,19-08-2022,18-16-34,pass.bmp\n",
            "Save results to work_dir/100_pixels_Cherries,25,19-08-2022,18-13-50,pass.bmp\n",
            "Save results to work_dir/rotate_translateCherries,23,19-08-2022,18-10-35,pass.bmp\n",
            "Save results to work_dir/rotate_translate_top_paddingCherries,29,19-08-2022,18-14-45,pass.bmp\n",
            "Save results to work_dir/rotate_translateCherries,35,19-08-2022,18-18-09,pass.bmp\n",
            "Save results to work_dir/200_pixels_Cherries,25,19-08-2022,18-13-50,pass.bmp\n",
            "Save results to work_dir/rotate_translateCherries,21,19-08-2022,18-10-11,pass.bmp\n",
            "Save results to work_dir/rotate_translate_top_right_paddingCherries,20,19-08-2022,18-10-00,pass.bmp\n",
            "Save results to work_dir/200_pixels_Cherries,24,19-08-2022,18-10-52,pass.bmp\n",
            "Save results to work_dir/rotate_translate_top_right_paddingCherries,34,19-08-2022,18-17-55,pass.bmp\n",
            "Save results to work_dir/rotate_translate_left_paddingCherries,29,19-08-2022,18-14-45,pass.bmp\n",
            "Save results to work_dir/rotate_translate_top_paddingCherries,22,19-08-2022,18-10-22,pass.bmp\n",
            "Save results to work_dir/rotate_translate_top_paddingCherries,33,19-08-2022,18-17-42,pass.bmp\n",
            "Save results to work_dir/rotate_translateCherries,30,19-08-2022,18-16-34,pass.bmp\n",
            "Save results to work_dir/rotate_translate_top_paddingCherries,30,19-08-2022,18-16-34,pass.bmp\n",
            "Save results to work_dir/rotate_translate_left_paddingCherries,26,19-08-2022,18-14-06,pass.bmp\n",
            "Save results to work_dir/rotate_translateCherries,34,19-08-2022,18-17-55,pass.bmp\n",
            "Save results to work_dir/200_pixels_Cherries,33,19-08-2022,18-17-42,pass.bmp\n",
            "Save results to work_dir/100_pixels_Cherries,30,19-08-2022,18-16-34,pass.bmp\n",
            "Save results to work_dir/300_pixels_Cherries,31,19-08-2022,18-17-23,pass.bmp\n",
            "Save results to work_dir/rotate_translateCherries,26,19-08-2022,18-14-06,pass.bmp\n",
            "Save results to work_dir/rotate_translate_top_right_paddingCherries,23,19-08-2022,18-10-35,pass.bmp\n",
            "Save results to work_dir/rotate_translate_left_paddingCherries,33,19-08-2022,18-17-42,pass.bmp\n",
            "Save results to work_dir/rotate_translate_left_paddingCherries,25,19-08-2022,18-13-50,pass.bmp\n",
            "Save results to work_dir/rotate_translate_left_paddingCherries,22,19-08-2022,18-10-22,pass.bmp\n",
            "Save results to work_dir/rotate_translate_top_paddingCherries,32,19-08-2022,18-17-33,pass.bmp\n",
            "Save results to work_dir/rotate_translate_left_paddingCherries,30,19-08-2022,18-16-34,pass.bmp\n",
            "Save results to work_dir/rotate_translate_top_right_paddingCherries,24,19-08-2022,18-10-52,pass.bmp\n",
            "Save results to work_dir/rotate_translateCherries,27,19-08-2022,18-14-20,pass.bmp\n",
            "Save results to work_dir/rotate_translate_top_paddingCherries,21,19-08-2022,18-10-11,pass.bmp\n",
            "Save results to work_dir/100_pixels_Cherries,31,19-08-2022,18-17-23,pass.bmp\n",
            "Save results to work_dir/rotate_translateCherries,29,19-08-2022,18-14-45,pass.bmp\n",
            "Save results to work_dir/200_pixels_Cherries,29,19-08-2022,18-14-45,pass.bmp\n"
          ]
        }
      ],
      "source": [
        "!python PseCoCustomDataset/demo/image_demo.py '/content/PseCoCustomDataset/labels_generated/unlabelled/images/*.bmp' PseCoCustomDataset/configs/PseCo/PseCo_faster_rnn_celoss_r50_caffe_fpn_coco_custom.py PseCoCustomDataset/work_dir/iter_600.pth --output work_dir/"
      ]
    },
    {
      "cell_type": "markdown",
      "metadata": {
        "id": "qaJhrpaKhVil"
      },
      "source": [
        "## Save to Drive"
      ]
    },
    {
      "cell_type": "code",
      "execution_count": null,
      "metadata": {
        "colab": {
          "base_uri": "https://localhost:8080/"
        },
        "id": "S-f7eMWYhXMV",
        "outputId": "d973e865-8ac7-4e2e-8545-e48b32518ac5"
      },
      "outputs": [
        {
          "name": "stdout",
          "output_type": "stream",
          "text": [
            "Mounted at /content/drive\n"
          ]
        }
      ],
      "source": []
    },
    {
      "cell_type": "code",
      "execution_count": null,
      "metadata": {
        "id": "E8-c-MSGhYkf"
      },
      "outputs": [],
      "source": [
        "!cp -R /content/work_dir /content/drive/MyDrive/f-jl221-2/pseco_600_3_add_transforms"
      ]
    },
    {
      "cell_type": "markdown",
      "metadata": {
        "id": "5BGPOlH8TDAa"
      },
      "source": []
    },
    {
      "cell_type": "code",
      "execution_count": null,
      "metadata": {
        "id": "b5WdHJl7hZOk"
      },
      "outputs": [],
      "source": [
        "!cp -R /content/PseCoCustomDataset/work_dir/iter_600.pth /content/drive/MyDrive/f-jl221-2/pseco_600_3_add_transforms"
      ]
    },
    {
      "cell_type": "code",
      "execution_count": null,
      "metadata": {
        "id": "MagsMgT3_5i1"
      },
      "outputs": [],
      "source": []
    }
  ],
  "metadata": {
    "accelerator": "GPU",
    "colab": {
      "provenance": [],
      "authorship_tag": "ABX9TyOs+CiTvArLdLWC7EWC474T",
      "include_colab_link": true
    },
    "gpuClass": "standard",
    "kernelspec": {
      "display_name": "Python 3",
      "name": "python3"
    },
    "language_info": {
      "name": "python"
    }
  },
  "nbformat": 4,
  "nbformat_minor": 0
}