{
  "nbformat": 4,
  "nbformat_minor": 0,
  "metadata": {
    "colab": {
      "provenance": [],
      "collapsed_sections": [],
      "authorship_tag": "ABX9TyO8kzvuM9VQZa3XTkgWbnoZ",
      "include_colab_link": true
    },
    "kernelspec": {
      "name": "python3",
      "display_name": "Python 3"
    },
    "language_info": {
      "name": "python"
    },
    "accelerator": "GPU",
    "gpuClass": "standard"
  },
  "cells": [
    {
      "cell_type": "markdown",
      "metadata": {
        "id": "view-in-github",
        "colab_type": "text"
      },
      "source": [
        "<a href=\"https://colab.research.google.com/github/nczarli/f-jl221-2/blob/main/soft_teacher_custom_dataset_visualisation_and_resize.ipynb\" target=\"_parent\"><img src=\"https://colab.research.google.com/assets/colab-badge.svg\" alt=\"Open In Colab\"/></a>"
      ]
    },
    {
      "cell_type": "code",
      "execution_count": 1,
      "metadata": {
        "colab": {
          "base_uri": "https://localhost:8080/"
        },
        "id": "aQRsDa3Adg6n",
        "outputId": "e31fcb65-f2ff-4755-924b-2c075d9cf59e"
      },
      "outputs": [
        {
          "output_type": "stream",
          "name": "stdout",
          "text": [
            "Cloning into 'f-jl221-2'...\n",
            "remote: Enumerating objects: 118, done.\u001b[K\n",
            "remote: Counting objects: 100% (118/118), done.\u001b[K\n",
            "remote: Compressing objects: 100% (93/93), done.\u001b[K\n",
            "remote: Total 118 (delta 49), reused 67 (delta 21), pack-reused 0\u001b[K\n",
            "Receiving objects: 100% (118/118), 4.18 MiB | 5.01 MiB/s, done.\n",
            "Resolving deltas: 100% (49/49), done.\n",
            "Cloning into 'SoftTeacherCustomDataset'...\n",
            "remote: Enumerating objects: 317, done.\u001b[K\n",
            "remote: Counting objects: 100% (169/169), done.\u001b[K\n",
            "remote: Compressing objects: 100% (61/61), done.\u001b[K\n",
            "remote: Total 317 (delta 122), reused 116 (delta 108), pack-reused 148\u001b[K\n",
            "Receiving objects: 100% (317/317), 592.00 KiB | 11.38 MiB/s, done.\n",
            "Resolving deltas: 100% (150/150), done.\n"
          ]
        }
      ],
      "source": [
        "!git clone https://github.com/nczarli/f-jl221-2.git\n",
        "!git clone https://github.com/nczarli/SoftTeacherCustomDataset.git"
      ]
    },
    {
      "cell_type": "code",
      "source": [
        "ls"
      ],
      "metadata": {
        "colab": {
          "base_uri": "https://localhost:8080/"
        },
        "id": "JLo416fmhx32",
        "outputId": "45eb33d9-aac1-4841-d47b-a0e3f2fff471"
      },
      "execution_count": 2,
      "outputs": [
        {
          "output_type": "stream",
          "name": "stdout",
          "text": [
            "\u001b[0m\u001b[01;34mf-jl221-2\u001b[0m/  \u001b[01;34msample_data\u001b[0m/  \u001b[01;34mSoftTeacherCustomDataset\u001b[0m/\n"
          ]
        }
      ]
    },
    {
      "cell_type": "code",
      "source": [
        "cd SoftTeacherCustomDataset/"
      ],
      "metadata": {
        "colab": {
          "base_uri": "https://localhost:8080/"
        },
        "id": "NeAv9-TUhzHS",
        "outputId": "e726c877-e674-46b8-dbdf-90c8aa3cf31c"
      },
      "execution_count": 3,
      "outputs": [
        {
          "output_type": "stream",
          "name": "stdout",
          "text": [
            "/content/SoftTeacherCustomDataset\n"
          ]
        }
      ]
    },
    {
      "cell_type": "code",
      "source": [
        "ls"
      ],
      "metadata": {
        "colab": {
          "base_uri": "https://localhost:8080/"
        },
        "id": "RZgJDJOXkIqI",
        "outputId": "d88f9e5c-211a-458e-e4b0-98331b94f763"
      },
      "execution_count": 4,
      "outputs": [
        {
          "output_type": "stream",
          "name": "stdout",
          "text": [
            "\u001b[0m\u001b[01;34mconfigs\u001b[0m/  LICENSE   README.md         \u001b[01;34mresources\u001b[0m/   setup.py  \u001b[01;34mtools\u001b[0m/\n",
            "\u001b[01;34mdemo\u001b[0m/     Makefile  requirements.txt  SECURITY.md  \u001b[01;34mssod\u001b[0m/\n"
          ]
        }
      ]
    },
    {
      "cell_type": "code",
      "source": [
        "!pip install torch==1.9.0+cu111 torchvision==0.10.0+cu111 torchaudio==0.9.0 -f https://download.pytorch.org/whl/torch_stable.html"
      ],
      "metadata": {
        "colab": {
          "base_uri": "https://localhost:8080/"
        },
        "id": "rcRWylwLnAmV",
        "outputId": "47328973-9260-4cb3-c454-2cbda6d39e97"
      },
      "execution_count": 5,
      "outputs": [
        {
          "output_type": "stream",
          "name": "stdout",
          "text": [
            "Looking in indexes: https://pypi.org/simple, https://us-python.pkg.dev/colab-wheels/public/simple/\n",
            "Looking in links: https://download.pytorch.org/whl/torch_stable.html\n",
            "Collecting torch==1.9.0+cu111\n",
            "  Downloading https://download.pytorch.org/whl/cu111/torch-1.9.0%2Bcu111-cp37-cp37m-linux_x86_64.whl (2041.3 MB)\n",
            "\u001b[K     |█████████████                   | 834.1 MB 1.4 MB/s eta 0:14:31tcmalloc: large alloc 1147494400 bytes == 0x3a678000 @  0x7f152c288615 0x58ead6 0x4f355e 0x4d222f 0x51041f 0x5b4ee6 0x58ff2e 0x510325 0x5b4ee6 0x58ff2e 0x50d482 0x4d00fb 0x50cb8d 0x4d00fb 0x50cb8d 0x4d00fb 0x50cb8d 0x4bac0a 0x538a76 0x590ae5 0x510280 0x5b4ee6 0x58ff2e 0x50d482 0x5b4ee6 0x58ff2e 0x50c4fc 0x58fd37 0x50ca37 0x5b4ee6 0x58ff2e\n",
            "\u001b[K     |████████████████▌               | 1055.7 MB 1.3 MB/s eta 0:12:33tcmalloc: large alloc 1434370048 bytes == 0x7ecce000 @  0x7f152c288615 0x58ead6 0x4f355e 0x4d222f 0x51041f 0x5b4ee6 0x58ff2e 0x510325 0x5b4ee6 0x58ff2e 0x50d482 0x4d00fb 0x50cb8d 0x4d00fb 0x50cb8d 0x4d00fb 0x50cb8d 0x4bac0a 0x538a76 0x590ae5 0x510280 0x5b4ee6 0x58ff2e 0x50d482 0x5b4ee6 0x58ff2e 0x50c4fc 0x58fd37 0x50ca37 0x5b4ee6 0x58ff2e\n",
            "\u001b[K     |█████████████████████           | 1336.2 MB 1.3 MB/s eta 0:09:10tcmalloc: large alloc 1792966656 bytes == 0x3b00000 @  0x7f152c288615 0x58ead6 0x4f355e 0x4d222f 0x51041f 0x5b4ee6 0x58ff2e 0x510325 0x5b4ee6 0x58ff2e 0x50d482 0x4d00fb 0x50cb8d 0x4d00fb 0x50cb8d 0x4d00fb 0x50cb8d 0x4bac0a 0x538a76 0x590ae5 0x510280 0x5b4ee6 0x58ff2e 0x50d482 0x5b4ee6 0x58ff2e 0x50c4fc 0x58fd37 0x50ca37 0x5b4ee6 0x58ff2e\n",
            "\u001b[K     |██████████████████████████▌     | 1691.1 MB 1.2 MB/s eta 0:04:42tcmalloc: large alloc 2241208320 bytes == 0x6e8e8000 @  0x7f152c288615 0x58ead6 0x4f355e 0x4d222f 0x51041f 0x5b4ee6 0x58ff2e 0x510325 0x5b4ee6 0x58ff2e 0x50d482 0x4d00fb 0x50cb8d 0x4d00fb 0x50cb8d 0x4d00fb 0x50cb8d 0x4bac0a 0x538a76 0x590ae5 0x510280 0x5b4ee6 0x58ff2e 0x50d482 0x5b4ee6 0x58ff2e 0x50c4fc 0x58fd37 0x50ca37 0x5b4ee6 0x58ff2e\n",
            "\u001b[K     |████████████████████████████████| 2041.3 MB 1.1 MB/s eta 0:00:01tcmalloc: large alloc 2041348096 bytes == 0xf424a000 @  0x7f152c2871e7 0x4b2590 0x4b261c 0x58ead6 0x4f355e 0x4d222f 0x51041f 0x5b4ee6 0x58ff2e 0x50ca37 0x5b4ee6 0x58ff2e 0x50ca37 0x5b4ee6 0x58ff2e 0x50ca37 0x5b4ee6 0x58ff2e 0x50ca37 0x5b4ee6 0x58ff2e 0x50ca37 0x58fd37 0x50ca37 0x5b4ee6 0x58ff2e 0x50d482 0x5b4ee6 0x58ff2e 0x50d482 0x5b4ee6\n",
            "tcmalloc: large alloc 2551685120 bytes == 0x1e21c8000 @  0x7f152c288615 0x58ead6 0x4f355e 0x4d222f 0x51041f 0x5b4ee6 0x58ff2e 0x50ca37 0x5b4ee6 0x58ff2e 0x50ca37 0x5b4ee6 0x58ff2e 0x50ca37 0x5b4ee6 0x58ff2e 0x50ca37 0x5b4ee6 0x58ff2e 0x50ca37 0x58fd37 0x50ca37 0x5b4ee6 0x58ff2e 0x50d482 0x5b4ee6 0x58ff2e 0x50d482 0x5b4ee6 0x4bad99 0x4d3249\n",
            "\u001b[K     |████████████████████████████████| 2041.3 MB 7.2 kB/s \n",
            "\u001b[?25hCollecting torchvision==0.10.0+cu111\n",
            "  Downloading https://download.pytorch.org/whl/cu111/torchvision-0.10.0%2Bcu111-cp37-cp37m-linux_x86_64.whl (23.2 MB)\n",
            "\u001b[K     |████████████████████████████████| 23.2 MB 1.5 MB/s \n",
            "\u001b[?25hCollecting torchaudio==0.9.0\n",
            "  Downloading torchaudio-0.9.0-cp37-cp37m-manylinux1_x86_64.whl (1.9 MB)\n",
            "\u001b[K     |████████████████████████████████| 1.9 MB 38.6 MB/s \n",
            "\u001b[?25hRequirement already satisfied: typing-extensions in /usr/local/lib/python3.7/dist-packages (from torch==1.9.0+cu111) (4.1.1)\n",
            "Requirement already satisfied: numpy in /usr/local/lib/python3.7/dist-packages (from torchvision==0.10.0+cu111) (1.21.6)\n",
            "Requirement already satisfied: pillow>=5.3.0 in /usr/local/lib/python3.7/dist-packages (from torchvision==0.10.0+cu111) (7.1.2)\n",
            "Installing collected packages: torch, torchvision, torchaudio\n",
            "  Attempting uninstall: torch\n",
            "    Found existing installation: torch 1.12.1+cu113\n",
            "    Uninstalling torch-1.12.1+cu113:\n",
            "      Successfully uninstalled torch-1.12.1+cu113\n",
            "  Attempting uninstall: torchvision\n",
            "    Found existing installation: torchvision 0.13.1+cu113\n",
            "    Uninstalling torchvision-0.13.1+cu113:\n",
            "      Successfully uninstalled torchvision-0.13.1+cu113\n",
            "  Attempting uninstall: torchaudio\n",
            "    Found existing installation: torchaudio 0.12.1+cu113\n",
            "    Uninstalling torchaudio-0.12.1+cu113:\n",
            "      Successfully uninstalled torchaudio-0.12.1+cu113\n",
            "\u001b[31mERROR: pip's dependency resolver does not currently take into account all the packages that are installed. This behaviour is the source of the following dependency conflicts.\n",
            "torchtext 0.13.1 requires torch==1.12.1, but you have torch 1.9.0+cu111 which is incompatible.\u001b[0m\n",
            "Successfully installed torch-1.9.0+cu111 torchaudio-0.9.0 torchvision-0.10.0+cu111\n"
          ]
        }
      ]
    },
    {
      "cell_type": "code",
      "source": [
        "pip install mmcv-full==1.3.17 -f https://download.openmmlab.com/mmcv/dist/cu111/torch1.9.0/index.html"
      ],
      "metadata": {
        "colab": {
          "base_uri": "https://localhost:8080/"
        },
        "id": "M4S8g2uJoiSy",
        "outputId": "c3ed1c91-e170-436a-fc11-665ddd179cc2"
      },
      "execution_count": 6,
      "outputs": [
        {
          "output_type": "stream",
          "name": "stdout",
          "text": [
            "Looking in indexes: https://pypi.org/simple, https://us-python.pkg.dev/colab-wheels/public/simple/\n",
            "Looking in links: https://download.openmmlab.com/mmcv/dist/cu111/torch1.9.0/index.html\n",
            "Collecting mmcv-full==1.3.17\n",
            "  Downloading https://download.openmmlab.com/mmcv/dist/cu111/torch1.9.0/mmcv_full-1.3.17-cp37-cp37m-manylinux1_x86_64.whl (50.4 MB)\n",
            "\u001b[K     |████████████████████████████████| 50.4 MB 2.3 MB/s \n",
            "\u001b[?25hRequirement already satisfied: opencv-python>=3 in /usr/local/lib/python3.7/dist-packages (from mmcv-full==1.3.17) (4.6.0.66)\n",
            "Requirement already satisfied: Pillow in /usr/local/lib/python3.7/dist-packages (from mmcv-full==1.3.17) (7.1.2)\n",
            "Requirement already satisfied: packaging in /usr/local/lib/python3.7/dist-packages (from mmcv-full==1.3.17) (21.3)\n",
            "Requirement already satisfied: pyyaml in /usr/local/lib/python3.7/dist-packages (from mmcv-full==1.3.17) (6.0)\n",
            "Collecting yapf\n",
            "  Downloading yapf-0.32.0-py2.py3-none-any.whl (190 kB)\n",
            "\u001b[K     |████████████████████████████████| 190 kB 16.6 MB/s \n",
            "\u001b[?25hCollecting addict\n",
            "  Downloading addict-2.4.0-py3-none-any.whl (3.8 kB)\n",
            "Requirement already satisfied: numpy in /usr/local/lib/python3.7/dist-packages (from mmcv-full==1.3.17) (1.21.6)\n",
            "Requirement already satisfied: pyparsing!=3.0.5,>=2.0.2 in /usr/local/lib/python3.7/dist-packages (from packaging->mmcv-full==1.3.17) (3.0.9)\n",
            "Installing collected packages: yapf, addict, mmcv-full\n",
            "Successfully installed addict-2.4.0 mmcv-full-1.3.17 yapf-0.32.0\n"
          ]
        }
      ]
    },
    {
      "cell_type": "code",
      "source": [
        "!make install"
      ],
      "metadata": {
        "colab": {
          "base_uri": "https://localhost:8080/"
        },
        "id": "56s992D7kSFe",
        "outputId": "1ef3de67-aa51-47b4-db81-60643ec75062"
      },
      "execution_count": 7,
      "outputs": [
        {
          "output_type": "stream",
          "name": "stdout",
          "text": [
            "make pre\n",
            "make[1]: Entering directory '/content/SoftTeacherCustomDataset'\n",
            "python -m pip install -r requirements.txt -f https://download.pytorch.org/whl/torch_stable.html\n",
            "Looking in indexes: https://pypi.org/simple, https://us-python.pkg.dev/colab-wheels/public/simple/\n",
            "Looking in links: https://download.pytorch.org/whl/torch_stable.html\n",
            "Requirement already satisfied: torch in /usr/local/lib/python3.7/dist-packages (from -r requirements.txt (line 1)) (1.9.0+cu111)\n",
            "Requirement already satisfied: torchvision in /usr/local/lib/python3.7/dist-packages (from -r requirements.txt (line 2)) (0.10.0+cu111)\n",
            "Requirement already satisfied: mmcv-full in /usr/local/lib/python3.7/dist-packages (from -r requirements.txt (line 3)) (1.3.17)\n",
            "Collecting wandb\n",
            "  Downloading wandb-0.13.5-py2.py3-none-any.whl (1.9 MB)\n",
            "\u001b[K     |████████████████████████████████| 1.9 MB 34.0 MB/s \n",
            "\u001b[?25hRequirement already satisfied: prettytable in /usr/local/lib/python3.7/dist-packages (from -r requirements.txt (line 5)) (3.5.0)\n",
            "Requirement already satisfied: typing-extensions in /usr/local/lib/python3.7/dist-packages (from torch->-r requirements.txt (line 1)) (4.1.1)\n",
            "Requirement already satisfied: numpy in /usr/local/lib/python3.7/dist-packages (from torchvision->-r requirements.txt (line 2)) (1.21.6)\n",
            "Requirement already satisfied: pillow>=5.3.0 in /usr/local/lib/python3.7/dist-packages (from torchvision->-r requirements.txt (line 2)) (7.1.2)\n",
            "Requirement already satisfied: yapf in /usr/local/lib/python3.7/dist-packages (from mmcv-full->-r requirements.txt (line 3)) (0.32.0)\n",
            "Requirement already satisfied: pyyaml in /usr/local/lib/python3.7/dist-packages (from mmcv-full->-r requirements.txt (line 3)) (6.0)\n",
            "Requirement already satisfied: addict in /usr/local/lib/python3.7/dist-packages (from mmcv-full->-r requirements.txt (line 3)) (2.4.0)\n",
            "Requirement already satisfied: packaging in /usr/local/lib/python3.7/dist-packages (from mmcv-full->-r requirements.txt (line 3)) (21.3)\n",
            "Requirement already satisfied: opencv-python>=3 in /usr/local/lib/python3.7/dist-packages (from mmcv-full->-r requirements.txt (line 3)) (4.6.0.66)\n",
            "Collecting setproctitle\n",
            "  Downloading setproctitle-1.3.2-cp37-cp37m-manylinux_2_5_x86_64.manylinux1_x86_64.manylinux_2_17_x86_64.manylinux2014_x86_64.whl (30 kB)\n",
            "Collecting pathtools\n",
            "  Downloading pathtools-0.1.2.tar.gz (11 kB)\n",
            "Requirement already satisfied: six>=1.13.0 in /usr/local/lib/python3.7/dist-packages (from wandb->-r requirements.txt (line 4)) (1.15.0)\n",
            "Requirement already satisfied: setuptools in /usr/local/lib/python3.7/dist-packages (from wandb->-r requirements.txt (line 4)) (57.4.0)\n",
            "Requirement already satisfied: promise<3,>=2.0 in /usr/local/lib/python3.7/dist-packages (from wandb->-r requirements.txt (line 4)) (2.3)\n",
            "Collecting sentry-sdk>=1.0.0\n",
            "  Downloading sentry_sdk-1.10.1-py2.py3-none-any.whl (166 kB)\n",
            "\u001b[K     |████████████████████████████████| 166 kB 49.7 MB/s \n",
            "\u001b[?25hCollecting docker-pycreds>=0.4.0\n",
            "  Downloading docker_pycreds-0.4.0-py2.py3-none-any.whl (9.0 kB)\n",
            "Requirement already satisfied: requests<3,>=2.0.0 in /usr/local/lib/python3.7/dist-packages (from wandb->-r requirements.txt (line 4)) (2.23.0)\n",
            "Requirement already satisfied: protobuf!=4.0.*,!=4.21.0,<5,>=3.12.0 in /usr/local/lib/python3.7/dist-packages (from wandb->-r requirements.txt (line 4)) (3.17.3)\n",
            "Collecting GitPython>=1.0.0\n",
            "  Downloading GitPython-3.1.29-py3-none-any.whl (182 kB)\n",
            "\u001b[K     |████████████████████████████████| 182 kB 10.3 MB/s \n",
            "\u001b[?25hRequirement already satisfied: psutil>=5.0.0 in /usr/local/lib/python3.7/dist-packages (from wandb->-r requirements.txt (line 4)) (5.4.8)\n",
            "Requirement already satisfied: Click!=8.0.0,>=7.0 in /usr/local/lib/python3.7/dist-packages (from wandb->-r requirements.txt (line 4)) (7.1.2)\n",
            "Collecting shortuuid>=0.5.0\n",
            "  Downloading shortuuid-1.0.10-py3-none-any.whl (10 kB)\n",
            "Collecting gitdb<5,>=4.0.1\n",
            "  Downloading gitdb-4.0.9-py3-none-any.whl (63 kB)\n",
            "\u001b[K     |████████████████████████████████| 63 kB 2.2 MB/s \n",
            "\u001b[?25hCollecting smmap<6,>=3.0.1\n",
            "  Downloading smmap-5.0.0-py3-none-any.whl (24 kB)\n",
            "Requirement already satisfied: chardet<4,>=3.0.2 in /usr/local/lib/python3.7/dist-packages (from requests<3,>=2.0.0->wandb->-r requirements.txt (line 4)) (3.0.4)\n",
            "Requirement already satisfied: certifi>=2017.4.17 in /usr/local/lib/python3.7/dist-packages (from requests<3,>=2.0.0->wandb->-r requirements.txt (line 4)) (2022.9.24)\n",
            "Requirement already satisfied: urllib3!=1.25.0,!=1.25.1,<1.26,>=1.21.1 in /usr/local/lib/python3.7/dist-packages (from requests<3,>=2.0.0->wandb->-r requirements.txt (line 4)) (1.24.3)\n",
            "Requirement already satisfied: idna<3,>=2.5 in /usr/local/lib/python3.7/dist-packages (from requests<3,>=2.0.0->wandb->-r requirements.txt (line 4)) (2.10)\n",
            "Collecting sentry-sdk>=1.0.0\n",
            "  Downloading sentry_sdk-1.10.0-py2.py3-none-any.whl (166 kB)\n",
            "\u001b[K     |████████████████████████████████| 166 kB 66.5 MB/s \n",
            "\u001b[?25h  Downloading sentry_sdk-1.9.10-py2.py3-none-any.whl (162 kB)\n",
            "\u001b[K     |████████████████████████████████| 162 kB 78.4 MB/s \n",
            "\u001b[?25h  Downloading sentry_sdk-1.9.9-py2.py3-none-any.whl (162 kB)\n",
            "\u001b[K     |████████████████████████████████| 162 kB 77.6 MB/s \n",
            "\u001b[?25h  Downloading sentry_sdk-1.9.8-py2.py3-none-any.whl (158 kB)\n",
            "\u001b[K     |████████████████████████████████| 158 kB 64.9 MB/s \n",
            "\u001b[?25h  Downloading sentry_sdk-1.9.7-py2.py3-none-any.whl (157 kB)\n",
            "\u001b[K     |████████████████████████████████| 157 kB 76.8 MB/s \n",
            "\u001b[?25h  Downloading sentry_sdk-1.9.6-py2.py3-none-any.whl (157 kB)\n",
            "\u001b[K     |████████████████████████████████| 157 kB 74.8 MB/s \n",
            "\u001b[?25h  Downloading sentry_sdk-1.9.5-py2.py3-none-any.whl (157 kB)\n",
            "\u001b[K     |████████████████████████████████| 157 kB 73.6 MB/s \n",
            "\u001b[?25h  Downloading sentry_sdk-1.9.4-py2.py3-none-any.whl (157 kB)\n",
            "\u001b[K     |████████████████████████████████| 157 kB 59.4 MB/s \n",
            "\u001b[?25h  Downloading sentry_sdk-1.9.3-py2.py3-none-any.whl (157 kB)\n",
            "\u001b[K     |████████████████████████████████| 157 kB 69.8 MB/s \n",
            "\u001b[?25h  Downloading sentry_sdk-1.9.2-py2.py3-none-any.whl (157 kB)\n",
            "\u001b[K     |████████████████████████████████| 157 kB 76.7 MB/s \n",
            "\u001b[?25h  Downloading sentry_sdk-1.9.1-py2.py3-none-any.whl (157 kB)\n",
            "\u001b[K     |████████████████████████████████| 157 kB 80.0 MB/s \n",
            "\u001b[?25h  Downloading sentry_sdk-1.9.0-py2.py3-none-any.whl (156 kB)\n",
            "\u001b[K     |████████████████████████████████| 156 kB 78.2 MB/s \n",
            "\u001b[?25hRequirement already satisfied: importlib-metadata in /usr/local/lib/python3.7/dist-packages (from prettytable->-r requirements.txt (line 5)) (4.13.0)\n",
            "Requirement already satisfied: wcwidth in /usr/local/lib/python3.7/dist-packages (from prettytable->-r requirements.txt (line 5)) (0.2.5)\n",
            "Requirement already satisfied: zipp>=0.5 in /usr/local/lib/python3.7/dist-packages (from importlib-metadata->prettytable->-r requirements.txt (line 5)) (3.10.0)\n",
            "Requirement already satisfied: pyparsing!=3.0.5,>=2.0.2 in /usr/local/lib/python3.7/dist-packages (from packaging->mmcv-full->-r requirements.txt (line 3)) (3.0.9)\n",
            "Building wheels for collected packages: pathtools\n",
            "  Building wheel for pathtools (setup.py) ... \u001b[?25l\u001b[?25hdone\n",
            "  Created wheel for pathtools: filename=pathtools-0.1.2-py3-none-any.whl size=8808 sha256=aac8f752c7d7d01c5cd22d75dc7cf63ab27ede83b5bfb402efbaaab0fcb891cf\n",
            "  Stored in directory: /root/.cache/pip/wheels/3e/31/09/fa59cef12cdcfecc627b3d24273699f390e71828921b2cbba2\n",
            "Successfully built pathtools\n",
            "Installing collected packages: smmap, gitdb, shortuuid, setproctitle, sentry-sdk, pathtools, GitPython, docker-pycreds, wandb\n",
            "Successfully installed GitPython-3.1.29 docker-pycreds-0.4.0 gitdb-4.0.9 pathtools-0.1.2 sentry-sdk-1.9.0 setproctitle-1.3.2 shortuuid-1.0.10 smmap-5.0.0 wandb-0.13.5\n",
            "mkdir -p thirdparty\n",
            "git clone https://github.com/open-mmlab/mmdetection.git thirdparty/mmdetection\n",
            "Cloning into 'thirdparty/mmdetection'...\n",
            "remote: Enumerating objects: 32369, done.\u001b[K\n",
            "remote: Counting objects: 100% (31/31), done.\u001b[K\n",
            "remote: Compressing objects: 100% (30/30), done.\u001b[K\n",
            "remote: Total 32369 (delta 8), reused 10 (delta 1), pack-reused 32338\u001b[K\n",
            "Receiving objects: 100% (32369/32369), 41.83 MiB | 16.82 MiB/s, done.\n",
            "Resolving deltas: 100% (23306/23306), done.\n",
            "cd thirdparty/mmdetection && python -m pip install -e .\n",
            "Looking in indexes: https://pypi.org/simple, https://us-python.pkg.dev/colab-wheels/public/simple/\n",
            "Obtaining file:///content/SoftTeacherCustomDataset/thirdparty/mmdetection\n",
            "Requirement already satisfied: matplotlib in /usr/local/lib/python3.7/dist-packages (from mmdet==2.25.3) (3.2.2)\n",
            "Requirement already satisfied: numpy in /usr/local/lib/python3.7/dist-packages (from mmdet==2.25.3) (1.21.6)\n",
            "Requirement already satisfied: pycocotools in /usr/local/lib/python3.7/dist-packages (from mmdet==2.25.3) (2.0.6)\n",
            "Requirement already satisfied: six in /usr/local/lib/python3.7/dist-packages (from mmdet==2.25.3) (1.15.0)\n",
            "Collecting terminaltables\n",
            "  Downloading terminaltables-3.1.10-py2.py3-none-any.whl (15 kB)\n",
            "Requirement already satisfied: cycler>=0.10 in /usr/local/lib/python3.7/dist-packages (from matplotlib->mmdet==2.25.3) (0.11.0)\n",
            "Requirement already satisfied: python-dateutil>=2.1 in /usr/local/lib/python3.7/dist-packages (from matplotlib->mmdet==2.25.3) (2.8.2)\n",
            "Requirement already satisfied: kiwisolver>=1.0.1 in /usr/local/lib/python3.7/dist-packages (from matplotlib->mmdet==2.25.3) (1.4.4)\n",
            "Requirement already satisfied: pyparsing!=2.0.4,!=2.1.2,!=2.1.6,>=2.0.1 in /usr/local/lib/python3.7/dist-packages (from matplotlib->mmdet==2.25.3) (3.0.9)\n",
            "Requirement already satisfied: typing-extensions in /usr/local/lib/python3.7/dist-packages (from kiwisolver>=1.0.1->matplotlib->mmdet==2.25.3) (4.1.1)\n",
            "Installing collected packages: terminaltables, mmdet\n",
            "  Running setup.py develop for mmdet\n",
            "Successfully installed mmdet-2.25.3 terminaltables-3.1.10\n",
            "make[1]: Leaving directory '/content/SoftTeacherCustomDataset'\n",
            "python -m pip install -e .\n",
            "Looking in indexes: https://pypi.org/simple, https://us-python.pkg.dev/colab-wheels/public/simple/\n",
            "Obtaining file:///content/SoftTeacherCustomDataset\n",
            "Requirement already satisfied: torch in /usr/local/lib/python3.7/dist-packages (from ssod==0.0.1) (1.9.0+cu111)\n",
            "Requirement already satisfied: torchvision in /usr/local/lib/python3.7/dist-packages (from ssod==0.0.1) (0.10.0+cu111)\n",
            "Requirement already satisfied: mmcv-full in /usr/local/lib/python3.7/dist-packages (from ssod==0.0.1) (1.3.17)\n",
            "Requirement already satisfied: wandb in /usr/local/lib/python3.7/dist-packages (from ssod==0.0.1) (0.13.5)\n",
            "Requirement already satisfied: prettytable in /usr/local/lib/python3.7/dist-packages (from ssod==0.0.1) (3.5.0)\n",
            "Requirement already satisfied: yapf in /usr/local/lib/python3.7/dist-packages (from mmcv-full->ssod==0.0.1) (0.32.0)\n",
            "Requirement already satisfied: Pillow in /usr/local/lib/python3.7/dist-packages (from mmcv-full->ssod==0.0.1) (7.1.2)\n",
            "Requirement already satisfied: packaging in /usr/local/lib/python3.7/dist-packages (from mmcv-full->ssod==0.0.1) (21.3)\n",
            "Requirement already satisfied: addict in /usr/local/lib/python3.7/dist-packages (from mmcv-full->ssod==0.0.1) (2.4.0)\n",
            "Requirement already satisfied: numpy in /usr/local/lib/python3.7/dist-packages (from mmcv-full->ssod==0.0.1) (1.21.6)\n",
            "Requirement already satisfied: opencv-python>=3 in /usr/local/lib/python3.7/dist-packages (from mmcv-full->ssod==0.0.1) (4.6.0.66)\n",
            "Requirement already satisfied: pyyaml in /usr/local/lib/python3.7/dist-packages (from mmcv-full->ssod==0.0.1) (6.0)\n",
            "Requirement already satisfied: pyparsing!=3.0.5,>=2.0.2 in /usr/local/lib/python3.7/dist-packages (from packaging->mmcv-full->ssod==0.0.1) (3.0.9)\n",
            "Requirement already satisfied: wcwidth in /usr/local/lib/python3.7/dist-packages (from prettytable->ssod==0.0.1) (0.2.5)\n",
            "Requirement already satisfied: importlib-metadata in /usr/local/lib/python3.7/dist-packages (from prettytable->ssod==0.0.1) (4.13.0)\n",
            "Requirement already satisfied: typing-extensions>=3.6.4 in /usr/local/lib/python3.7/dist-packages (from importlib-metadata->prettytable->ssod==0.0.1) (4.1.1)\n",
            "Requirement already satisfied: zipp>=0.5 in /usr/local/lib/python3.7/dist-packages (from importlib-metadata->prettytable->ssod==0.0.1) (3.10.0)\n",
            "Requirement already satisfied: pathtools in /usr/local/lib/python3.7/dist-packages (from wandb->ssod==0.0.1) (0.1.2)\n",
            "Requirement already satisfied: GitPython>=1.0.0 in /usr/local/lib/python3.7/dist-packages (from wandb->ssod==0.0.1) (3.1.29)\n",
            "Requirement already satisfied: setuptools in /usr/local/lib/python3.7/dist-packages (from wandb->ssod==0.0.1) (57.4.0)\n",
            "Requirement already satisfied: shortuuid>=0.5.0 in /usr/local/lib/python3.7/dist-packages (from wandb->ssod==0.0.1) (1.0.10)\n",
            "Requirement already satisfied: requests<3,>=2.0.0 in /usr/local/lib/python3.7/dist-packages (from wandb->ssod==0.0.1) (2.23.0)\n",
            "Requirement already satisfied: sentry-sdk>=1.0.0 in /usr/local/lib/python3.7/dist-packages (from wandb->ssod==0.0.1) (1.9.0)\n",
            "Requirement already satisfied: protobuf!=4.0.*,!=4.21.0,<5,>=3.12.0 in /usr/local/lib/python3.7/dist-packages (from wandb->ssod==0.0.1) (3.17.3)\n",
            "Requirement already satisfied: promise<3,>=2.0 in /usr/local/lib/python3.7/dist-packages (from wandb->ssod==0.0.1) (2.3)\n",
            "Requirement already satisfied: setproctitle in /usr/local/lib/python3.7/dist-packages (from wandb->ssod==0.0.1) (1.3.2)\n",
            "Requirement already satisfied: six>=1.13.0 in /usr/local/lib/python3.7/dist-packages (from wandb->ssod==0.0.1) (1.15.0)\n",
            "Requirement already satisfied: Click!=8.0.0,>=7.0 in /usr/local/lib/python3.7/dist-packages (from wandb->ssod==0.0.1) (7.1.2)\n",
            "Requirement already satisfied: docker-pycreds>=0.4.0 in /usr/local/lib/python3.7/dist-packages (from wandb->ssod==0.0.1) (0.4.0)\n",
            "Requirement already satisfied: psutil>=5.0.0 in /usr/local/lib/python3.7/dist-packages (from wandb->ssod==0.0.1) (5.4.8)\n",
            "Requirement already satisfied: gitdb<5,>=4.0.1 in /usr/local/lib/python3.7/dist-packages (from GitPython>=1.0.0->wandb->ssod==0.0.1) (4.0.9)\n",
            "Requirement already satisfied: smmap<6,>=3.0.1 in /usr/local/lib/python3.7/dist-packages (from gitdb<5,>=4.0.1->GitPython>=1.0.0->wandb->ssod==0.0.1) (5.0.0)\n",
            "Requirement already satisfied: idna<3,>=2.5 in /usr/local/lib/python3.7/dist-packages (from requests<3,>=2.0.0->wandb->ssod==0.0.1) (2.10)\n",
            "Requirement already satisfied: certifi>=2017.4.17 in /usr/local/lib/python3.7/dist-packages (from requests<3,>=2.0.0->wandb->ssod==0.0.1) (2022.9.24)\n",
            "Requirement already satisfied: chardet<4,>=3.0.2 in /usr/local/lib/python3.7/dist-packages (from requests<3,>=2.0.0->wandb->ssod==0.0.1) (3.0.4)\n",
            "Requirement already satisfied: urllib3!=1.25.0,!=1.25.1,<1.26,>=1.21.1 in /usr/local/lib/python3.7/dist-packages (from requests<3,>=2.0.0->wandb->ssod==0.0.1) (1.24.3)\n",
            "Installing collected packages: ssod\n",
            "  Running setup.py develop for ssod\n",
            "Successfully installed ssod-0.0.1\n"
          ]
        }
      ]
    },
    {
      "cell_type": "code",
      "source": [
        "cd .."
      ],
      "metadata": {
        "colab": {
          "base_uri": "https://localhost:8080/"
        },
        "id": "G2LrltuRkiCe",
        "outputId": "63db1b82-ef25-414d-e8c5-a35650794f18"
      },
      "execution_count": 8,
      "outputs": [
        {
          "output_type": "stream",
          "name": "stdout",
          "text": [
            "/content\n"
          ]
        }
      ]
    },
    {
      "cell_type": "code",
      "source": [
        "ls"
      ],
      "metadata": {
        "colab": {
          "base_uri": "https://localhost:8080/"
        },
        "id": "hQ2slsHPlPDJ",
        "outputId": "8bd05550-f549-414e-d7b6-9882cc71445a"
      },
      "execution_count": 9,
      "outputs": [
        {
          "output_type": "stream",
          "name": "stdout",
          "text": [
            "\u001b[0m\u001b[01;34mf-jl221-2\u001b[0m/  \u001b[01;34msample_data\u001b[0m/  \u001b[01;34mSoftTeacherCustomDataset\u001b[0m/\n"
          ]
        }
      ]
    },
    {
      "cell_type": "code",
      "source": [
        "!cp -R f-jl221-2/labels_generated/ SoftTeacherCustomDataset/labels_generated"
      ],
      "metadata": {
        "id": "Q1sLAxofsoAi"
      },
      "execution_count": 10,
      "outputs": []
    },
    {
      "cell_type": "code",
      "source": [
        "cd SoftTeacherCustomDataset/"
      ],
      "metadata": {
        "colab": {
          "base_uri": "https://localhost:8080/"
        },
        "id": "lfpKzmZSsx3k",
        "outputId": "73d27588-b347-47fa-dc00-163e01c0d59d"
      },
      "execution_count": 11,
      "outputs": [
        {
          "output_type": "stream",
          "name": "stdout",
          "text": [
            "/content/SoftTeacherCustomDataset\n"
          ]
        }
      ]
    },
    {
      "cell_type": "code",
      "source": [
        "ls"
      ],
      "metadata": {
        "colab": {
          "base_uri": "https://localhost:8080/"
        },
        "id": "1a57qK_Ls0YO",
        "outputId": "3677f2fa-2e35-42b2-86ea-5a1a87e15d34"
      },
      "execution_count": 12,
      "outputs": [
        {
          "output_type": "stream",
          "name": "stdout",
          "text": [
            "\u001b[0m\u001b[01;34mconfigs\u001b[0m/           LICENSE    requirements.txt  setup.py        \u001b[01;34mthirdparty\u001b[0m/\n",
            "\u001b[01;34mdemo\u001b[0m/              Makefile   \u001b[01;34mresources\u001b[0m/        \u001b[01;34mssod\u001b[0m/           \u001b[01;34mtools\u001b[0m/\n",
            "\u001b[01;34mlabels_generated\u001b[0m/  README.md  SECURITY.md       \u001b[01;34mssod.egg-info\u001b[0m/\n"
          ]
        }
      ]
    },
    {
      "cell_type": "code",
      "source": [
        "# Preprocess the images, scale y axis by 1.5\n",
        "\n",
        "# find all bmp images in labels_generated folder\n",
        "# for each image resize y axis by 1.5 times and overwrite the image\n",
        "\n",
        "import os\n",
        "import cv2\n",
        "import numpy as np\n",
        "\n",
        "# get all bmp files in labels_generated and subfolders\n",
        "bmp_files = []\n",
        "\n",
        "for root, dirs, files in os.walk(\"labels_generated\"):\n",
        "    for file in files:\n",
        "        if file.endswith(\".bmp\"):\n",
        "             bmp_files.append(os.path.join(root, file))\n",
        "print(len(bmp_files))\n",
        "# resize each bmp file\n",
        "for bmp_file in bmp_files:\n",
        "    img = cv2.imread(bmp_file, cv2.IMREAD_UNCHANGED)\n",
        "    print(img.shape)\n",
        "    img = cv2.resize(img, (0,0), fx=1, fy=1.5)\n",
        "    print(img.shape)\n",
        "    cv2.imwrite(bmp_file, img)"
      ],
      "metadata": {
        "colab": {
          "base_uri": "https://localhost:8080/"
        },
        "id": "7kbBMOBoLO6U",
        "outputId": "d8d35b6e-8e16-40fc-f225-e9ef0e6a8cb5"
      },
      "execution_count": 13,
      "outputs": [
        {
          "output_type": "stream",
          "name": "stdout",
          "text": [
            "16\n",
            "(500, 448)\n",
            "(750, 448)\n",
            "(500, 448)\n",
            "(750, 448)\n",
            "(500, 448)\n",
            "(750, 448)\n",
            "(500, 448)\n",
            "(750, 448)\n",
            "(500, 448)\n",
            "(750, 448)\n",
            "(500, 448)\n",
            "(750, 448)\n",
            "(500, 448)\n",
            "(750, 448)\n",
            "(500, 448)\n",
            "(750, 448)\n",
            "(500, 448)\n",
            "(750, 448)\n",
            "(500, 448)\n",
            "(750, 448)\n",
            "(500, 448)\n",
            "(750, 448)\n",
            "(500, 448)\n",
            "(750, 448)\n",
            "(500, 448)\n",
            "(750, 448)\n",
            "(500, 448)\n",
            "(750, 448)\n",
            "(500, 448)\n",
            "(750, 448)\n",
            "(500, 448)\n",
            "(750, 448)\n"
          ]
        }
      ]
    },
    {
      "cell_type": "code",
      "source": [
        "!bash tools/dist_train.sh configs/baseline/faster_rcnn_r50_caffe_fpn_generated_label.py 1"
      ],
      "metadata": {
        "colab": {
          "base_uri": "https://localhost:8080/"
        },
        "id": "4l3MTQ_Ts04O",
        "outputId": "2eacd812-d84f-4c13-e42c-04d57f5a950c"
      },
      "execution_count": 15,
      "outputs": [
        {
          "output_type": "stream",
          "name": "stdout",
          "text": [
            "/usr/local/lib/python3.7/dist-packages/torch/distributed/launch.py:164: DeprecationWarning: The 'warn' method is deprecated, use 'warning' instead\n",
            "  \"The module torch.distributed.launch is deprecated \"\n",
            "The module torch.distributed.launch is deprecated and going to be removed in future.Migrate to torch.distributed.run\n",
            "WARNING:torch.distributed.run:--use_env is deprecated and will be removed in future releases.\n",
            " Please read local_rank from `os.environ('LOCAL_RANK')` instead.\n",
            "INFO:torch.distributed.launcher.api:Starting elastic_operator with launch configs:\n",
            "  entrypoint       : tools/train.py\n",
            "  min_nodes        : 1\n",
            "  max_nodes        : 1\n",
            "  nproc_per_node   : 1\n",
            "  run_id           : none\n",
            "  rdzv_backend     : static\n",
            "  rdzv_endpoint    : 127.0.0.1:29500\n",
            "  rdzv_configs     : {'rank': 0, 'timeout': 900}\n",
            "  max_restarts     : 3\n",
            "  monitor_interval : 5\n",
            "  log_dir          : None\n",
            "  metrics_cfg      : {}\n",
            "\n",
            "INFO:torch.distributed.elastic.agent.server.local_elastic_agent:log directory set to: /tmp/torchelastic_y0skv94c/none_0sh126ja\n",
            "INFO:torch.distributed.elastic.agent.server.api:[default] starting workers for entrypoint: python3\n",
            "INFO:torch.distributed.elastic.agent.server.api:[default] Rendezvous'ing worker group\n",
            "/usr/local/lib/python3.7/dist-packages/torch/distributed/elastic/utils/store.py:53: FutureWarning: This is an experimental API and will be changed in future.\n",
            "  \"This is an experimental API and will be changed in future.\", FutureWarning\n",
            "INFO:torch.distributed.elastic.agent.server.api:[default] Rendezvous complete for workers. Result:\n",
            "  restart_count=0\n",
            "  master_addr=127.0.0.1\n",
            "  master_port=29500\n",
            "  group_rank=0\n",
            "  group_world_size=1\n",
            "  local_ranks=[0]\n",
            "  role_ranks=[0]\n",
            "  global_ranks=[0]\n",
            "  role_world_sizes=[1]\n",
            "  global_world_sizes=[1]\n",
            "\n",
            "INFO:torch.distributed.elastic.agent.server.api:[default] Starting worker group\n",
            "INFO:torch.distributed.elastic.multiprocessing:Setting worker0 reply file to: /tmp/torchelastic_y0skv94c/none_0sh126ja/attempt_0/0/error.json\n",
            "2022-11-10 11:08:55,575 - mmdet.ssod - INFO - [<StreamHandler <stderr> (INFO)>, <FileHandler /content/SoftTeacherCustomDataset/work_dirs/faster_rcnn_r50_caffe_fpn_generated_label/20221110_110855.log (INFO)>]\n",
            "2022-11-10 11:08:55,575 - mmdet.ssod - INFO - Environment info:\n",
            "------------------------------------------------------------\n",
            "sys.platform: linux\n",
            "Python: 3.7.15 (default, Oct 12 2022, 19:14:55) [GCC 7.5.0]\n",
            "CUDA available: True\n",
            "GPU 0: Tesla T4\n",
            "CUDA_HOME: /usr/local/cuda\n",
            "NVCC: Build cuda_11.2.r11.2/compiler.29618528_0\n",
            "GCC: gcc (Ubuntu 7.5.0-3ubuntu1~18.04) 7.5.0\n",
            "PyTorch: 1.9.0+cu111\n",
            "PyTorch compiling details: PyTorch built with:\n",
            "  - GCC 7.3\n",
            "  - C++ Version: 201402\n",
            "  - Intel(R) Math Kernel Library Version 2020.0.0 Product Build 20191122 for Intel(R) 64 architecture applications\n",
            "  - Intel(R) MKL-DNN v2.1.2 (Git Hash 98be7e8afa711dc9b66c8ff3504129cb82013cdb)\n",
            "  - OpenMP 201511 (a.k.a. OpenMP 4.5)\n",
            "  - NNPACK is enabled\n",
            "  - CPU capability usage: AVX2\n",
            "  - CUDA Runtime 11.1\n",
            "  - NVCC architecture flags: -gencode;arch=compute_37,code=sm_37;-gencode;arch=compute_50,code=sm_50;-gencode;arch=compute_60,code=sm_60;-gencode;arch=compute_70,code=sm_70;-gencode;arch=compute_75,code=sm_75;-gencode;arch=compute_80,code=sm_80;-gencode;arch=compute_86,code=sm_86\n",
            "  - CuDNN 8.0.5\n",
            "  - Magma 2.5.2\n",
            "  - Build settings: BLAS_INFO=mkl, BUILD_TYPE=Release, CUDA_VERSION=11.1, CUDNN_VERSION=8.0.5, CXX_COMPILER=/opt/rh/devtoolset-7/root/usr/bin/c++, CXX_FLAGS= -Wno-deprecated -fvisibility-inlines-hidden -DUSE_PTHREADPOOL -fopenmp -DNDEBUG -DUSE_KINETO -DUSE_FBGEMM -DUSE_QNNPACK -DUSE_PYTORCH_QNNPACK -DUSE_XNNPACK -DSYMBOLICATE_MOBILE_DEBUG_HANDLE -O2 -fPIC -Wno-narrowing -Wall -Wextra -Werror=return-type -Wno-missing-field-initializers -Wno-type-limits -Wno-array-bounds -Wno-unknown-pragmas -Wno-sign-compare -Wno-unused-parameter -Wno-unused-variable -Wno-unused-function -Wno-unused-result -Wno-unused-local-typedefs -Wno-strict-overflow -Wno-strict-aliasing -Wno-error=deprecated-declarations -Wno-stringop-overflow -Wno-psabi -Wno-error=pedantic -Wno-error=redundant-decls -Wno-error=old-style-cast -fdiagnostics-color=always -faligned-new -Wno-unused-but-set-variable -Wno-maybe-uninitialized -fno-math-errno -fno-trapping-math -Werror=format -Wno-stringop-overflow, LAPACK_INFO=mkl, PERF_WITH_AVX=1, PERF_WITH_AVX2=1, PERF_WITH_AVX512=1, TORCH_VERSION=1.9.0, USE_CUDA=ON, USE_CUDNN=ON, USE_EXCEPTION_PTR=1, USE_GFLAGS=OFF, USE_GLOG=OFF, USE_MKL=ON, USE_MKLDNN=ON, USE_MPI=OFF, USE_NCCL=ON, USE_NNPACK=ON, USE_OPENMP=ON, \n",
            "\n",
            "TorchVision: 0.10.0+cu111\n",
            "OpenCV: 4.6.0\n",
            "MMCV: 1.3.17\n",
            "MMCV Compiler: GCC 7.3\n",
            "MMCV CUDA Compiler: 11.1\n",
            "MMDetection: 2.25.3+4308632\n",
            "------------------------------------------------------------\n",
            "\n",
            "2022-11-10 11:08:56,002 - mmdet.ssod - INFO - Distributed training: True\n",
            "2022-11-10 11:08:56,407 - mmdet.ssod - INFO - Config:\n",
            "model = dict(\n",
            "    type='FasterRCNN',\n",
            "    backbone=dict(\n",
            "        type='ResNet',\n",
            "        depth=50,\n",
            "        num_stages=4,\n",
            "        out_indices=(0, 1, 2, 3),\n",
            "        frozen_stages=1,\n",
            "        norm_cfg=dict(type='BN', requires_grad=False),\n",
            "        norm_eval=True,\n",
            "        style='caffe',\n",
            "        init_cfg=dict(\n",
            "            type='Pretrained',\n",
            "            checkpoint='open-mmlab://detectron2/resnet50_caffe')),\n",
            "    neck=dict(\n",
            "        type='FPN',\n",
            "        in_channels=[256, 512, 1024, 2048],\n",
            "        out_channels=256,\n",
            "        num_outs=5),\n",
            "    rpn_head=dict(\n",
            "        type='RPNHead',\n",
            "        in_channels=256,\n",
            "        feat_channels=256,\n",
            "        anchor_generator=dict(\n",
            "            type='AnchorGenerator',\n",
            "            scales=[8],\n",
            "            ratios=[0.5, 1.0, 2.0],\n",
            "            strides=[4, 8, 16, 32, 64]),\n",
            "        bbox_coder=dict(\n",
            "            type='DeltaXYWHBBoxCoder',\n",
            "            target_means=[0.0, 0.0, 0.0, 0.0],\n",
            "            target_stds=[1.0, 1.0, 1.0, 1.0]),\n",
            "        loss_cls=dict(\n",
            "            type='CrossEntropyLoss', use_sigmoid=True, loss_weight=1.0),\n",
            "        loss_bbox=dict(type='L1Loss', loss_weight=1.0)),\n",
            "    roi_head=dict(\n",
            "        type='StandardRoIHead',\n",
            "        bbox_roi_extractor=dict(\n",
            "            type='SingleRoIExtractor',\n",
            "            roi_layer=dict(type='RoIAlign', output_size=7, sampling_ratio=0),\n",
            "            out_channels=256,\n",
            "            featmap_strides=[4, 8, 16, 32]),\n",
            "        bbox_head=dict(\n",
            "            type='Shared2FCBBoxHead',\n",
            "            in_channels=256,\n",
            "            fc_out_channels=1024,\n",
            "            roi_feat_size=7,\n",
            "            num_classes=3,\n",
            "            bbox_coder=dict(\n",
            "                type='DeltaXYWHBBoxCoder',\n",
            "                target_means=[0.0, 0.0, 0.0, 0.0],\n",
            "                target_stds=[0.1, 0.1, 0.2, 0.2]),\n",
            "            reg_class_agnostic=False,\n",
            "            loss_cls=dict(\n",
            "                type='CrossEntropyLoss', use_sigmoid=False, loss_weight=1.0),\n",
            "            loss_bbox=dict(type='L1Loss', loss_weight=1.0))),\n",
            "    train_cfg=dict(\n",
            "        rpn=dict(\n",
            "            assigner=dict(\n",
            "                type='MaxIoUAssigner',\n",
            "                pos_iou_thr=0.7,\n",
            "                neg_iou_thr=0.3,\n",
            "                min_pos_iou=0.3,\n",
            "                match_low_quality=True,\n",
            "                ignore_iof_thr=-1),\n",
            "            sampler=dict(\n",
            "                type='RandomSampler',\n",
            "                num=256,\n",
            "                pos_fraction=0.5,\n",
            "                neg_pos_ub=-1,\n",
            "                add_gt_as_proposals=False),\n",
            "            allowed_border=-1,\n",
            "            pos_weight=-1,\n",
            "            debug=False),\n",
            "        rpn_proposal=dict(\n",
            "            nms_pre=2000,\n",
            "            max_per_img=1000,\n",
            "            nms=dict(type='nms', iou_threshold=0.7),\n",
            "            min_bbox_size=0),\n",
            "        rcnn=dict(\n",
            "            assigner=dict(\n",
            "                type='MaxIoUAssigner',\n",
            "                pos_iou_thr=0.5,\n",
            "                neg_iou_thr=0.5,\n",
            "                min_pos_iou=0.5,\n",
            "                match_low_quality=False,\n",
            "                ignore_iof_thr=-1),\n",
            "            sampler=dict(\n",
            "                type='RandomSampler',\n",
            "                num=512,\n",
            "                pos_fraction=0.25,\n",
            "                neg_pos_ub=-1,\n",
            "                add_gt_as_proposals=True),\n",
            "            pos_weight=-1,\n",
            "            debug=False)),\n",
            "    test_cfg=dict(\n",
            "        rpn=dict(\n",
            "            nms_pre=1000,\n",
            "            max_per_img=1000,\n",
            "            nms=dict(type='nms', iou_threshold=0.7),\n",
            "            min_bbox_size=0),\n",
            "        rcnn=dict(\n",
            "            score_thr=0.05,\n",
            "            nms=dict(type='nms', iou_threshold=0.5),\n",
            "            max_per_img=100)))\n",
            "dataset_type = 'CocoDataset'\n",
            "data_root = 'data/coco/'\n",
            "img_norm_cfg = dict(\n",
            "    mean=[103.53, 116.28, 123.675], std=[1.0, 1.0, 1.0], to_rgb=False)\n",
            "train_pipeline = [\n",
            "    dict(type='LoadImageFromFile'),\n",
            "    dict(type='LoadAnnotations', with_bbox=True),\n",
            "    dict(\n",
            "        type='Sequential',\n",
            "        transforms=[\n",
            "            dict(\n",
            "                type='RandResize',\n",
            "                img_scale=[(1333, 400), (1333, 1200)],\n",
            "                multiscale_mode='range',\n",
            "                keep_ratio=True),\n",
            "            dict(type='RandFlip', flip_ratio=0.5),\n",
            "            dict(\n",
            "                type='OneOf',\n",
            "                transforms=[\n",
            "                    dict(type='Identity'),\n",
            "                    dict(type='AutoContrast'),\n",
            "                    dict(type='RandEqualize'),\n",
            "                    dict(type='RandSolarize'),\n",
            "                    dict(type='RandColor'),\n",
            "                    dict(type='RandContrast'),\n",
            "                    dict(type='RandBrightness'),\n",
            "                    dict(type='RandSharpness'),\n",
            "                    dict(type='RandPosterize')\n",
            "                ])\n",
            "        ]),\n",
            "    dict(type='Pad', size_divisor=32),\n",
            "    dict(\n",
            "        type='Normalize',\n",
            "        mean=[103.53, 116.28, 123.675],\n",
            "        std=[1.0, 1.0, 1.0],\n",
            "        to_rgb=False),\n",
            "    dict(type='ExtraAttrs', tag='sup'),\n",
            "    dict(type='DefaultFormatBundle'),\n",
            "    dict(\n",
            "        type='Collect',\n",
            "        keys=['img', 'gt_bboxes', 'gt_labels'],\n",
            "        meta_keys=('filename', 'ori_shape', 'img_shape', 'img_norm_cfg',\n",
            "                   'pad_shape', 'scale_factor', 'tag'))\n",
            "]\n",
            "test_pipeline = [\n",
            "    dict(type='LoadImageFromFile'),\n",
            "    dict(\n",
            "        type='MultiScaleFlipAug',\n",
            "        img_scale=(1333, 800),\n",
            "        flip=False,\n",
            "        transforms=[\n",
            "            dict(type='Resize', keep_ratio=True),\n",
            "            dict(type='RandomFlip'),\n",
            "            dict(\n",
            "                type='Normalize',\n",
            "                mean=[103.53, 116.28, 123.675],\n",
            "                std=[1.0, 1.0, 1.0],\n",
            "                to_rgb=False),\n",
            "            dict(type='Pad', size_divisor=32),\n",
            "            dict(type='ImageToTensor', keys=['img']),\n",
            "            dict(type='Collect', keys=['img'])\n",
            "        ])\n",
            "]\n",
            "data = dict(\n",
            "    samples_per_gpu=2,\n",
            "    workers_per_gpu=2,\n",
            "    train=dict(\n",
            "        type='CocoDataset',\n",
            "        ann_file='labels_generated/train/annotations/instances_default.json',\n",
            "        img_prefix='labels_generated/train/images/',\n",
            "        pipeline=[\n",
            "            dict(type='LoadImageFromFile'),\n",
            "            dict(type='LoadAnnotations', with_bbox=True),\n",
            "            dict(\n",
            "                type='Sequential',\n",
            "                transforms=[\n",
            "                    dict(\n",
            "                        type='RandResize',\n",
            "                        img_scale=[(1333, 400), (1333, 1200)],\n",
            "                        multiscale_mode='range',\n",
            "                        keep_ratio=True),\n",
            "                    dict(type='RandFlip', flip_ratio=0.5),\n",
            "                    dict(\n",
            "                        type='OneOf',\n",
            "                        transforms=[\n",
            "                            dict(type='Identity'),\n",
            "                            dict(type='AutoContrast'),\n",
            "                            dict(type='RandEqualize'),\n",
            "                            dict(type='RandSolarize'),\n",
            "                            dict(type='RandColor'),\n",
            "                            dict(type='RandContrast'),\n",
            "                            dict(type='RandBrightness'),\n",
            "                            dict(type='RandSharpness'),\n",
            "                            dict(type='RandPosterize')\n",
            "                        ])\n",
            "                ]),\n",
            "            dict(type='Pad', size_divisor=32),\n",
            "            dict(\n",
            "                type='Normalize',\n",
            "                mean=[103.53, 116.28, 123.675],\n",
            "                std=[1.0, 1.0, 1.0],\n",
            "                to_rgb=False),\n",
            "            dict(type='ExtraAttrs', tag='sup'),\n",
            "            dict(type='DefaultFormatBundle'),\n",
            "            dict(\n",
            "                type='Collect',\n",
            "                keys=['img', 'gt_bboxes', 'gt_labels'],\n",
            "                meta_keys=('filename', 'ori_shape', 'img_shape',\n",
            "                           'img_norm_cfg', 'pad_shape', 'scale_factor', 'tag'))\n",
            "        ],\n",
            "        classes=('pitted', 'not_pitted', 'try_again')),\n",
            "    val=dict(\n",
            "        type='CocoDataset',\n",
            "        ann_file='labels_generated/test/annotations/instances_default.json',\n",
            "        img_prefix='labels_generated/test/images/',\n",
            "        pipeline=[\n",
            "            dict(type='LoadImageFromFile'),\n",
            "            dict(\n",
            "                type='MultiScaleFlipAug',\n",
            "                img_scale=(1333, 800),\n",
            "                flip=False,\n",
            "                transforms=[\n",
            "                    dict(type='Resize', keep_ratio=True),\n",
            "                    dict(type='RandomFlip'),\n",
            "                    dict(\n",
            "                        type='Normalize',\n",
            "                        mean=[103.53, 116.28, 123.675],\n",
            "                        std=[1.0, 1.0, 1.0],\n",
            "                        to_rgb=False),\n",
            "                    dict(type='Pad', size_divisor=32),\n",
            "                    dict(type='ImageToTensor', keys=['img']),\n",
            "                    dict(type='Collect', keys=['img'])\n",
            "                ])\n",
            "        ],\n",
            "        classes=('pitted', 'not_pitted', 'try_again')),\n",
            "    test=dict(\n",
            "        type='CocoDataset',\n",
            "        ann_file='labels_generated/test/annotations/instances_default.json',\n",
            "        img_prefix='labels_generated/test/images/',\n",
            "        pipeline=[\n",
            "            dict(type='LoadImageFromFile'),\n",
            "            dict(\n",
            "                type='MultiScaleFlipAug',\n",
            "                img_scale=(1333, 800),\n",
            "                flip=False,\n",
            "                transforms=[\n",
            "                    dict(type='Resize', keep_ratio=True),\n",
            "                    dict(type='RandomFlip'),\n",
            "                    dict(\n",
            "                        type='Normalize',\n",
            "                        mean=[103.53, 116.28, 123.675],\n",
            "                        std=[1.0, 1.0, 1.0],\n",
            "                        to_rgb=False),\n",
            "                    dict(type='Pad', size_divisor=32),\n",
            "                    dict(type='ImageToTensor', keys=['img']),\n",
            "                    dict(type='Collect', keys=['img'])\n",
            "                ])\n",
            "        ],\n",
            "        classes=('pitted', 'not_pitted', 'try_again')))\n",
            "evaluation = dict(interval=4000, metric='bbox')\n",
            "optimizer = dict(type='SGD', lr=0.02, momentum=0.9, weight_decay=0.0001)\n",
            "optimizer_config = dict(grad_clip=None)\n",
            "lr_config = dict(\n",
            "    policy='step',\n",
            "    warmup='linear',\n",
            "    warmup_iters=500,\n",
            "    warmup_ratio=0.001,\n",
            "    step=[480000, 640000])\n",
            "runner = dict(type='IterBasedRunner', max_iters=200)\n",
            "checkpoint_config = dict(interval=4000, by_epoch=False, max_keep_ckpts=10)\n",
            "log_config = dict(\n",
            "    interval=1,\n",
            "    hooks=[\n",
            "        dict(type='TextLoggerHook', by_epoch=False),\n",
            "        dict(\n",
            "            type='WandbLoggerHook',\n",
            "            init_kwargs=dict(\n",
            "                project='pre_release',\n",
            "                name='faster_rcnn_r50_caffe_fpn_generated_label',\n",
            "                config=dict(\n",
            "                    work_dirs=\n",
            "                    './work_dirs/faster_rcnn_r50_caffe_fpn_generated_label',\n",
            "                    total_step=200)),\n",
            "            by_epoch=False)\n",
            "    ])\n",
            "custom_hooks = [dict(type='NumClassCheckHook')]\n",
            "dist_params = dict(backend='nccl')\n",
            "log_level = 'INFO'\n",
            "load_from = None\n",
            "resume_from = None\n",
            "workflow = [('train', 1)]\n",
            "opencv_num_threads = 0\n",
            "mp_start_method = 'fork'\n",
            "auto_scale_lr = dict(enable=False, base_batch_size=16)\n",
            "mmdet_base = '../../thirdparty/mmdetection/configs/_base_'\n",
            "fp16 = dict(loss_scale='dynamic')\n",
            "classes = ('pitted', 'not_pitted', 'try_again')\n",
            "work_dir = './work_dirs/faster_rcnn_r50_caffe_fpn_generated_label'\n",
            "cfg_name = 'faster_rcnn_r50_caffe_fpn_generated_label'\n",
            "gpu_ids = range(0, 1)\n",
            "\n",
            "2022-11-10 11:08:56,800 - mmdet.ssod - INFO - initialize ResNet with init_cfg {'type': 'Pretrained', 'checkpoint': 'open-mmlab://detectron2/resnet50_caffe'}\n",
            "2022-11-10 11:08:56,801 - mmcv - INFO - load model from: open-mmlab://detectron2/resnet50_caffe\n",
            "2022-11-10 11:08:56,801 - mmcv - INFO - load checkpoint from openmmlab path: open-mmlab://detectron2/resnet50_caffe\n",
            "2022-11-10 11:08:56,890 - mmcv - WARNING - The model and loaded state dict do not match exactly\n",
            "\n",
            "unexpected key in source state_dict: conv1.bias\n",
            "\n",
            "2022-11-10 11:08:56,917 - mmdet.ssod - INFO - initialize FPN with init_cfg {'type': 'Xavier', 'layer': 'Conv2d', 'distribution': 'uniform'}\n",
            "2022-11-10 11:08:56,941 - mmdet.ssod - INFO - initialize RPNHead with init_cfg {'type': 'Normal', 'layer': 'Conv2d', 'std': 0.01}\n",
            "2022-11-10 11:08:56,946 - mmdet.ssod - INFO - initialize Shared2FCBBoxHead with init_cfg [{'type': 'Normal', 'std': 0.01, 'override': {'name': 'fc_cls'}}, {'type': 'Normal', 'std': 0.001, 'override': {'name': 'fc_reg'}}, {'type': 'Xavier', 'distribution': 'uniform', 'override': [{'name': 'shared_fcs'}, {'name': 'cls_fcs'}, {'name': 'reg_fcs'}]}]\n",
            "loading annotations into memory...\n",
            "Done (t=0.00s)\n",
            "creating index...\n",
            "index created!\n",
            "loading annotations into memory...\n",
            "Done (t=0.00s)\n",
            "creating index...\n",
            "index created!\n",
            "2022-11-10 11:09:01,148 - mmdet.ssod - INFO - Start running, host: root@033951234b2a, work_dir: /content/SoftTeacherCustomDataset/work_dirs/faster_rcnn_r50_caffe_fpn_generated_label\n",
            "2022-11-10 11:09:01,149 - mmdet.ssod - INFO - Hooks will be executed in the following order:\n",
            "before_run:\n",
            "(VERY_HIGH   ) StepLrUpdaterHook                  \n",
            "(ABOVE_NORMAL) Fp16OptimizerHook                  \n",
            "(NORMAL      ) CheckpointHook                     \n",
            "(80          ) DistEvalHook                       \n",
            "(VERY_LOW    ) TextLoggerHook                     \n",
            "(VERY_LOW    ) WandbLoggerHook                    \n",
            " -------------------- \n",
            "before_train_epoch:\n",
            "(VERY_HIGH   ) StepLrUpdaterHook                  \n",
            "(NORMAL      ) NumClassCheckHook                  \n",
            "(LOW         ) IterTimerHook                      \n",
            "(80          ) DistEvalHook                       \n",
            "(VERY_LOW    ) TextLoggerHook                     \n",
            "(VERY_LOW    ) WandbLoggerHook                    \n",
            " -------------------- \n",
            "before_train_iter:\n",
            "(VERY_HIGH   ) StepLrUpdaterHook                  \n",
            "(LOW         ) IterTimerHook                      \n",
            "(80          ) DistEvalHook                       \n",
            " -------------------- \n",
            "after_train_iter:\n",
            "(ABOVE_NORMAL) Fp16OptimizerHook                  \n",
            "(NORMAL      ) CheckpointHook                     \n",
            "(LOW         ) IterTimerHook                      \n",
            "(80          ) DistEvalHook                       \n",
            "(VERY_LOW    ) TextLoggerHook                     \n",
            "(VERY_LOW    ) WandbLoggerHook                    \n",
            " -------------------- \n",
            "after_train_epoch:\n",
            "(NORMAL      ) CheckpointHook                     \n",
            "(80          ) DistEvalHook                       \n",
            "(VERY_LOW    ) TextLoggerHook                     \n",
            "(VERY_LOW    ) WandbLoggerHook                    \n",
            " -------------------- \n",
            "before_val_epoch:\n",
            "(NORMAL      ) NumClassCheckHook                  \n",
            "(LOW         ) IterTimerHook                      \n",
            "(VERY_LOW    ) TextLoggerHook                     \n",
            "(VERY_LOW    ) WandbLoggerHook                    \n",
            " -------------------- \n",
            "before_val_iter:\n",
            "(LOW         ) IterTimerHook                      \n",
            " -------------------- \n",
            "after_val_iter:\n",
            "(LOW         ) IterTimerHook                      \n",
            " -------------------- \n",
            "after_val_epoch:\n",
            "(VERY_LOW    ) TextLoggerHook                     \n",
            "(VERY_LOW    ) WandbLoggerHook                    \n",
            " -------------------- \n",
            "after_run:\n",
            "(VERY_LOW    ) TextLoggerHook                     \n",
            "(VERY_LOW    ) WandbLoggerHook                    \n",
            " -------------------- \n",
            "2022-11-10 11:09:01,149 - mmdet.ssod - INFO - workflow: [('train', 1)], max: 200 iters\n",
            "2022-11-10 11:09:01,150 - mmdet.ssod - INFO - Checkpoints will be saved to /content/SoftTeacherCustomDataset/work_dirs/faster_rcnn_r50_caffe_fpn_generated_label by HardDiskBackend.\n",
            "\u001b[34m\u001b[1mwandb\u001b[0m: (1) Create a W&B account\n",
            "\u001b[34m\u001b[1mwandb\u001b[0m: (2) Use an existing W&B account\n",
            "\u001b[34m\u001b[1mwandb\u001b[0m: (3) Don't visualize my results\n",
            "\u001b[34m\u001b[1mwandb\u001b[0m: Enter your choice: 2\n",
            "\u001b[34m\u001b[1mwandb\u001b[0m: You chose 'Use an existing W&B account'\n",
            "\u001b[34m\u001b[1mwandb\u001b[0m: Logging into wandb.ai. (Learn how to deploy a W&B server locally: https://wandb.me/wandb-server)\n",
            "\u001b[34m\u001b[1mwandb\u001b[0m: You can find your API key in your browser here: https://wandb.ai/authorize\n",
            "\u001b[34m\u001b[1mwandb\u001b[0m: Paste an API key from your profile and hit enter, or press ctrl+c to quit: \n",
            "\u001b[34m\u001b[1mwandb\u001b[0m: Appending key for api.wandb.ai to your netrc file: /root/.netrc\n",
            "\u001b[34m\u001b[1mwandb\u001b[0m: Tracking run with wandb version 0.13.5\n",
            "\u001b[34m\u001b[1mwandb\u001b[0m: Run data is saved locally in \u001b[35m\u001b[1m/content/SoftTeacherCustomDataset/wandb/run-20221110_111007-3ayar94b\u001b[0m\n",
            "\u001b[34m\u001b[1mwandb\u001b[0m: Run \u001b[1m`wandb offline`\u001b[0m to turn off syncing.\n",
            "\u001b[34m\u001b[1mwandb\u001b[0m: Syncing run \u001b[33mfaster_rcnn_r50_caffe_fpn_generated_label\u001b[0m\n",
            "\u001b[34m\u001b[1mwandb\u001b[0m: ⭐️ View project at \u001b[34m\u001b[4mhttps://wandb.ai/nczarli_student/pre_release\u001b[0m\n",
            "\u001b[34m\u001b[1mwandb\u001b[0m: 🚀 View run at \u001b[34m\u001b[4mhttps://wandb.ai/nczarli_student/pre_release/runs/3ayar94b\u001b[0m\n",
            "/usr/local/lib/python3.7/dist-packages/torch/nn/functional.py:718: UserWarning: Named tensors and all their associated APIs are an experimental feature and subject to change. Please do not use them for anything important until they are released as stable. (Triggered internally at  /pytorch/c10/core/TensorImpl.h:1156.)\n",
            "  return torch.max_pool2d(input, kernel_size, stride, padding, dilation, ceil_mode)\n",
            "2022-11-10 11:10:21,527 - mmdet.ssod - INFO - Iter [1/200]\tlr: 2.000e-05, eta: 0:33:01, time: 9.955, data_time: 9.055, memory: 2004, loss_rpn_cls: 0.7075, loss_rpn_bbox: 0.1244, loss_cls: 1.3002, acc: 39.7461, loss_bbox: 0.2425, loss: 2.3746\n",
            "2022-11-10 11:10:21,545 - mmcv - INFO - Reducer buckets have been rebuilt in this iteration.\n",
            "2022-11-10 11:10:21,849 - mmdet.ssod - INFO - Iter [2/200]\tlr: 5.996e-05, eta: 0:16:57, time: 0.322, data_time: 0.019, memory: 2166, loss_rpn_cls: 0.7036, loss_rpn_bbox: 0.2854, loss_cls: 1.2589, acc: 38.9648, loss_bbox: 0.4116, loss: 2.6596\n",
            "2022-11-10 11:10:22,008 - mmdet.ssod - INFO - Iter [3/200]\tlr: 9.992e-05, eta: 0:11:25, time: 0.160, data_time: 0.008, memory: 2166, loss_rpn_cls: 0.7103, loss_rpn_bbox: 0.1396, loss_cls: 1.3408, acc: 33.1055, loss_bbox: 0.2200, loss: 2.4107\n",
            "2022-11-10 11:10:22,311 - mmdet.ssod - INFO - Iter [4/200]\tlr: 1.399e-04, eta: 0:08:46, time: 0.303, data_time: 0.010, memory: 2166, loss_rpn_cls: 0.7083, loss_rpn_bbox: 0.2898, loss_cls: 1.1570, acc: 58.3984, loss_bbox: 0.5672, loss: 2.7223\n",
            "2022-11-10 11:10:22,471 - mmdet.ssod - INFO - Iter [5/200]\tlr: 1.798e-04, eta: 0:07:05, time: 0.160, data_time: 0.009, memory: 2166, loss_rpn_cls: 0.7179, loss_rpn_bbox: 0.1656, loss_cls: 0.9835, acc: 73.9258, loss_bbox: 0.0988, loss: 1.9657\n",
            "2022-11-10 11:10:22,703 - mmdet.ssod - INFO - Iter [6/200]\tlr: 2.198e-04, eta: 0:05:59, time: 0.232, data_time: 0.009, memory: 2166, loss_rpn_cls: 0.7093, loss_rpn_bbox: 0.1717, loss_cls: 0.6257, acc: 89.5508, loss_bbox: 0.3277, loss: 1.8343\n",
            "2022-11-10 11:10:35,270 - mmdet.ssod - INFO - Iter [7/200]\tlr: 2.598e-04, eta: 0:10:53, time: 12.567, data_time: 12.151, memory: 2273, loss_rpn_cls: 0.6925, loss_rpn_bbox: 0.1516, loss_cls: 0.3705, acc: 93.2617, loss_bbox: 0.2039, loss: 1.4185\n",
            "2022-11-10 11:10:35,583 - mmdet.ssod - INFO - Iter [8/200]\tlr: 2.997e-04, eta: 0:09:36, time: 0.313, data_time: 0.010, memory: 2323, loss_rpn_cls: 0.6910, loss_rpn_bbox: 0.2503, loss_cls: 0.5592, acc: 91.0156, loss_bbox: 0.2618, loss: 1.7622\n",
            "2022-11-10 11:10:35,896 - mmdet.ssod - INFO - Iter [9/200]\tlr: 3.397e-04, eta: 0:08:36, time: 0.313, data_time: 0.014, memory: 2323, loss_rpn_cls: 0.6741, loss_rpn_bbox: 0.0927, loss_cls: 0.7803, acc: 89.4531, loss_bbox: 0.3742, loss: 1.9214\n",
            "2022-11-10 11:10:36,201 - mmdet.ssod - INFO - Iter [10/200]\tlr: 3.796e-04, eta: 0:07:47, time: 0.306, data_time: 0.008, memory: 2324, loss_rpn_cls: 0.6454, loss_rpn_bbox: 0.1523, loss_cls: 1.1650, acc: 85.6445, loss_bbox: 0.4833, loss: 2.4459\n",
            "2022-11-10 11:10:36,502 - mmdet.ssod - INFO - Iter [11/200]\tlr: 4.196e-04, eta: 0:07:08, time: 0.300, data_time: 0.011, memory: 2324, loss_rpn_cls: 0.6324, loss_rpn_bbox: 0.1314, loss_cls: 1.1493, acc: 86.5234, loss_bbox: 0.4479, loss: 2.3611\n",
            "2022-11-10 11:10:36,797 - mmdet.ssod - INFO - Iter [12/200]\tlr: 4.596e-04, eta: 0:06:35, time: 0.296, data_time: 0.011, memory: 2324, loss_rpn_cls: 0.6202, loss_rpn_bbox: 0.1356, loss_cls: 1.1165, acc: 85.5469, loss_bbox: 0.5315, loss: 2.4037\n",
            "2022-11-10 11:10:49,248 - mmdet.ssod - INFO - Iter [13/200]\tlr: 4.995e-04, eta: 0:09:01, time: 12.451, data_time: 12.009, memory: 2324, loss_rpn_cls: 0.6109, loss_rpn_bbox: 0.1767, loss_cls: 0.8056, acc: 88.3789, loss_bbox: 0.3421, loss: 1.9352\n",
            "2022-11-10 11:10:49,560 - mmdet.ssod - INFO - Iter [14/200]\tlr: 5.395e-04, eta: 0:08:24, time: 0.312, data_time: 0.017, memory: 2324, loss_rpn_cls: 0.5804, loss_rpn_bbox: 0.0970, loss_cls: 0.7523, acc: 85.3516, loss_bbox: 0.4387, loss: 1.8684\n",
            "2022-11-10 11:10:49,860 - mmdet.ssod - INFO - Iter [15/200]\tlr: 5.794e-04, eta: 0:07:52, time: 0.300, data_time: 0.008, memory: 2324, loss_rpn_cls: 0.5480, loss_rpn_bbox: 0.1216, loss_cls: 0.8071, acc: 78.4180, loss_bbox: 0.6184, loss: 2.0950\n",
            "2022-11-10 11:10:50,041 - mmdet.ssod - INFO - Iter [16/200]\tlr: 6.194e-04, eta: 0:07:22, time: 0.181, data_time: 0.014, memory: 2324, loss_rpn_cls: 0.5608, loss_rpn_bbox: 0.1420, loss_cls: 0.3173, acc: 90.7227, loss_bbox: 0.3082, loss: 1.3283\n",
            "2022-11-10 11:10:50,332 - mmdet.ssod - INFO - Iter [17/200]\tlr: 6.594e-04, eta: 0:06:57, time: 0.291, data_time: 0.006, memory: 2324, loss_rpn_cls: 0.5310, loss_rpn_bbox: 0.1353, loss_cls: 0.4283, acc: 86.2305, loss_bbox: 0.5305, loss: 1.6252\n",
            "2022-11-10 11:10:50,628 - mmdet.ssod - INFO - Iter [18/200]\tlr: 6.993e-04, eta: 0:06:34, time: 0.296, data_time: 0.010, memory: 2324, loss_rpn_cls: 0.5371, loss_rpn_bbox: 0.1329, loss_cls: 0.4621, acc: 87.7930, loss_bbox: 0.5137, loss: 1.6458\n",
            "2022-11-10 11:11:02,920 - mmdet.ssod - INFO - Iter [19/200]\tlr: 7.393e-04, eta: 0:08:09, time: 12.292, data_time: 11.902, memory: 2324, loss_rpn_cls: 0.4964, loss_rpn_bbox: 0.1034, loss_cls: 0.7667, acc: 65.3320, loss_bbox: 0.4732, loss: 1.8397\n",
            "2022-11-10 11:11:03,383 - mmdet.ssod - INFO - Iter [20/200]\tlr: 7.792e-04, eta: 0:07:46, time: 0.463, data_time: 0.133, memory: 2324, loss_rpn_cls: 0.4480, loss_rpn_bbox: 0.0743, loss_cls: 0.6544, acc: 72.4609, loss_bbox: 0.6108, loss: 1.7876\n",
            "2022-11-10 11:11:03,681 - mmdet.ssod - INFO - Iter [21/200]\tlr: 8.192e-04, eta: 0:07:24, time: 0.298, data_time: 0.008, memory: 2324, loss_rpn_cls: 0.4325, loss_rpn_bbox: 0.1202, loss_cls: 0.6007, acc: 79.4922, loss_bbox: 0.8202, loss: 1.9736\n",
            "2022-11-10 11:11:03,984 - mmdet.ssod - INFO - Iter [22/200]\tlr: 8.592e-04, eta: 0:07:04, time: 0.303, data_time: 0.011, memory: 2324, loss_rpn_cls: 0.3988, loss_rpn_bbox: 0.0762, loss_cls: 0.3955, acc: 84.5703, loss_bbox: 0.4516, loss: 1.3220\n",
            "2022-11-10 11:11:04,287 - mmdet.ssod - INFO - Iter [23/200]\tlr: 8.991e-04, eta: 0:06:45, time: 0.304, data_time: 0.009, memory: 2324, loss_rpn_cls: 0.3749, loss_rpn_bbox: 0.0898, loss_cls: 0.4542, acc: 84.4727, loss_bbox: 0.4242, loss: 1.3431\n",
            "2022-11-10 11:11:04,583 - mmdet.ssod - INFO - Iter [24/200]\tlr: 9.391e-04, eta: 0:06:28, time: 0.295, data_time: 0.010, memory: 2324, loss_rpn_cls: 0.4176, loss_rpn_bbox: 0.1683, loss_cls: 0.6090, acc: 77.7344, loss_bbox: 0.6725, loss: 1.8674\n",
            "2022-11-10 11:11:17,022 - mmdet.ssod - INFO - Iter [25/200]\tlr: 9.790e-04, eta: 0:07:38, time: 12.438, data_time: 11.967, memory: 2324, loss_rpn_cls: 0.3756, loss_rpn_bbox: 0.1559, loss_cls: 0.3677, acc: 88.9648, loss_bbox: 0.3057, loss: 1.2049\n",
            "2022-11-10 11:11:17,340 - mmdet.ssod - INFO - Iter [26/200]\tlr: 1.019e-03, eta: 0:07:20, time: 0.319, data_time: 0.022, memory: 2324, loss_rpn_cls: 0.3496, loss_rpn_bbox: 0.1419, loss_cls: 0.4117, acc: 86.6211, loss_bbox: 0.3938, loss: 1.2970\n",
            "2022-11-10 11:11:17,596 - mmdet.ssod - INFO - Iter [27/200]\tlr: 1.059e-03, eta: 0:07:03, time: 0.255, data_time: 0.008, memory: 2324, loss_rpn_cls: 0.2661, loss_rpn_bbox: 0.0987, loss_cls: 0.5654, acc: 78.1250, loss_bbox: 0.7057, loss: 1.6360\n",
            "2022-11-10 11:11:17,900 - mmdet.ssod - INFO - Iter [28/200]\tlr: 1.099e-03, eta: 0:06:47, time: 0.304, data_time: 0.010, memory: 2324, loss_rpn_cls: 0.2793, loss_rpn_bbox: 0.1041, loss_cls: 0.5032, acc: 75.5859, loss_bbox: 0.7732, loss: 1.6598\n",
            "2022-11-10 11:11:18,167 - mmdet.ssod - INFO - Iter [29/200]\tlr: 1.139e-03, eta: 0:06:32, time: 0.267, data_time: 0.008, memory: 2324, loss_rpn_cls: 0.2107, loss_rpn_bbox: 0.0449, loss_cls: 0.2530, acc: 88.3789, loss_bbox: 0.3850, loss: 0.8936\n",
            "2022-11-10 11:11:18,466 - mmdet.ssod - INFO - Iter [30/200]\tlr: 1.179e-03, eta: 0:06:19, time: 0.299, data_time: 0.011, memory: 2324, loss_rpn_cls: 0.2415, loss_rpn_bbox: 0.1271, loss_cls: 0.3821, acc: 87.7930, loss_bbox: 0.7843, loss: 1.5350\n",
            "2022-11-10 11:11:31,158 - mmdet.ssod - INFO - Iter [31/200]\tlr: 1.219e-03, eta: 0:07:13, time: 12.692, data_time: 12.298, memory: 2324, loss_rpn_cls: 0.2012, loss_rpn_bbox: 0.0883, loss_cls: 0.5101, acc: 82.4219, loss_bbox: 0.7547, loss: 1.5543\n",
            "2022-11-10 11:11:31,465 - mmdet.ssod - INFO - Iter [32/200]\tlr: 1.259e-03, eta: 0:06:59, time: 0.307, data_time: 0.008, memory: 2324, loss_rpn_cls: 0.1813, loss_rpn_bbox: 0.0957, loss_cls: 0.4854, acc: 79.7852, loss_bbox: 0.7014, loss: 1.4638\n",
            "2022-11-10 11:11:31,769 - mmdet.ssod - INFO - Iter [33/200]\tlr: 1.299e-03, eta: 0:06:45, time: 0.304, data_time: 0.011, memory: 2324, loss_rpn_cls: 0.1646, loss_rpn_bbox: 0.0774, loss_cls: 0.3712, acc: 82.6172, loss_bbox: 0.6326, loss: 1.2458\n",
            "2022-11-10 11:11:32,061 - mmdet.ssod - INFO - Iter [34/200]\tlr: 1.339e-03, eta: 0:06:32, time: 0.292, data_time: 0.008, memory: 2324, loss_rpn_cls: 0.1746, loss_rpn_bbox: 0.0987, loss_cls: 0.2243, acc: 92.2852, loss_bbox: 0.2883, loss: 0.7859\n",
            "2022-11-10 11:11:32,366 - mmdet.ssod - INFO - Iter [35/200]\tlr: 1.379e-03, eta: 0:06:20, time: 0.305, data_time: 0.011, memory: 2324, loss_rpn_cls: 0.1238, loss_rpn_bbox: 0.0671, loss_cls: 0.3108, acc: 90.1367, loss_bbox: 0.5973, loss: 1.0989\n",
            "2022-11-10 11:11:32,667 - mmdet.ssod - INFO - Iter [36/200]\tlr: 1.419e-03, eta: 0:06:09, time: 0.302, data_time: 0.011, memory: 2324, loss_rpn_cls: 0.2157, loss_rpn_bbox: 0.1551, loss_cls: 0.3190, acc: 83.5938, loss_bbox: 0.6790, loss: 1.3688\n",
            "2022-11-10 11:11:45,321 - mmdet.ssod - INFO - Iter [37/200]\tlr: 1.459e-03, eta: 0:06:53, time: 12.653, data_time: 12.171, memory: 2324, loss_rpn_cls: 0.0914, loss_rpn_bbox: 0.0657, loss_cls: 0.4037, acc: 82.2266, loss_bbox: 0.5698, loss: 1.1305\n",
            "2022-11-10 11:11:45,674 - mmdet.ssod - INFO - Iter [38/200]\tlr: 1.499e-03, eta: 0:06:41, time: 0.353, data_time: 0.015, memory: 2324, loss_rpn_cls: 0.0794, loss_rpn_bbox: 0.1081, loss_cls: 0.4093, acc: 80.8594, loss_bbox: 0.6490, loss: 1.2458\n",
            "2022-11-10 11:11:45,977 - mmdet.ssod - INFO - Iter [39/200]\tlr: 1.538e-03, eta: 0:06:29, time: 0.303, data_time: 0.009, memory: 2324, loss_rpn_cls: 0.0912, loss_rpn_bbox: 0.0838, loss_cls: 0.4622, acc: 80.7617, loss_bbox: 0.6081, loss: 1.2454\n",
            "2022-11-10 11:11:46,286 - mmdet.ssod - INFO - Iter [40/200]\tlr: 1.578e-03, eta: 0:06:18, time: 0.309, data_time: 0.014, memory: 2324, loss_rpn_cls: 0.0784, loss_rpn_bbox: 0.0654, loss_cls: 0.3870, acc: 83.0078, loss_bbox: 0.5786, loss: 1.1094\n",
            "2022-11-10 11:11:46,586 - mmdet.ssod - INFO - Iter [41/200]\tlr: 1.618e-03, eta: 0:06:08, time: 0.300, data_time: 0.008, memory: 2324, loss_rpn_cls: 0.0697, loss_rpn_bbox: 0.0906, loss_cls: 0.2909, acc: 88.2812, loss_bbox: 0.5454, loss: 0.9966\n",
            "2022-11-10 11:11:46,888 - mmdet.ssod - INFO - Iter [42/200]\tlr: 1.658e-03, eta: 0:05:58, time: 0.303, data_time: 0.012, memory: 2324, loss_rpn_cls: 0.0678, loss_rpn_bbox: 0.0825, loss_cls: 0.4868, acc: 79.1992, loss_bbox: 0.5253, loss: 1.1624\n",
            "2022-11-10 11:11:59,409 - mmdet.ssod - INFO - Iter [43/200]\tlr: 1.698e-03, eta: 0:06:33, time: 12.521, data_time: 12.100, memory: 2324, loss_rpn_cls: 0.1330, loss_rpn_bbox: 0.1422, loss_cls: 0.3800, acc: 84.6680, loss_bbox: 0.5911, loss: 1.2463\n",
            "2022-11-10 11:11:59,736 - mmdet.ssod - INFO - Iter [44/200]\tlr: 1.738e-03, eta: 0:06:23, time: 0.327, data_time: 0.017, memory: 2324, loss_rpn_cls: 0.1223, loss_rpn_bbox: 0.1727, loss_cls: 0.4542, acc: 81.5430, loss_bbox: 0.7733, loss: 1.5226\n",
            "2022-11-10 11:12:00,031 - mmdet.ssod - INFO - Iter [45/200]\tlr: 1.778e-03, eta: 0:06:13, time: 0.295, data_time: 0.008, memory: 2324, loss_rpn_cls: 0.0743, loss_rpn_bbox: 0.0928, loss_cls: 0.3610, acc: 84.1797, loss_bbox: 0.5358, loss: 1.0640\n",
            "2022-11-10 11:12:00,264 - mmdet.ssod - INFO - Iter [46/200]\tlr: 1.818e-03, eta: 0:06:03, time: 0.233, data_time: 0.011, memory: 2324, loss_rpn_cls: 0.1038, loss_rpn_bbox: 0.1520, loss_cls: 0.4465, acc: 80.7617, loss_bbox: 0.7443, loss: 1.4466\n",
            "2022-11-10 11:12:00,561 - mmdet.ssod - INFO - Iter [47/200]\tlr: 1.858e-03, eta: 0:05:54, time: 0.296, data_time: 0.007, memory: 2324, loss_rpn_cls: 0.0436, loss_rpn_bbox: 0.1154, loss_cls: 0.4474, acc: 83.4961, loss_bbox: 0.5669, loss: 1.1733\n",
            "2022-11-10 11:12:00,863 - mmdet.ssod - INFO - Iter [48/200]\tlr: 1.898e-03, eta: 0:05:46, time: 0.302, data_time: 0.011, memory: 2324, loss_rpn_cls: 0.0415, loss_rpn_bbox: 0.0954, loss_cls: 0.4069, acc: 83.9844, loss_bbox: 0.5124, loss: 1.0562\n",
            "2022-11-10 11:12:13,167 - mmdet.ssod - INFO - Iter [49/200]\tlr: 1.938e-03, eta: 0:06:14, time: 12.303, data_time: 11.996, memory: 2324, loss_rpn_cls: 0.0655, loss_rpn_bbox: 0.0989, loss_cls: 0.4636, acc: 81.0547, loss_bbox: 0.6812, loss: 1.3092\n",
            "2022-11-10 11:12:13,630 - mmdet.ssod - INFO - Iter [50/200]\tlr: 1.978e-03, eta: 0:06:06, time: 0.464, data_time: 0.134, memory: 2373, loss_rpn_cls: 0.0539, loss_rpn_bbox: 0.1302, loss_cls: 0.4756, acc: 78.9062, loss_bbox: 0.7766, loss: 1.4363\n",
            "2022-11-10 11:12:13,934 - mmdet.ssod - INFO - Iter [51/200]\tlr: 2.018e-03, eta: 0:05:57, time: 0.303, data_time: 0.009, memory: 2373, loss_rpn_cls: 0.0378, loss_rpn_bbox: 0.0545, loss_cls: 0.4461, acc: 83.2031, loss_bbox: 0.5883, loss: 1.1267\n",
            "2022-11-10 11:12:14,218 - mmdet.ssod - INFO - Iter [52/200]\tlr: 2.058e-03, eta: 0:05:49, time: 0.284, data_time: 0.012, memory: 2373, loss_rpn_cls: 0.0355, loss_rpn_bbox: 0.0937, loss_cls: 0.4881, acc: 78.8086, loss_bbox: 0.5744, loss: 1.1918\n",
            "2022-11-10 11:12:14,514 - mmdet.ssod - INFO - Iter [53/200]\tlr: 2.098e-03, eta: 0:05:40, time: 0.297, data_time: 0.008, memory: 2373, loss_rpn_cls: 0.0373, loss_rpn_bbox: 0.0641, loss_cls: 0.4314, acc: 81.4453, loss_bbox: 0.4957, loss: 1.0286\n",
            "2022-11-10 11:12:14,704 - mmdet.ssod - INFO - Iter [54/200]\tlr: 2.138e-03, eta: 0:05:32, time: 0.190, data_time: 0.011, memory: 2373, loss_rpn_cls: 0.0580, loss_rpn_bbox: 0.1196, loss_cls: 0.3391, acc: 84.3750, loss_bbox: 0.6998, loss: 1.2164\n",
            "2022-11-10 11:12:27,394 - mmdet.ssod - INFO - Iter [55/200]\tlr: 2.178e-03, eta: 0:05:58, time: 12.689, data_time: 12.257, memory: 2373, loss_rpn_cls: 0.0663, loss_rpn_bbox: 0.1484, loss_cls: 0.4740, acc: 80.5664, loss_bbox: 0.4390, loss: 1.1277\n",
            "2022-11-10 11:12:27,714 - mmdet.ssod - INFO - Iter [56/200]\tlr: 2.218e-03, eta: 0:05:50, time: 0.321, data_time: 0.011, memory: 2373, loss_rpn_cls: 0.0643, loss_rpn_bbox: 0.1526, loss_cls: 0.4263, acc: 84.0820, loss_bbox: 0.5385, loss: 1.1817\n",
            "2022-11-10 11:12:28,016 - mmdet.ssod - INFO - Iter [57/200]\tlr: 2.258e-03, eta: 0:05:42, time: 0.302, data_time: 0.011, memory: 2373, loss_rpn_cls: 0.0289, loss_rpn_bbox: 0.0915, loss_cls: 0.4950, acc: 77.4414, loss_bbox: 0.4709, loss: 1.0862\n",
            "2022-11-10 11:12:28,317 - mmdet.ssod - INFO - Iter [58/200]\tlr: 2.298e-03, eta: 0:05:34, time: 0.301, data_time: 0.011, memory: 2373, loss_rpn_cls: 0.0386, loss_rpn_bbox: 0.1607, loss_cls: 0.4440, acc: 81.4453, loss_bbox: 0.4717, loss: 1.1150\n",
            "2022-11-10 11:12:28,628 - mmdet.ssod - INFO - Iter [59/200]\tlr: 2.338e-03, eta: 0:05:27, time: 0.311, data_time: 0.014, memory: 2373, loss_rpn_cls: 0.0246, loss_rpn_bbox: 0.0810, loss_cls: 0.4618, acc: 82.1289, loss_bbox: 0.5350, loss: 1.1024\n",
            "2022-11-10 11:12:28,927 - mmdet.ssod - INFO - Iter [60/200]\tlr: 2.378e-03, eta: 0:05:20, time: 0.299, data_time: 0.012, memory: 2373, loss_rpn_cls: 0.0222, loss_rpn_bbox: 0.0364, loss_cls: 0.5674, acc: 81.2500, loss_bbox: 0.6779, loss: 1.3038\n",
            "2022-11-10 11:12:41,405 - mmdet.ssod - INFO - Iter [61/200]\tlr: 2.418e-03, eta: 0:05:41, time: 12.468, data_time: 12.066, memory: 2373, loss_rpn_cls: 0.0164, loss_rpn_bbox: 0.0956, loss_cls: 0.4398, acc: 81.8359, loss_bbox: 0.5739, loss: 1.1257\n",
            "2022-11-10 11:12:41,777 - mmdet.ssod - INFO - Iter [62/200]\tlr: 2.458e-03, eta: 0:05:34, time: 0.382, data_time: 0.048, memory: 2373, loss_rpn_cls: 0.0546, loss_rpn_bbox: 0.1374, loss_cls: 0.5142, acc: 81.6406, loss_bbox: 0.4331, loss: 1.1393\n",
            "2022-11-10 11:12:42,079 - mmdet.ssod - INFO - Iter [63/200]\tlr: 2.498e-03, eta: 0:05:27, time: 0.301, data_time: 0.008, memory: 2373, loss_rpn_cls: 0.0338, loss_rpn_bbox: 0.0837, loss_cls: 0.4603, acc: 81.4453, loss_bbox: 0.5067, loss: 1.0845\n",
            "2022-11-10 11:12:42,386 - mmdet.ssod - INFO - Iter [64/200]\tlr: 2.537e-03, eta: 0:05:20, time: 0.308, data_time: 0.013, memory: 2373, loss_rpn_cls: 0.0238, loss_rpn_bbox: 0.0607, loss_cls: 0.3877, acc: 83.3008, loss_bbox: 0.5945, loss: 1.0667\n",
            "2022-11-10 11:12:42,693 - mmdet.ssod - INFO - Iter [65/200]\tlr: 2.577e-03, eta: 0:05:13, time: 0.307, data_time: 0.008, memory: 2373, loss_rpn_cls: 0.0840, loss_rpn_bbox: 0.1283, loss_cls: 0.4380, acc: 81.0547, loss_bbox: 0.5206, loss: 1.1709\n",
            "2022-11-10 11:12:42,999 - mmdet.ssod - INFO - Iter [66/200]\tlr: 2.617e-03, eta: 0:05:07, time: 0.305, data_time: 0.012, memory: 2373, loss_rpn_cls: 0.0367, loss_rpn_bbox: 0.0594, loss_cls: 0.6139, acc: 71.8750, loss_bbox: 0.6374, loss: 1.3474\n",
            "2022-11-10 11:12:55,381 - mmdet.ssod - INFO - Iter [67/200]\tlr: 2.657e-03, eta: 0:05:25, time: 12.382, data_time: 11.957, memory: 2373, loss_rpn_cls: 0.0457, loss_rpn_bbox: 0.0793, loss_cls: 0.5396, acc: 76.4648, loss_bbox: 0.5347, loss: 1.1993\n",
            "2022-11-10 11:12:55,691 - mmdet.ssod - INFO - Iter [68/200]\tlr: 2.697e-03, eta: 0:05:18, time: 0.311, data_time: 0.016, memory: 2373, loss_rpn_cls: 0.0583, loss_rpn_bbox: 0.1150, loss_cls: 0.4362, acc: 81.5430, loss_bbox: 0.5043, loss: 1.1138\n",
            "2022-11-10 11:12:55,994 - mmdet.ssod - INFO - Iter [69/200]\tlr: 2.737e-03, eta: 0:05:12, time: 0.302, data_time: 0.012, memory: 2373, loss_rpn_cls: 0.0428, loss_rpn_bbox: 0.0839, loss_cls: 0.4955, acc: 78.9062, loss_bbox: 0.5780, loss: 1.2002\n",
            "2022-11-10 11:12:56,301 - mmdet.ssod - INFO - Iter [70/200]\tlr: 2.777e-03, eta: 0:05:05, time: 0.307, data_time: 0.013, memory: 2373, loss_rpn_cls: 0.0402, loss_rpn_bbox: 0.0602, loss_cls: 0.5181, acc: 81.5430, loss_bbox: 0.5750, loss: 1.1934\n",
            "2022-11-10 11:12:56,458 - mmdet.ssod - INFO - Iter [71/200]\tlr: 2.817e-03, eta: 0:04:59, time: 0.157, data_time: 0.010, memory: 2373, loss_rpn_cls: 0.0554, loss_rpn_bbox: 0.1338, loss_cls: 0.5146, acc: 79.1016, loss_bbox: 0.5710, loss: 1.2748\n",
            "2022-11-10 11:12:56,782 - mmdet.ssod - INFO - Iter [72/200]\tlr: 2.857e-03, eta: 0:04:53, time: 0.323, data_time: 0.008, memory: 2373, loss_rpn_cls: 0.0496, loss_rpn_bbox: 0.0828, loss_cls: 0.4916, acc: 80.9570, loss_bbox: 0.4027, loss: 1.0268\n",
            "2022-11-10 11:13:10,396 - mmdet.ssod - INFO - Iter [73/200]\tlr: 2.897e-03, eta: 0:05:11, time: 13.614, data_time: 13.152, memory: 2373, loss_rpn_cls: 0.0484, loss_rpn_bbox: 0.0585, loss_cls: 0.4427, acc: 82.8125, loss_bbox: 0.4511, loss: 1.0007\n",
            "2022-11-10 11:13:10,723 - mmdet.ssod - INFO - Iter [74/200]\tlr: 2.937e-03, eta: 0:05:05, time: 0.327, data_time: 0.012, memory: 2373, loss_rpn_cls: 0.0516, loss_rpn_bbox: 0.0909, loss_cls: 0.4232, acc: 83.9844, loss_bbox: 0.4357, loss: 1.0014\n",
            "2022-11-10 11:13:10,965 - mmdet.ssod - INFO - Iter [75/200]\tlr: 2.977e-03, eta: 0:04:58, time: 0.242, data_time: 0.012, memory: 2373, loss_rpn_cls: 0.0319, loss_rpn_bbox: 0.0390, loss_cls: 0.4346, acc: 83.5938, loss_bbox: 0.5495, loss: 1.0549\n",
            "2022-11-10 11:13:11,268 - mmdet.ssod - INFO - Iter [76/200]\tlr: 3.017e-03, eta: 0:04:53, time: 0.303, data_time: 0.010, memory: 2373, loss_rpn_cls: 0.0388, loss_rpn_bbox: 0.0493, loss_cls: 0.4299, acc: 82.7148, loss_bbox: 0.5605, loss: 1.0785\n",
            "2022-11-10 11:13:11,577 - mmdet.ssod - INFO - Iter [77/200]\tlr: 3.057e-03, eta: 0:04:47, time: 0.309, data_time: 0.011, memory: 2373, loss_rpn_cls: 0.0420, loss_rpn_bbox: 0.0727, loss_cls: 0.3447, acc: 86.6211, loss_bbox: 0.4810, loss: 0.9404\n",
            "2022-11-10 11:13:11,884 - mmdet.ssod - INFO - Iter [78/200]\tlr: 3.097e-03, eta: 0:04:42, time: 0.306, data_time: 0.011, memory: 2373, loss_rpn_cls: 0.0395, loss_rpn_bbox: 0.0785, loss_cls: 0.3549, acc: 85.6445, loss_bbox: 0.3562, loss: 0.8291\n",
            "2022-11-10 11:13:24,208 - mmdet.ssod - INFO - Iter [79/200]\tlr: 3.137e-03, eta: 0:04:55, time: 12.324, data_time: 12.020, memory: 2373, loss_rpn_cls: 0.0389, loss_rpn_bbox: 0.2767, loss_cls: 0.3723, acc: 85.0586, loss_bbox: 0.5497, loss: 1.2376\n",
            "2022-11-10 11:13:24,441 - mmdet.ssod - INFO - Iter [80/200]\tlr: 3.177e-03, eta: 0:04:49, time: 0.234, data_time: 0.028, memory: 2373, loss_rpn_cls: 0.0382, loss_rpn_bbox: 0.1266, loss_cls: 0.4108, acc: 84.1797, loss_bbox: 0.5420, loss: 1.1176\n",
            "2022-11-10 11:13:24,742 - mmdet.ssod - INFO - Iter [81/200]\tlr: 3.217e-03, eta: 0:04:43, time: 0.300, data_time: 0.009, memory: 2373, loss_rpn_cls: 0.0356, loss_rpn_bbox: 0.2325, loss_cls: 0.5005, acc: 81.5430, loss_bbox: 0.7366, loss: 1.5051\n",
            "2022-11-10 11:13:25,040 - mmdet.ssod - INFO - Iter [82/200]\tlr: 3.257e-03, eta: 0:04:38, time: 0.298, data_time: 0.013, memory: 2373, loss_rpn_cls: 0.0372, loss_rpn_bbox: 0.1387, loss_cls: 0.3491, acc: 86.0352, loss_bbox: 0.7146, loss: 1.2397\n",
            "2022-11-10 11:13:25,342 - mmdet.ssod - INFO - Iter [83/200]\tlr: 3.297e-03, eta: 0:04:33, time: 0.303, data_time: 0.008, memory: 2373, loss_rpn_cls: 0.0291, loss_rpn_bbox: 0.0970, loss_cls: 0.3942, acc: 86.1328, loss_bbox: 0.5054, loss: 1.0258\n",
            "2022-11-10 11:13:25,638 - mmdet.ssod - INFO - Iter [84/200]\tlr: 3.337e-03, eta: 0:04:27, time: 0.296, data_time: 0.011, memory: 2373, loss_rpn_cls: 0.0375, loss_rpn_bbox: 0.0777, loss_cls: 0.4497, acc: 83.4961, loss_bbox: 0.6417, loss: 1.2067\n",
            "2022-11-10 11:13:37,987 - mmdet.ssod - INFO - Iter [85/200]\tlr: 3.377e-03, eta: 0:04:39, time: 12.349, data_time: 12.010, memory: 2373, loss_rpn_cls: 0.0315, loss_rpn_bbox: 0.0902, loss_cls: 0.5322, acc: 76.2695, loss_bbox: 0.5246, loss: 1.1785\n",
            "2022-11-10 11:13:38,316 - mmdet.ssod - INFO - Iter [86/200]\tlr: 3.417e-03, eta: 0:04:34, time: 0.329, data_time: 0.019, memory: 2373, loss_rpn_cls: 0.0610, loss_rpn_bbox: 0.1233, loss_cls: 0.4297, acc: 82.2266, loss_bbox: 0.6494, loss: 1.2634\n",
            "2022-11-10 11:13:38,614 - mmdet.ssod - INFO - Iter [87/200]\tlr: 3.457e-03, eta: 0:04:28, time: 0.298, data_time: 0.010, memory: 2373, loss_rpn_cls: 0.0237, loss_rpn_bbox: 0.0926, loss_cls: 0.3842, acc: 85.2539, loss_bbox: 0.6046, loss: 1.1051\n",
            "2022-11-10 11:13:38,928 - mmdet.ssod - INFO - Iter [88/200]\tlr: 3.497e-03, eta: 0:04:23, time: 0.314, data_time: 0.011, memory: 2373, loss_rpn_cls: 0.0231, loss_rpn_bbox: 0.0639, loss_cls: 0.3924, acc: 83.3008, loss_bbox: 0.5511, loss: 1.0305\n",
            "2022-11-10 11:13:39,220 - mmdet.ssod - INFO - Iter [89/200]\tlr: 3.536e-03, eta: 0:04:18, time: 0.292, data_time: 0.011, memory: 2373, loss_rpn_cls: 0.0177, loss_rpn_bbox: 0.0709, loss_cls: 0.3769, acc: 85.0586, loss_bbox: 0.4673, loss: 0.9329\n",
            "2022-11-10 11:13:39,488 - mmdet.ssod - INFO - Iter [90/200]\tlr: 3.576e-03, eta: 0:04:14, time: 0.268, data_time: 0.012, memory: 2373, loss_rpn_cls: 0.0387, loss_rpn_bbox: 0.1467, loss_cls: 0.3952, acc: 83.9844, loss_bbox: 0.5201, loss: 1.1006\n",
            "2022-11-10 11:13:51,851 - mmdet.ssod - INFO - Iter [91/200]\tlr: 3.616e-03, eta: 0:04:23, time: 12.363, data_time: 11.962, memory: 2373, loss_rpn_cls: 0.0261, loss_rpn_bbox: 0.0866, loss_cls: 0.4145, acc: 85.8398, loss_bbox: 0.4466, loss: 0.9738\n",
            "2022-11-10 11:13:52,196 - mmdet.ssod - INFO - Iter [92/200]\tlr: 3.656e-03, eta: 0:04:18, time: 0.346, data_time: 0.020, memory: 2373, loss_rpn_cls: 0.0305, loss_rpn_bbox: 0.0522, loss_cls: 0.4143, acc: 83.7891, loss_bbox: 0.4558, loss: 0.9528\n",
            "2022-11-10 11:13:52,501 - mmdet.ssod - INFO - Iter [93/200]\tlr: 3.696e-03, eta: 0:04:14, time: 0.305, data_time: 0.008, memory: 2373, loss_rpn_cls: 0.0161, loss_rpn_bbox: 0.0651, loss_cls: 0.3822, acc: 83.7891, loss_bbox: 0.3032, loss: 0.7666\n",
            "2022-11-10 11:13:52,813 - mmdet.ssod - INFO - Iter [94/200]\tlr: 3.736e-03, eta: 0:04:09, time: 0.312, data_time: 0.013, memory: 2373, loss_rpn_cls: 0.0118, loss_rpn_bbox: 0.0707, loss_cls: 0.4095, acc: 79.7852, loss_bbox: 0.4784, loss: 0.9704\n",
            "2022-11-10 11:13:53,089 - mmdet.ssod - INFO - Iter [95/200]\tlr: 3.776e-03, eta: 0:04:04, time: 0.276, data_time: 0.008, memory: 2373, loss_rpn_cls: 0.0235, loss_rpn_bbox: 0.1269, loss_cls: 0.4110, acc: 84.3750, loss_bbox: 0.4570, loss: 1.0183\n",
            "2022-11-10 11:13:53,401 - mmdet.ssod - INFO - Iter [96/200]\tlr: 3.816e-03, eta: 0:04:00, time: 0.311, data_time: 0.012, memory: 2373, loss_rpn_cls: 0.0240, loss_rpn_bbox: 0.1053, loss_cls: 0.3893, acc: 85.0586, loss_bbox: 0.4740, loss: 0.9926\n",
            "2022-11-10 11:14:05,893 - mmdet.ssod - INFO - Iter [97/200]\tlr: 3.856e-03, eta: 0:04:08, time: 12.492, data_time: 12.071, memory: 2373, loss_rpn_cls: 0.0258, loss_rpn_bbox: 0.0877, loss_cls: 0.4202, acc: 80.3711, loss_bbox: 0.3946, loss: 0.9283\n",
            "2022-11-10 11:14:06,220 - mmdet.ssod - INFO - Iter [98/200]\tlr: 3.896e-03, eta: 0:04:04, time: 0.327, data_time: 0.014, memory: 2373, loss_rpn_cls: 0.0208, loss_rpn_bbox: 0.1007, loss_cls: 0.4485, acc: 80.2734, loss_bbox: 0.4572, loss: 1.0273\n",
            "2022-11-10 11:14:06,412 - mmdet.ssod - INFO - Iter [99/200]\tlr: 3.936e-03, eta: 0:03:59, time: 0.192, data_time: 0.008, memory: 2373, loss_rpn_cls: 0.0514, loss_rpn_bbox: 0.1375, loss_cls: 0.4455, acc: 80.8594, loss_bbox: 0.4208, loss: 1.0552\n",
            "2022-11-10 11:14:06,721 - mmdet.ssod - INFO - Iter [100/200]\tlr: 3.976e-03, eta: 0:03:55, time: 0.309, data_time: 0.012, memory: 2373, loss_rpn_cls: 0.0261, loss_rpn_bbox: 0.0929, loss_cls: 0.4045, acc: 83.4961, loss_bbox: 0.3662, loss: 0.8897\n",
            "2022-11-10 11:14:06,971 - mmdet.ssod - INFO - Iter [101/200]\tlr: 4.016e-03, eta: 0:03:50, time: 0.250, data_time: 0.008, memory: 2373, loss_rpn_cls: 0.0230, loss_rpn_bbox: 0.0521, loss_cls: 0.4150, acc: 84.1797, loss_bbox: 0.4598, loss: 0.9499\n",
            "2022-11-10 11:14:07,270 - mmdet.ssod - INFO - Iter [102/200]\tlr: 4.056e-03, eta: 0:03:46, time: 0.299, data_time: 0.010, memory: 2373, loss_rpn_cls: 0.0240, loss_rpn_bbox: 0.0463, loss_cls: 0.3297, acc: 86.2305, loss_bbox: 0.3599, loss: 0.7599\n",
            "2022-11-10 11:14:19,430 - mmdet.ssod - INFO - Iter [103/200]\tlr: 4.096e-03, eta: 0:03:53, time: 12.159, data_time: 11.856, memory: 2373, loss_rpn_cls: 0.0166, loss_rpn_bbox: 0.1505, loss_cls: 0.3629, acc: 84.8633, loss_bbox: 0.4930, loss: 1.0230\n",
            "2022-11-10 11:14:19,976 - mmdet.ssod - INFO - Iter [104/200]\tlr: 4.136e-03, eta: 0:03:49, time: 0.547, data_time: 0.186, memory: 2373, loss_rpn_cls: 0.0222, loss_rpn_bbox: 0.0404, loss_cls: 0.3735, acc: 84.3750, loss_bbox: 0.4554, loss: 0.8916\n",
            "2022-11-10 11:14:20,214 - mmdet.ssod - INFO - Iter [105/200]\tlr: 4.176e-03, eta: 0:03:44, time: 0.238, data_time: 0.008, memory: 2373, loss_rpn_cls: 0.0454, loss_rpn_bbox: 0.1488, loss_cls: 0.4767, acc: 82.3242, loss_bbox: 0.4429, loss: 1.1138\n",
            "2022-11-10 11:14:20,527 - mmdet.ssod - INFO - Iter [106/200]\tlr: 4.216e-03, eta: 0:03:40, time: 0.313, data_time: 0.010, memory: 2373, loss_rpn_cls: 0.0356, loss_rpn_bbox: 0.1346, loss_cls: 0.4388, acc: 83.7891, loss_bbox: 0.4474, loss: 1.0565\n",
            "2022-11-10 11:14:20,831 - mmdet.ssod - INFO - Iter [107/200]\tlr: 4.256e-03, eta: 0:03:36, time: 0.304, data_time: 0.008, memory: 2373, loss_rpn_cls: 0.0308, loss_rpn_bbox: 0.0648, loss_cls: 0.3614, acc: 84.4727, loss_bbox: 0.3817, loss: 0.8387\n",
            "2022-11-10 11:14:21,139 - mmdet.ssod - INFO - Iter [108/200]\tlr: 4.296e-03, eta: 0:03:32, time: 0.308, data_time: 0.011, memory: 2373, loss_rpn_cls: 0.0431, loss_rpn_bbox: 0.0685, loss_cls: 0.3672, acc: 85.5469, loss_bbox: 0.3743, loss: 0.8530\n",
            "2022-11-10 11:14:33,642 - mmdet.ssod - INFO - Iter [109/200]\tlr: 4.336e-03, eta: 0:03:38, time: 12.503, data_time: 12.048, memory: 2373, loss_rpn_cls: 0.0194, loss_rpn_bbox: 0.0662, loss_cls: 0.3781, acc: 85.4492, loss_bbox: 0.3991, loss: 0.8628\n",
            "2022-11-10 11:14:33,990 - mmdet.ssod - INFO - Iter [110/200]\tlr: 4.376e-03, eta: 0:03:34, time: 0.348, data_time: 0.032, memory: 2373, loss_rpn_cls: 0.0212, loss_rpn_bbox: 0.0585, loss_cls: 0.3178, acc: 87.8906, loss_bbox: 0.4091, loss: 0.8065\n",
            "2022-11-10 11:14:34,250 - mmdet.ssod - INFO - Iter [111/200]\tlr: 4.416e-03, eta: 0:03:30, time: 0.260, data_time: 0.009, memory: 2373, loss_rpn_cls: 0.0267, loss_rpn_bbox: 0.0549, loss_cls: 0.3576, acc: 84.1797, loss_bbox: 0.5663, loss: 1.0055\n",
            "2022-11-10 11:14:34,560 - mmdet.ssod - INFO - Iter [112/200]\tlr: 4.456e-03, eta: 0:03:26, time: 0.310, data_time: 0.010, memory: 2373, loss_rpn_cls: 0.0348, loss_rpn_bbox: 0.0815, loss_cls: 0.3325, acc: 87.6953, loss_bbox: 0.3879, loss: 0.8367\n",
            "2022-11-10 11:14:34,879 - mmdet.ssod - INFO - Iter [113/200]\tlr: 4.496e-03, eta: 0:03:22, time: 0.319, data_time: 0.010, memory: 2373, loss_rpn_cls: 0.0449, loss_rpn_bbox: 0.0824, loss_cls: 0.3902, acc: 84.8633, loss_bbox: 0.3485, loss: 0.8660\n",
            "2022-11-10 11:14:35,189 - mmdet.ssod - INFO - Iter [114/200]\tlr: 4.535e-03, eta: 0:03:18, time: 0.310, data_time: 0.011, memory: 2373, loss_rpn_cls: 0.0454, loss_rpn_bbox: 0.0966, loss_cls: 0.4510, acc: 81.1523, loss_bbox: 0.5434, loss: 1.1364\n",
            "2022-11-10 11:14:47,677 - mmdet.ssod - INFO - Iter [115/200]\tlr: 4.575e-03, eta: 0:03:24, time: 12.488, data_time: 12.050, memory: 2373, loss_rpn_cls: 0.0172, loss_rpn_bbox: 0.0686, loss_cls: 0.3225, acc: 89.0625, loss_bbox: 0.4767, loss: 0.8849\n",
            "2022-11-10 11:14:48,040 - mmdet.ssod - INFO - Iter [116/200]\tlr: 4.615e-03, eta: 0:03:20, time: 0.363, data_time: 0.033, memory: 2373, loss_rpn_cls: 0.0268, loss_rpn_bbox: 0.0748, loss_cls: 0.3831, acc: 83.7891, loss_bbox: 0.3564, loss: 0.8411\n",
            "2022-11-10 11:14:48,348 - mmdet.ssod - INFO - Iter [117/200]\tlr: 4.655e-03, eta: 0:03:16, time: 0.308, data_time: 0.008, memory: 2373, loss_rpn_cls: 0.0369, loss_rpn_bbox: 0.0650, loss_cls: 0.3604, acc: 86.5234, loss_bbox: 0.3854, loss: 0.8477\n",
            "2022-11-10 11:14:48,617 - mmdet.ssod - INFO - Iter [118/200]\tlr: 4.695e-03, eta: 0:03:12, time: 0.269, data_time: 0.011, memory: 2373, loss_rpn_cls: 0.0248, loss_rpn_bbox: 0.0935, loss_cls: 0.3378, acc: 86.5234, loss_bbox: 0.4056, loss: 0.8616\n",
            "2022-11-10 11:14:48,937 - mmdet.ssod - INFO - Iter [119/200]\tlr: 4.735e-03, eta: 0:03:08, time: 0.320, data_time: 0.008, memory: 2373, loss_rpn_cls: 0.0233, loss_rpn_bbox: 0.0498, loss_cls: 0.3474, acc: 86.5234, loss_bbox: 0.3923, loss: 0.8128\n",
            "2022-11-10 11:14:49,242 - mmdet.ssod - INFO - Iter [120/200]\tlr: 4.775e-03, eta: 0:03:05, time: 0.306, data_time: 0.011, memory: 2373, loss_rpn_cls: 0.0313, loss_rpn_bbox: 0.0401, loss_cls: 0.3378, acc: 88.7695, loss_bbox: 0.4416, loss: 0.8508\n",
            "2022-11-10 11:15:01,821 - mmdet.ssod - INFO - Iter [121/200]\tlr: 4.815e-03, eta: 0:03:09, time: 12.578, data_time: 12.046, memory: 2373, loss_rpn_cls: 0.0478, loss_rpn_bbox: 0.0781, loss_cls: 0.4075, acc: 80.9570, loss_bbox: 0.3992, loss: 0.9326\n",
            "2022-11-10 11:15:02,139 - mmdet.ssod - INFO - Iter [122/200]\tlr: 4.855e-03, eta: 0:03:05, time: 0.318, data_time: 0.019, memory: 2373, loss_rpn_cls: 0.0316, loss_rpn_bbox: 0.0520, loss_cls: 0.3862, acc: 84.0820, loss_bbox: 0.4377, loss: 0.9075\n",
            "2022-11-10 11:15:02,445 - mmdet.ssod - INFO - Iter [123/200]\tlr: 4.895e-03, eta: 0:03:02, time: 0.307, data_time: 0.009, memory: 2373, loss_rpn_cls: 0.0190, loss_rpn_bbox: 0.0441, loss_cls: 0.3012, acc: 88.1836, loss_bbox: 0.4186, loss: 0.7829\n",
            "2022-11-10 11:15:02,761 - mmdet.ssod - INFO - Iter [124/200]\tlr: 4.935e-03, eta: 0:02:58, time: 0.315, data_time: 0.011, memory: 2373, loss_rpn_cls: 0.0263, loss_rpn_bbox: 0.0466, loss_cls: 0.3314, acc: 86.6211, loss_bbox: 0.3630, loss: 0.7672\n",
            "2022-11-10 11:15:03,073 - mmdet.ssod - INFO - Iter [125/200]\tlr: 4.975e-03, eta: 0:02:54, time: 0.312, data_time: 0.011, memory: 2373, loss_rpn_cls: 0.0138, loss_rpn_bbox: 0.0335, loss_cls: 0.3253, acc: 86.9141, loss_bbox: 0.3034, loss: 0.6761\n",
            "2022-11-10 11:15:03,307 - mmdet.ssod - INFO - Iter [126/200]\tlr: 5.015e-03, eta: 0:02:51, time: 0.233, data_time: 0.010, memory: 2373, loss_rpn_cls: 0.0524, loss_rpn_bbox: 0.0836, loss_cls: 0.3842, acc: 84.6680, loss_bbox: 0.4676, loss: 0.9878\n",
            "2022-11-10 11:15:15,727 - mmdet.ssod - INFO - Iter [127/200]\tlr: 5.055e-03, eta: 0:02:54, time: 12.421, data_time: 11.898, memory: 2373, loss_rpn_cls: 0.0159, loss_rpn_bbox: 0.0547, loss_cls: 0.3100, acc: 88.3789, loss_bbox: 0.4520, loss: 0.8325\n",
            "2022-11-10 11:15:16,066 - mmdet.ssod - INFO - Iter [128/200]\tlr: 5.095e-03, eta: 0:02:51, time: 0.338, data_time: 0.015, memory: 2373, loss_rpn_cls: 0.0142, loss_rpn_bbox: 0.0327, loss_cls: 0.2615, acc: 89.0625, loss_bbox: 0.3257, loss: 0.6341\n",
            "2022-11-10 11:15:16,373 - mmdet.ssod - INFO - Iter [129/200]\tlr: 5.135e-03, eta: 0:02:47, time: 0.307, data_time: 0.008, memory: 2373, loss_rpn_cls: 0.0412, loss_rpn_bbox: 0.0658, loss_cls: 0.4085, acc: 82.9102, loss_bbox: 0.3389, loss: 0.8544\n",
            "2022-11-10 11:15:16,540 - mmdet.ssod - INFO - Iter [130/200]\tlr: 5.175e-03, eta: 0:02:44, time: 0.167, data_time: 0.011, memory: 2373, loss_rpn_cls: 0.0460, loss_rpn_bbox: 0.0738, loss_cls: 0.4344, acc: 83.3984, loss_bbox: 0.4878, loss: 1.0420\n",
            "2022-11-10 11:15:16,848 - mmdet.ssod - INFO - Iter [131/200]\tlr: 5.215e-03, eta: 0:02:40, time: 0.308, data_time: 0.009, memory: 2373, loss_rpn_cls: 0.0125, loss_rpn_bbox: 0.0750, loss_cls: 0.3528, acc: 85.6445, loss_bbox: 0.3771, loss: 0.8173\n",
            "2022-11-10 11:15:17,153 - mmdet.ssod - INFO - Iter [132/200]\tlr: 5.255e-03, eta: 0:02:37, time: 0.306, data_time: 0.011, memory: 2373, loss_rpn_cls: 0.0196, loss_rpn_bbox: 0.0433, loss_cls: 0.3109, acc: 88.4766, loss_bbox: 0.3030, loss: 0.6769\n",
            "2022-11-10 11:15:29,626 - mmdet.ssod - INFO - Iter [133/200]\tlr: 5.295e-03, eta: 0:02:40, time: 12.472, data_time: 11.977, memory: 2373, loss_rpn_cls: 0.0179, loss_rpn_bbox: 0.0524, loss_cls: 0.3194, acc: 88.1836, loss_bbox: 0.2900, loss: 0.6796\n",
            "2022-11-10 11:15:29,921 - mmdet.ssod - INFO - Iter [134/200]\tlr: 5.335e-03, eta: 0:02:36, time: 0.295, data_time: 0.012, memory: 2373, loss_rpn_cls: 0.0297, loss_rpn_bbox: 0.0893, loss_cls: 0.4023, acc: 83.2031, loss_bbox: 0.4420, loss: 0.9633\n",
            "2022-11-10 11:15:30,233 - mmdet.ssod - INFO - Iter [135/200]\tlr: 5.375e-03, eta: 0:02:33, time: 0.312, data_time: 0.011, memory: 2373, loss_rpn_cls: 0.0157, loss_rpn_bbox: 0.0477, loss_cls: 0.2960, acc: 88.6719, loss_bbox: 0.2903, loss: 0.6497\n",
            "2022-11-10 11:15:30,544 - mmdet.ssod - INFO - Iter [136/200]\tlr: 5.415e-03, eta: 0:02:30, time: 0.311, data_time: 0.011, memory: 2373, loss_rpn_cls: 0.0170, loss_rpn_bbox: 0.0447, loss_cls: 0.3263, acc: 87.1094, loss_bbox: 0.3500, loss: 0.7380\n",
            "2022-11-10 11:15:30,857 - mmdet.ssod - INFO - Iter [137/200]\tlr: 5.455e-03, eta: 0:02:26, time: 0.313, data_time: 0.010, memory: 2373, loss_rpn_cls: 0.0172, loss_rpn_bbox: 0.0627, loss_cls: 0.2713, acc: 90.6250, loss_bbox: 0.2698, loss: 0.6209\n",
            "2022-11-10 11:15:31,171 - mmdet.ssod - INFO - Iter [138/200]\tlr: 5.495e-03, eta: 0:02:23, time: 0.313, data_time: 0.010, memory: 2373, loss_rpn_cls: 0.0216, loss_rpn_bbox: 0.0773, loss_cls: 0.3463, acc: 86.3281, loss_bbox: 0.2783, loss: 0.7235\n",
            "2022-11-10 11:15:43,449 - mmdet.ssod - INFO - Iter [139/200]\tlr: 5.534e-03, eta: 0:02:25, time: 12.278, data_time: 11.863, memory: 2373, loss_rpn_cls: 0.0169, loss_rpn_bbox: 0.0463, loss_cls: 0.2667, acc: 89.5508, loss_bbox: 0.2889, loss: 0.6188\n",
            "2022-11-10 11:15:43,789 - mmdet.ssod - INFO - Iter [140/200]\tlr: 5.574e-03, eta: 0:02:22, time: 0.340, data_time: 0.024, memory: 2373, loss_rpn_cls: 0.0159, loss_rpn_bbox: 0.0632, loss_cls: 0.3229, acc: 85.6445, loss_bbox: 0.3087, loss: 0.7107\n",
            "2022-11-10 11:15:44,087 - mmdet.ssod - INFO - Iter [141/200]\tlr: 5.614e-03, eta: 0:02:19, time: 0.298, data_time: 0.008, memory: 2373, loss_rpn_cls: 0.0260, loss_rpn_bbox: 0.1701, loss_cls: 0.2969, acc: 87.7930, loss_bbox: 0.3069, loss: 0.7999\n",
            "2022-11-10 11:15:44,387 - mmdet.ssod - INFO - Iter [142/200]\tlr: 5.654e-03, eta: 0:02:15, time: 0.300, data_time: 0.012, memory: 2373, loss_rpn_cls: 0.0381, loss_rpn_bbox: 0.0548, loss_cls: 0.3847, acc: 86.0352, loss_bbox: 0.4016, loss: 0.8792\n",
            "2022-11-10 11:15:44,632 - mmdet.ssod - INFO - Iter [143/200]\tlr: 5.694e-03, eta: 0:02:12, time: 0.246, data_time: 0.007, memory: 2373, loss_rpn_cls: 0.0374, loss_rpn_bbox: 0.1250, loss_cls: 0.4242, acc: 82.0312, loss_bbox: 0.3144, loss: 0.9010\n",
            "2022-11-10 11:15:44,940 - mmdet.ssod - INFO - Iter [144/200]\tlr: 5.734e-03, eta: 0:02:09, time: 0.308, data_time: 0.010, memory: 2373, loss_rpn_cls: 0.0180, loss_rpn_bbox: 0.0974, loss_cls: 0.3101, acc: 87.4023, loss_bbox: 0.3407, loss: 0.7663\n",
            "2022-11-10 11:15:57,388 - mmdet.ssod - INFO - Iter [145/200]\tlr: 5.774e-03, eta: 0:02:11, time: 12.448, data_time: 11.956, memory: 2373, loss_rpn_cls: 0.0145, loss_rpn_bbox: 0.0382, loss_cls: 0.3505, acc: 87.1094, loss_bbox: 0.3555, loss: 0.7587\n",
            "2022-11-10 11:15:57,714 - mmdet.ssod - INFO - Iter [146/200]\tlr: 5.814e-03, eta: 0:02:08, time: 0.326, data_time: 0.017, memory: 2373, loss_rpn_cls: 0.0238, loss_rpn_bbox: 0.0558, loss_cls: 0.3589, acc: 84.1797, loss_bbox: 0.3062, loss: 0.7447\n",
            "2022-11-10 11:15:58,020 - mmdet.ssod - INFO - Iter [147/200]\tlr: 5.854e-03, eta: 0:02:04, time: 0.306, data_time: 0.008, memory: 2373, loss_rpn_cls: 0.0188, loss_rpn_bbox: 0.0458, loss_cls: 0.2526, acc: 89.8438, loss_bbox: 0.3241, loss: 0.6414\n",
            "2022-11-10 11:15:58,251 - mmdet.ssod - INFO - Iter [148/200]\tlr: 5.894e-03, eta: 0:02:01, time: 0.231, data_time: 0.010, memory: 2373, loss_rpn_cls: 0.0355, loss_rpn_bbox: 0.0786, loss_cls: 0.4401, acc: 84.9609, loss_bbox: 0.3678, loss: 0.9220\n",
            "2022-11-10 11:15:58,562 - mmdet.ssod - INFO - Iter [149/200]\tlr: 5.934e-03, eta: 0:01:58, time: 0.311, data_time: 0.009, memory: 2373, loss_rpn_cls: 0.0171, loss_rpn_bbox: 0.0647, loss_cls: 0.3315, acc: 87.4023, loss_bbox: 0.3791, loss: 0.7923\n",
            "2022-11-10 11:15:58,871 - mmdet.ssod - INFO - Iter [150/200]\tlr: 5.974e-03, eta: 0:01:55, time: 0.309, data_time: 0.011, memory: 2373, loss_rpn_cls: 0.0417, loss_rpn_bbox: 0.0816, loss_cls: 0.4284, acc: 82.9102, loss_bbox: 0.3519, loss: 0.9036\n",
            "2022-11-10 11:16:11,612 - mmdet.ssod - INFO - Iter [151/200]\tlr: 6.014e-03, eta: 0:01:56, time: 12.740, data_time: 12.237, memory: 2373, loss_rpn_cls: 0.0434, loss_rpn_bbox: 0.1626, loss_cls: 0.4350, acc: 83.3008, loss_bbox: 0.3533, loss: 0.9942\n",
            "2022-11-10 11:16:11,947 - mmdet.ssod - INFO - Iter [152/200]\tlr: 6.054e-03, eta: 0:01:53, time: 0.335, data_time: 0.012, memory: 2373, loss_rpn_cls: 0.0138, loss_rpn_bbox: 0.0597, loss_cls: 0.2821, acc: 88.8672, loss_bbox: 0.4241, loss: 0.7798\n",
            "2022-11-10 11:16:12,257 - mmdet.ssod - INFO - Iter [153/200]\tlr: 6.094e-03, eta: 0:01:50, time: 0.310, data_time: 0.012, memory: 2373, loss_rpn_cls: 0.0225, loss_rpn_bbox: 0.0784, loss_cls: 0.3234, acc: 87.9883, loss_bbox: 0.3772, loss: 0.8016\n",
            "2022-11-10 11:16:12,568 - mmdet.ssod - INFO - Iter [154/200]\tlr: 6.134e-03, eta: 0:01:47, time: 0.312, data_time: 0.012, memory: 2373, loss_rpn_cls: 0.0365, loss_rpn_bbox: 0.0777, loss_cls: 0.4682, acc: 79.7852, loss_bbox: 0.3203, loss: 0.9028\n",
            "2022-11-10 11:16:12,890 - mmdet.ssod - INFO - Iter [155/200]\tlr: 6.174e-03, eta: 0:01:44, time: 0.322, data_time: 0.012, memory: 2373, loss_rpn_cls: 0.0118, loss_rpn_bbox: 0.0551, loss_cls: 0.3280, acc: 86.0352, loss_bbox: 0.2705, loss: 0.6653\n",
            "2022-11-10 11:16:13,203 - mmdet.ssod - INFO - Iter [156/200]\tlr: 6.214e-03, eta: 0:01:41, time: 0.313, data_time: 0.013, memory: 2373, loss_rpn_cls: 0.0292, loss_rpn_bbox: 0.0745, loss_cls: 0.3051, acc: 90.6250, loss_bbox: 0.3425, loss: 0.7513\n",
            "2022-11-10 11:16:25,954 - mmdet.ssod - INFO - Iter [157/200]\tlr: 6.254e-03, eta: 0:01:42, time: 12.751, data_time: 12.303, memory: 2373, loss_rpn_cls: 0.0090, loss_rpn_bbox: 0.1675, loss_cls: 0.3891, acc: 82.6172, loss_bbox: 0.2734, loss: 0.8391\n",
            "2022-11-10 11:16:26,276 - mmdet.ssod - INFO - Iter [158/200]\tlr: 6.294e-03, eta: 0:01:39, time: 0.321, data_time: 0.020, memory: 2373, loss_rpn_cls: 0.0254, loss_rpn_bbox: 0.1048, loss_cls: 0.3404, acc: 87.6953, loss_bbox: 0.3705, loss: 0.8410\n",
            "2022-11-10 11:16:26,453 - mmdet.ssod - INFO - Iter [159/200]\tlr: 6.334e-03, eta: 0:01:36, time: 0.178, data_time: 0.008, memory: 2373, loss_rpn_cls: 0.0265, loss_rpn_bbox: 0.0728, loss_cls: 0.4361, acc: 84.9609, loss_bbox: 0.3462, loss: 0.8816\n",
            "2022-11-10 11:16:26,758 - mmdet.ssod - INFO - Iter [160/200]\tlr: 6.374e-03, eta: 0:01:33, time: 0.304, data_time: 0.010, memory: 2373, loss_rpn_cls: 0.0194, loss_rpn_bbox: 0.0444, loss_cls: 0.3187, acc: 87.4023, loss_bbox: 0.4459, loss: 0.8285\n",
            "2022-11-10 11:16:27,069 - mmdet.ssod - INFO - Iter [161/200]\tlr: 6.414e-03, eta: 0:01:30, time: 0.311, data_time: 0.009, memory: 2373, loss_rpn_cls: 0.0273, loss_rpn_bbox: 0.2043, loss_cls: 0.4014, acc: 85.0586, loss_bbox: 0.4717, loss: 1.1047\n",
            "2022-11-10 11:16:27,318 - mmdet.ssod - INFO - Iter [162/200]\tlr: 6.454e-03, eta: 0:01:28, time: 0.249, data_time: 0.012, memory: 2373, loss_rpn_cls: 0.0323, loss_rpn_bbox: 0.0803, loss_cls: 0.5060, acc: 81.8359, loss_bbox: 0.5519, loss: 1.1705\n",
            "2022-11-10 11:16:40,046 - mmdet.ssod - INFO - Iter [163/200]\tlr: 6.494e-03, eta: 0:01:28, time: 12.728, data_time: 12.223, memory: 2373, loss_rpn_cls: 0.0545, loss_rpn_bbox: 0.0991, loss_cls: 0.3479, acc: 86.6211, loss_bbox: 0.3600, loss: 0.8614\n",
            "2022-11-10 11:16:40,355 - mmdet.ssod - INFO - Iter [164/200]\tlr: 6.533e-03, eta: 0:01:25, time: 0.309, data_time: 0.017, memory: 2373, loss_rpn_cls: 0.0376, loss_rpn_bbox: 0.0726, loss_cls: 0.3940, acc: 84.6680, loss_bbox: 0.3673, loss: 0.8715\n",
            "2022-11-10 11:16:40,664 - mmdet.ssod - INFO - Iter [165/200]\tlr: 6.573e-03, eta: 0:01:22, time: 0.309, data_time: 0.008, memory: 2373, loss_rpn_cls: 0.0495, loss_rpn_bbox: 0.0574, loss_cls: 0.3304, acc: 87.2070, loss_bbox: 0.3861, loss: 0.8233\n",
            "2022-11-10 11:16:40,977 - mmdet.ssod - INFO - Iter [166/200]\tlr: 6.613e-03, eta: 0:01:19, time: 0.313, data_time: 0.011, memory: 2373, loss_rpn_cls: 0.0387, loss_rpn_bbox: 0.0715, loss_cls: 0.3468, acc: 86.4258, loss_bbox: 0.3362, loss: 0.7933\n",
            "2022-11-10 11:16:41,293 - mmdet.ssod - INFO - Iter [167/200]\tlr: 6.653e-03, eta: 0:01:17, time: 0.317, data_time: 0.009, memory: 2373, loss_rpn_cls: 0.0325, loss_rpn_bbox: 0.0671, loss_cls: 0.3406, acc: 85.2539, loss_bbox: 0.2781, loss: 0.7183\n",
            "2022-11-10 11:16:41,600 - mmdet.ssod - INFO - Iter [168/200]\tlr: 6.693e-03, eta: 0:01:14, time: 0.307, data_time: 0.011, memory: 2373, loss_rpn_cls: 0.0302, loss_rpn_bbox: 0.0844, loss_cls: 0.3944, acc: 83.5938, loss_bbox: 0.3091, loss: 0.8181\n",
            "2022-11-10 11:16:53,842 - mmdet.ssod - INFO - Iter [169/200]\tlr: 6.733e-03, eta: 0:01:13, time: 12.241, data_time: 11.975, memory: 2373, loss_rpn_cls: 0.0623, loss_rpn_bbox: 0.1132, loss_cls: 0.4676, acc: 80.1758, loss_bbox: 0.4296, loss: 1.0727\n",
            "2022-11-10 11:16:54,323 - mmdet.ssod - INFO - Iter [170/200]\tlr: 6.773e-03, eta: 0:01:11, time: 0.481, data_time: 0.164, memory: 2373, loss_rpn_cls: 0.0224, loss_rpn_bbox: 0.0572, loss_cls: 0.4407, acc: 83.8867, loss_bbox: 0.3820, loss: 0.9023\n",
            "2022-11-10 11:16:54,621 - mmdet.ssod - INFO - Iter [171/200]\tlr: 6.813e-03, eta: 0:01:08, time: 0.298, data_time: 0.007, memory: 2373, loss_rpn_cls: 0.0164, loss_rpn_bbox: 0.1367, loss_cls: 0.4024, acc: 84.5703, loss_bbox: 0.3522, loss: 0.9077\n",
            "2022-11-10 11:16:54,929 - mmdet.ssod - INFO - Iter [172/200]\tlr: 6.853e-03, eta: 0:01:05, time: 0.308, data_time: 0.011, memory: 2373, loss_rpn_cls: 0.0174, loss_rpn_bbox: 0.1080, loss_cls: 0.4221, acc: 84.1797, loss_bbox: 0.3167, loss: 0.8642\n",
            "2022-11-10 11:16:55,229 - mmdet.ssod - INFO - Iter [173/200]\tlr: 6.893e-03, eta: 0:01:02, time: 0.300, data_time: 0.009, memory: 2373, loss_rpn_cls: 0.0223, loss_rpn_bbox: 0.0471, loss_cls: 0.4241, acc: 83.4961, loss_bbox: 0.4045, loss: 0.8981\n",
            "2022-11-10 11:16:55,532 - mmdet.ssod - INFO - Iter [174/200]\tlr: 6.933e-03, eta: 0:01:00, time: 0.303, data_time: 0.011, memory: 2373, loss_rpn_cls: 0.0068, loss_rpn_bbox: 0.0420, loss_cls: 0.3698, acc: 81.2500, loss_bbox: 0.3075, loss: 0.7261\n",
            "2022-11-10 11:17:08,026 - mmdet.ssod - INFO - Iter [175/200]\tlr: 6.973e-03, eta: 0:00:59, time: 12.494, data_time: 12.085, memory: 2373, loss_rpn_cls: 0.0209, loss_rpn_bbox: 0.0594, loss_cls: 0.3321, acc: 88.6719, loss_bbox: 0.3330, loss: 0.7453\n",
            "2022-11-10 11:17:08,341 - mmdet.ssod - INFO - Iter [176/200]\tlr: 7.013e-03, eta: 0:00:56, time: 0.315, data_time: 0.015, memory: 2373, loss_rpn_cls: 0.0308, loss_rpn_bbox: 0.1056, loss_cls: 0.4752, acc: 79.1016, loss_bbox: 0.3332, loss: 0.9448\n",
            "2022-11-10 11:17:08,639 - mmdet.ssod - INFO - Iter [177/200]\tlr: 7.053e-03, eta: 0:00:54, time: 0.298, data_time: 0.007, memory: 2373, loss_rpn_cls: 0.0147, loss_rpn_bbox: 0.0575, loss_cls: 0.3757, acc: 84.6680, loss_bbox: 0.3038, loss: 0.7518\n",
            "2022-11-10 11:17:08,950 - mmdet.ssod - INFO - Iter [178/200]\tlr: 7.093e-03, eta: 0:00:51, time: 0.311, data_time: 0.015, memory: 2373, loss_rpn_cls: 0.0176, loss_rpn_bbox: 0.0989, loss_cls: 0.4476, acc: 81.5430, loss_bbox: 0.3221, loss: 0.8861\n",
            "2022-11-10 11:17:09,256 - mmdet.ssod - INFO - Iter [179/200]\tlr: 7.133e-03, eta: 0:00:49, time: 0.306, data_time: 0.008, memory: 2373, loss_rpn_cls: 0.0515, loss_rpn_bbox: 0.1062, loss_cls: 0.4147, acc: 83.3984, loss_bbox: 0.2777, loss: 0.8501\n",
            "2022-11-10 11:17:09,532 - mmdet.ssod - INFO - Iter [180/200]\tlr: 7.173e-03, eta: 0:00:46, time: 0.276, data_time: 0.011, memory: 2373, loss_rpn_cls: 0.0300, loss_rpn_bbox: 0.0669, loss_cls: 0.4270, acc: 81.9336, loss_bbox: 0.3923, loss: 0.9161\n",
            "2022-11-10 11:17:23,666 - mmdet.ssod - INFO - Iter [181/200]\tlr: 7.213e-03, eta: 0:00:45, time: 14.133, data_time: 13.748, memory: 2373, loss_rpn_cls: 0.0181, loss_rpn_bbox: 0.1047, loss_cls: 0.4694, acc: 80.4688, loss_bbox: 0.3805, loss: 0.9727\n",
            "2022-11-10 11:17:23,921 - mmdet.ssod - INFO - Iter [182/200]\tlr: 7.253e-03, eta: 0:00:42, time: 0.255, data_time: 0.026, memory: 2373, loss_rpn_cls: 0.0410, loss_rpn_bbox: 0.1152, loss_cls: 0.6220, acc: 73.8281, loss_bbox: 0.3897, loss: 1.1679\n",
            "2022-11-10 11:17:24,113 - mmdet.ssod - INFO - Iter [183/200]\tlr: 7.293e-03, eta: 0:00:40, time: 0.192, data_time: 0.006, memory: 2373, loss_rpn_cls: 0.0152, loss_rpn_bbox: 0.0668, loss_cls: 0.3407, acc: 85.7422, loss_bbox: 0.3024, loss: 0.7251\n",
            "2022-11-10 11:17:24,422 - mmdet.ssod - INFO - Iter [184/200]\tlr: 7.333e-03, eta: 0:00:37, time: 0.309, data_time: 0.010, memory: 2373, loss_rpn_cls: 0.0298, loss_rpn_bbox: 0.0641, loss_cls: 0.3776, acc: 85.3516, loss_bbox: 0.3327, loss: 0.8043\n",
            "2022-11-10 11:17:24,657 - mmdet.ssod - INFO - Iter [185/200]\tlr: 7.373e-03, eta: 0:00:35, time: 0.235, data_time: 0.008, memory: 2373, loss_rpn_cls: 0.0199, loss_rpn_bbox: 0.0543, loss_cls: 0.4736, acc: 81.7383, loss_bbox: 0.3872, loss: 0.9349\n",
            "2022-11-10 11:17:24,967 - mmdet.ssod - INFO - Iter [186/200]\tlr: 7.413e-03, eta: 0:00:32, time: 0.310, data_time: 0.014, memory: 2373, loss_rpn_cls: 0.0232, loss_rpn_bbox: 0.0433, loss_cls: 0.3481, acc: 83.1055, loss_bbox: 0.2907, loss: 0.7053\n",
            "2022-11-10 11:17:37,505 - mmdet.ssod - INFO - Iter [187/200]\tlr: 7.453e-03, eta: 0:00:31, time: 12.537, data_time: 12.090, memory: 2373, loss_rpn_cls: 0.0462, loss_rpn_bbox: 0.1712, loss_cls: 0.4044, acc: 81.0547, loss_bbox: 0.3130, loss: 0.9348\n",
            "2022-11-10 11:17:37,845 - mmdet.ssod - INFO - Iter [188/200]\tlr: 7.493e-03, eta: 0:00:28, time: 0.340, data_time: 0.012, memory: 2373, loss_rpn_cls: 0.0135, loss_rpn_bbox: 0.0559, loss_cls: 0.3384, acc: 85.4492, loss_bbox: 0.3739, loss: 0.7818\n",
            "2022-11-10 11:17:38,151 - mmdet.ssod - INFO - Iter [189/200]\tlr: 7.532e-03, eta: 0:00:25, time: 0.307, data_time: 0.011, memory: 2373, loss_rpn_cls: 0.0139, loss_rpn_bbox: 0.0397, loss_cls: 0.4010, acc: 84.1797, loss_bbox: 0.3753, loss: 0.8298\n",
            "2022-11-10 11:17:38,466 - mmdet.ssod - INFO - Iter [190/200]\tlr: 7.572e-03, eta: 0:00:23, time: 0.315, data_time: 0.014, memory: 2373, loss_rpn_cls: 0.0153, loss_rpn_bbox: 0.0599, loss_cls: 0.3464, acc: 86.0352, loss_bbox: 0.3103, loss: 0.7319\n",
            "2022-11-10 11:17:38,776 - mmdet.ssod - INFO - Iter [191/200]\tlr: 7.612e-03, eta: 0:00:21, time: 0.310, data_time: 0.008, memory: 2373, loss_rpn_cls: 0.0217, loss_rpn_bbox: 0.0665, loss_cls: 0.3666, acc: 86.6211, loss_bbox: 0.2967, loss: 0.7515\n",
            "2022-11-10 11:17:39,090 - mmdet.ssod - INFO - Iter [192/200]\tlr: 7.652e-03, eta: 0:00:18, time: 0.314, data_time: 0.012, memory: 2373, loss_rpn_cls: 0.0120, loss_rpn_bbox: 0.0780, loss_cls: 0.3109, acc: 89.8438, loss_bbox: 0.3081, loss: 0.7090\n",
            "2022-11-10 11:17:51,703 - mmdet.ssod - INFO - Iter [193/200]\tlr: 7.692e-03, eta: 0:00:16, time: 12.612, data_time: 12.179, memory: 2373, loss_rpn_cls: 0.0191, loss_rpn_bbox: 0.0434, loss_cls: 0.3056, acc: 87.0117, loss_bbox: 0.2853, loss: 0.6533\n",
            "2022-11-10 11:17:52,029 - mmdet.ssod - INFO - Iter [194/200]\tlr: 7.732e-03, eta: 0:00:14, time: 0.327, data_time: 0.017, memory: 2373, loss_rpn_cls: 0.0257, loss_rpn_bbox: 0.1193, loss_cls: 0.3780, acc: 84.0820, loss_bbox: 0.3960, loss: 0.9189\n",
            "2022-11-10 11:17:52,313 - mmdet.ssod - INFO - Iter [195/200]\tlr: 7.772e-03, eta: 0:00:11, time: 0.284, data_time: 0.008, memory: 2373, loss_rpn_cls: 0.0226, loss_rpn_bbox: 0.1373, loss_cls: 0.4225, acc: 83.2031, loss_bbox: 0.4045, loss: 0.9868\n",
            "2022-11-10 11:17:52,632 - mmdet.ssod - INFO - Iter [196/200]\tlr: 7.812e-03, eta: 0:00:09, time: 0.319, data_time: 0.013, memory: 2373, loss_rpn_cls: 0.0090, loss_rpn_bbox: 0.0625, loss_cls: 0.3593, acc: 85.1562, loss_bbox: 0.2647, loss: 0.6954\n",
            "2022-11-10 11:17:52,935 - mmdet.ssod - INFO - Iter [197/200]\tlr: 7.852e-03, eta: 0:00:07, time: 0.303, data_time: 0.008, memory: 2373, loss_rpn_cls: 0.0079, loss_rpn_bbox: 0.0298, loss_cls: 0.2734, acc: 90.5273, loss_bbox: 0.3105, loss: 0.6216\n",
            "2022-11-10 11:17:53,247 - mmdet.ssod - INFO - Iter [198/200]\tlr: 7.892e-03, eta: 0:00:04, time: 0.312, data_time: 0.011, memory: 2373, loss_rpn_cls: 0.0135, loss_rpn_bbox: 0.1087, loss_cls: 0.4149, acc: 84.1797, loss_bbox: 0.3162, loss: 0.8533\n",
            "2022-11-10 11:18:05,514 - mmdet.ssod - INFO - Iter [199/200]\tlr: 7.932e-03, eta: 0:00:02, time: 12.268, data_time: 11.993, memory: 2373, loss_rpn_cls: 0.0299, loss_rpn_bbox: 0.0890, loss_cls: 0.3923, acc: 84.3750, loss_bbox: 0.4124, loss: 0.9236\n",
            "2022-11-10 11:18:06,028 - mmdet.ssod - INFO - Saving checkpoint at 200 iterations\n",
            "2022-11-10 11:18:09,444 - mmdet.ssod - INFO - Iter [200/200]\tlr: 7.972e-03, eta: 0:00:00, time: 3.930, data_time: 0.153, memory: 2373, loss_rpn_cls: 0.0172, loss_rpn_bbox: 0.0861, loss_cls: 0.2985, acc: 89.7461, loss_bbox: 0.3878, loss: 0.7895\n",
            "\u001b[34m\u001b[1mwandb\u001b[0m: Waiting for W&B process to finish... \u001b[32m(success).\u001b[0m\n",
            "\u001b[34m\u001b[1mwandb\u001b[0m: \n",
            "\u001b[34m\u001b[1mwandb\u001b[0m: Run history:\n",
            "\u001b[34m\u001b[1mwandb\u001b[0m:       learning_rate ▁▁▁▁▂▂▂▂▂▃▃▃▃▃▃▄▄▄▄▄▅▅▅▅▅▅▆▆▆▆▆▇▇▇▇▇▇███\n",
            "\u001b[34m\u001b[1mwandb\u001b[0m:            momentum ▁▁▁▁▁▁▁▁▁▁▁▁▁▁▁▁▁▁▁▁▁▁▁▁▁▁▁▁▁▁▁▁▁▁▁▁▁▁▁▁\n",
            "\u001b[34m\u001b[1mwandb\u001b[0m:           train/acc ▁█▇█▇▇▇▇▆▇▆▇▇▇▇▇▇▇▇▇▇▇█▇▇█▇▇█▇▇█▇▇▇▇▇▇▇█\n",
            "\u001b[34m\u001b[1mwandb\u001b[0m:          train/loss █▅▇▃▃▃▄▄▃▄▃▃▃▃▂▂▃▂▂▂▁▂▂▂▂▁▂▁▁▂▂▂▂▂▁▂▂▂▂▂\n",
            "\u001b[34m\u001b[1mwandb\u001b[0m:     train/loss_bbox ▃▂▅▁▄▃▇▇▅█▅▅▃▄▃▂█▅▄▄▂▂▃▃▃▂▃▁▂▂▂▂▂▁▁▂▂▂▃▃\n",
            "\u001b[34m\u001b[1mwandb\u001b[0m:      train/loss_cls █▄▇▁▂▂▃▁▃▂▃▂▃▂▃▂▂▂▂▂▁▂▁▂▂▁▂▂▁▂▂▂▂▂▂▂▂▂▂▁\n",
            "\u001b[34m\u001b[1mwandb\u001b[0m: train/loss_rpn_bbox █▅▄▄▂▄▃▄▂▄▃▄▄▃▂▂▄▂▂▃▁▂▂▃▂▁▃▂▃▂▂▃▂▂▁▃▂▂▃▂\n",
            "\u001b[34m\u001b[1mwandb\u001b[0m:  train/loss_rpn_cls ██▇▇▅▄▃▃▂▂▁▂▁▂▁▁▁▁▁▁▁▁▁▁▁▁▁▁▁▁▁▁▁▁▁▁▁▁▁▁\n",
            "\u001b[34m\u001b[1mwandb\u001b[0m: \n",
            "\u001b[34m\u001b[1mwandb\u001b[0m: Run summary:\n",
            "\u001b[34m\u001b[1mwandb\u001b[0m:       learning_rate 0.00797\n",
            "\u001b[34m\u001b[1mwandb\u001b[0m:            momentum 0.9\n",
            "\u001b[34m\u001b[1mwandb\u001b[0m:           train/acc 89.74609\n",
            "\u001b[34m\u001b[1mwandb\u001b[0m:          train/loss 0.78954\n",
            "\u001b[34m\u001b[1mwandb\u001b[0m:     train/loss_bbox 0.3878\n",
            "\u001b[34m\u001b[1mwandb\u001b[0m:      train/loss_cls 0.29847\n",
            "\u001b[34m\u001b[1mwandb\u001b[0m: train/loss_rpn_bbox 0.0861\n",
            "\u001b[34m\u001b[1mwandb\u001b[0m:  train/loss_rpn_cls 0.01718\n",
            "\u001b[34m\u001b[1mwandb\u001b[0m: \n",
            "\u001b[34m\u001b[1mwandb\u001b[0m: Synced \u001b[33mfaster_rcnn_r50_caffe_fpn_generated_label\u001b[0m: \u001b[34m\u001b[4mhttps://wandb.ai/nczarli_student/pre_release/runs/3ayar94b\u001b[0m\n",
            "\u001b[34m\u001b[1mwandb\u001b[0m: Synced 5 W&B file(s), 0 media file(s), 0 artifact file(s) and 0 other file(s)\n",
            "\u001b[34m\u001b[1mwandb\u001b[0m: Find logs at: \u001b[35m\u001b[1m./wandb/run-20221110_111007-3ayar94b/logs\u001b[0m\n",
            "INFO:torch.distributed.elastic.agent.server.api:[default] worker group successfully finished. Waiting 300 seconds for other agents to finish.\n",
            "INFO:torch.distributed.elastic.agent.server.api:Local worker group finished (SUCCEEDED). Waiting 300 seconds for other agents to finish\n",
            "/usr/local/lib/python3.7/dist-packages/torch/distributed/elastic/utils/store.py:71: FutureWarning: This is an experimental API and will be changed in future.\n",
            "  \"This is an experimental API and will be changed in future.\", FutureWarning\n",
            "INFO:torch.distributed.elastic.agent.server.api:Done waiting for other agents. Elapsed: 0.00034809112548828125 seconds\n",
            "{\"name\": \"torchelastic.worker.status.SUCCEEDED\", \"source\": \"WORKER\", \"timestamp\": 0, \"metadata\": {\"run_id\": \"none\", \"global_rank\": 0, \"group_rank\": 0, \"worker_id\": \"438\", \"role\": \"default\", \"hostname\": \"033951234b2a\", \"state\": \"SUCCEEDED\", \"total_run_time\": 570, \"rdzv_backend\": \"static\", \"raw_error\": null, \"metadata\": \"{\\\"group_world_size\\\": 1, \\\"entry_point\\\": \\\"python3\\\", \\\"local_rank\\\": [0], \\\"role_rank\\\": [0], \\\"role_world_size\\\": [1]}\", \"agent_restarts\": 0}}\n",
            "{\"name\": \"torchelastic.worker.status.SUCCEEDED\", \"source\": \"AGENT\", \"timestamp\": 0, \"metadata\": {\"run_id\": \"none\", \"global_rank\": null, \"group_rank\": 0, \"worker_id\": null, \"role\": \"default\", \"hostname\": \"033951234b2a\", \"state\": \"SUCCEEDED\", \"total_run_time\": 570, \"rdzv_backend\": \"static\", \"raw_error\": null, \"metadata\": \"{\\\"group_world_size\\\": 1, \\\"entry_point\\\": \\\"python3\\\"}\", \"agent_restarts\": 0}}\n"
          ]
        }
      ]
    },
    {
      "cell_type": "markdown",
      "source": [
        "# Inference"
      ],
      "metadata": {
        "id": "dNjxty-4tRRM"
      }
    },
    {
      "cell_type": "markdown",
      "source": [
        "## Add paths of thirdparty packages"
      ],
      "metadata": {
        "id": "nghDrculZABO"
      }
    },
    {
      "cell_type": "code",
      "source": [
        "import sys\n",
        "sys.path.insert(0,'/content/SoftTeacherCustomDataset/thirdparty/mmdetection/mmdet')"
      ],
      "metadata": {
        "id": "5lCw0jkNtAu0"
      },
      "execution_count": 16,
      "outputs": []
    },
    {
      "cell_type": "code",
      "source": [
        "import sys\n",
        "print(sys.path)"
      ],
      "metadata": {
        "colab": {
          "base_uri": "https://localhost:8080/"
        },
        "id": "GqmSyQSXuhbh",
        "outputId": "638c7484-e331-486c-8748-ce97b1ab289b"
      },
      "execution_count": 44,
      "outputs": [
        {
          "output_type": "stream",
          "name": "stdout",
          "text": [
            "[' /content/SoftTeacherCustomDataset', '/content/SoftTeacherCustomDataset/thirdparty/mmdetection/mmdet', '/content', '/env/python', '/usr/lib/python37.zip', '/usr/lib/python3.7', '/usr/lib/python3.7/lib-dynload', '', '/usr/local/lib/python3.7/dist-packages', '/usr/lib/python3/dist-packages', '/usr/local/lib/python3.7/dist-packages/IPython/extensions', '/root/.ipython']\n"
          ]
        }
      ]
    },
    {
      "cell_type": "code",
      "source": [
        "import sys\n",
        "sys.path.insert(0,' /content/SoftTeacherCustomDataset')"
      ],
      "metadata": {
        "id": "796BI5FCU5i7"
      },
      "execution_count": 38,
      "outputs": []
    },
    {
      "cell_type": "code",
      "source": [
        "!export PYTHONPATH=$(pwd)"
      ],
      "metadata": {
        "id": "19ToXHXWWdro"
      },
      "execution_count": 50,
      "outputs": []
    },
    {
      "cell_type": "code",
      "source": [
        "cd /content/SoftTeacherCustomDataset/thirdparty/mmdetection/mmdet"
      ],
      "metadata": {
        "colab": {
          "base_uri": "https://localhost:8080/"
        },
        "id": "UYL_OdVFR3hh",
        "outputId": "66e6da67-a84f-4a58-fd8f-94769350738c"
      },
      "execution_count": 65,
      "outputs": [
        {
          "output_type": "stream",
          "name": "stdout",
          "text": [
            "/content/SoftTeacherCustomDataset/thirdparty/mmdetection/mmdet\n"
          ]
        }
      ]
    },
    {
      "cell_type": "code",
      "source": [
        "import mmdet"
      ],
      "metadata": {
        "id": "eztQh4SjY6Jl"
      },
      "execution_count": 66,
      "outputs": []
    },
    {
      "cell_type": "code",
      "source": [
        "cd /content"
      ],
      "metadata": {
        "colab": {
          "base_uri": "https://localhost:8080/"
        },
        "id": "OJ7q-nD-Y4v0",
        "outputId": "4514c85a-7613-4351-a3fb-badaa922c195"
      },
      "execution_count": 67,
      "outputs": [
        {
          "output_type": "stream",
          "name": "stdout",
          "text": [
            "/content\n"
          ]
        }
      ]
    },
    {
      "cell_type": "markdown",
      "source": [
        "## Visualise"
      ],
      "metadata": {
        "id": "K1z_xXZiZX1K"
      }
    },
    {
      "cell_type": "code",
      "source": [
        "%matplotlib inline \n",
        "import mmcv\n",
        "from matplotlib import pyplot as plt\n",
        "from mmdet.apis import init_detector, inference_detector\n",
        "\n",
        "config_file = 'SoftTeacherCustomDataset/configs/baseline/faster_rcnn_r50_caffe_fpn_generated_label.py'\n",
        "checkpoint_file = 'SoftTeacherCustomDataset/work_dirs/faster_rcnn_r50_caffe_fpn_generated_label/iter_200.pth'\n",
        "\n",
        "# build the model from a config file and a checkpoint file\n",
        "model = init_detector(config_file, checkpoint_file, device='cuda:0')\n",
        "\n",
        "# test a single image and show the results\n",
        "img = '/content/SoftTeacherCustomDataset/labels_generated/test/images/Cherries,24,19-08-2022,18-10-52,pass.bmp'  # or img = mmcv.imread(img), which will only load it once\n",
        "result = inference_detector(model, img)\n",
        "# visualize the results in a new window\n",
        "data = model.show_result(img, result)\n"
      ],
      "metadata": {
        "colab": {
          "base_uri": "https://localhost:8080/"
        },
        "id": "TqQuEeTEoVIK",
        "outputId": "b925f7b7-0485-4d7f-80c9-244c071ca3c1"
      },
      "execution_count": 61,
      "outputs": [
        {
          "output_type": "stream",
          "name": "stdout",
          "text": [
            "load checkpoint from local path: SoftTeacherCustomDataset/work_dirs/faster_rcnn_r50_caffe_fpn_generated_label/iter_200.pth\n"
          ]
        }
      ]
    },
    {
      "cell_type": "code",
      "source": [
        "plt.figure(figsize = (20,40))\n",
        "plt.imshow(data, interpolation='nearest')"
      ],
      "metadata": {
        "colab": {
          "base_uri": "https://localhost:8080/",
          "height": 1000
        },
        "id": "nwOiZorIRawS",
        "outputId": "a2be638d-f4cc-4313-8d4f-42da73b18f9b"
      },
      "execution_count": 60,
      "outputs": [
        {
          "output_type": "execute_result",
          "data": {
            "text/plain": [
              "<matplotlib.image.AxesImage at 0x7f5c44126ad0>"
            ]
          },
          "metadata": {},
          "execution_count": 60
        },
        {
          "output_type": "display_data",
          "data": {
            "text/plain": [
              "<Figure size 1440x2880 with 1 Axes>"
            ],
            "image/png": "[encoded data removed]"
          },
          "metadata": {
            "needs_background": "light"
          }
        }
      ]
    }
  ]
}