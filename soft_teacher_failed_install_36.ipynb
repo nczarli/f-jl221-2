{
  "nbformat": 4,
  "nbformat_minor": 0,
  "metadata": {
    "colab": {
      "provenance": [],
      "authorship_tag": "ABX9TyPDtRNRAtWmlIQh5pK4Qo77",
      "include_colab_link": true
    },
    "kernelspec": {
      "name": "python3",
      "display_name": "Python 3"
    },
    "language_info": {
      "name": "python"
    },
    "accelerator": "GPU",
    "gpuClass": "standard"
  },
  "cells": [
    {
      "cell_type": "markdown",
      "metadata": {
        "id": "view-in-github",
        "colab_type": "text"
      },
      "source": [
        "<a href=\"https://colab.research.google.com/github/nczarli/f-jl221-2/blob/main/soft_teacher_failed_install_36.ipynb\" target=\"_parent\"><img src=\"https://colab.research.google.com/assets/colab-badge.svg\" alt=\"Open In Colab\"/></a>"
      ]
    },
    {
      "cell_type": "code",
      "execution_count": 1,
      "metadata": {
        "colab": {
          "base_uri": "https://localhost:8080/"
        },
        "id": "aQRsDa3Adg6n",
        "outputId": "952a22d7-8e4a-4f42-c006-59a136e49cfd"
      },
      "outputs": [
        {
          "output_type": "stream",
          "name": "stdout",
          "text": [
            "Cloning into 'f-jl221-2'...\n",
            "remote: Enumerating objects: 103, done.\u001b[K\n",
            "remote: Counting objects: 100% (103/103), done.\u001b[K\n",
            "remote: Compressing objects: 100% (78/78), done.\u001b[K\n",
            "remote: Total 103 (delta 40), reused 67 (delta 21), pack-reused 0\u001b[K\n",
            "Receiving objects: 100% (103/103), 4.13 MiB | 5.03 MiB/s, done.\n",
            "Resolving deltas: 100% (40/40), done.\n",
            "Cloning into 'SoftTeacherCustomDataset'...\n",
            "remote: Enumerating objects: 306, done.\u001b[K\n",
            "remote: Counting objects: 100% (158/158), done.\u001b[K\n",
            "remote: Compressing objects: 100% (61/61), done.\u001b[K\n",
            "remote: Total 306 (delta 116), reused 102 (delta 97), pack-reused 148\u001b[K\n",
            "Receiving objects: 100% (306/306), 590.32 KiB | 11.14 MiB/s, done.\n",
            "Resolving deltas: 100% (144/144), done.\n"
          ]
        }
      ],
      "source": [
        "!git clone https://github.com/nczarli/f-jl221-2.git\n",
        "!git clone https://github.com/nczarli/SoftTeacherCustomDataset.git"
      ]
    },
    {
      "cell_type": "code",
      "source": [
        "ls"
      ],
      "metadata": {
        "colab": {
          "base_uri": "https://localhost:8080/"
        },
        "id": "JLo416fmhx32",
        "outputId": "d2aec6ae-1f44-4844-e4ec-b025597f8a14"
      },
      "execution_count": 2,
      "outputs": [
        {
          "output_type": "stream",
          "name": "stdout",
          "text": [
            "\u001b[0m\u001b[01;34mf-jl221-2\u001b[0m/  \u001b[01;34msample_data\u001b[0m/  \u001b[01;34mSoftTeacherCustomDataset\u001b[0m/\n"
          ]
        }
      ]
    },
    {
      "cell_type": "code",
      "source": [
        "cd SoftTeacherCustomDataset/"
      ],
      "metadata": {
        "colab": {
          "base_uri": "https://localhost:8080/"
        },
        "id": "NeAv9-TUhzHS",
        "outputId": "edb1783a-f2c6-45df-82b5-4035e62ca320"
      },
      "execution_count": 3,
      "outputs": [
        {
          "output_type": "stream",
          "name": "stdout",
          "text": [
            "/content/SoftTeacherCustomDataset\n"
          ]
        }
      ]
    },
    {
      "cell_type": "code",
      "source": [],
      "metadata": {
        "id": "l8IzuhEElk2Z"
      },
      "execution_count": null,
      "outputs": []
    },
    {
      "cell_type": "code",
      "source": [
        "!wget https://bootstrap.pypa.io/pip/3.6/get-pip.py\n",
        "!sudo python3.6 get-pip.py"
      ],
      "metadata": {
        "colab": {
          "base_uri": "https://localhost:8080/"
        },
        "id": "HSWberDuiJlg",
        "outputId": "bf621e40-e5d6-4a75-a24f-7e422fe0d4eb"
      },
      "execution_count": 6,
      "outputs": [
        {
          "output_type": "stream",
          "name": "stdout",
          "text": [
            "--2022-11-07 00:42:24--  https://bootstrap.pypa.io/pip/3.6/get-pip.py\n",
            "Resolving bootstrap.pypa.io (bootstrap.pypa.io)... 151.101.0.175, 151.101.64.175, 151.101.128.175, ...\n",
            "Connecting to bootstrap.pypa.io (bootstrap.pypa.io)|151.101.0.175|:443... connected.\n",
            "HTTP request sent, awaiting response... 200 OK\n",
            "Length: 2159061 (2.1M) [text/x-python]\n",
            "Saving to: ‘get-pip.py’\n",
            "\n",
            "\rget-pip.py            0%[                    ]       0  --.-KB/s               \rget-pip.py          100%[===================>]   2.06M  --.-KB/s    in 0.06s   \n",
            "\n",
            "2022-11-07 00:42:25 (34.6 MB/s) - ‘get-pip.py’ saved [2159061/2159061]\n",
            "\n",
            "Looking in indexes: https://pypi.org/simple, https://us-python.pkg.dev/colab-wheels/public/simple/\n",
            "Collecting pip<22.0\n",
            "  Downloading pip-21.3.1-py3-none-any.whl (1.7 MB)\n",
            "     |████████████████████████████████| 1.7 MB 5.2 MB/s            \n",
            "\u001b[?25hCollecting setuptools\n",
            "  Downloading setuptools-59.6.0-py3-none-any.whl (952 kB)\n",
            "     |████████████████████████████████| 952 kB 59.2 MB/s            \n",
            "\u001b[?25hCollecting wheel\n",
            "  Downloading wheel-0.37.1-py2.py3-none-any.whl (35 kB)\n",
            "Installing collected packages: wheel, setuptools, pip\n",
            "Successfully installed pip-21.3.1 setuptools-59.6.0 wheel-0.37.1\n",
            "\u001b[33mWARNING: Running pip as the 'root' user can result in broken permissions and conflicting behaviour with the system package manager. It is recommended to use a virtual environment instead: https://pip.pypa.io/warnings/venv\u001b[0m\n"
          ]
        }
      ]
    },
    {
      "cell_type": "code",
      "source": [
        "!pip install torch==1.9.0+rocm4.2 torchvision==0.10.0+rocm4.2 torchaudio==0.9.0 -f https://download.pytorch.org/whl/torch_stable.html"
      ],
      "metadata": {
        "colab": {
          "base_uri": "https://localhost:8080/"
        },
        "id": "pebODCfPiocV",
        "outputId": "52cacd5d-62c6-4cee-9828-2bbe305db888"
      },
      "execution_count": 10,
      "outputs": [
        {
          "output_type": "stream",
          "name": "stdout",
          "text": [
            "Looking in indexes: https://pypi.org/simple, https://us-python.pkg.dev/colab-wheels/public/simple/\n",
            "Looking in links: https://download.pytorch.org/whl/torch_stable.html\n",
            "Collecting torch==1.9.0+rocm4.2\n",
            "  Downloading https://download.pytorch.org/whl/rocm4.2/torch-1.9.0%2Brocm4.2-cp36-cp36m-linux_x86_64.whl (995.4 MB)\n",
            "     |██████████████████████████▉     | 834.1 MB 1.3 MB/s eta 0:02:03 tcmalloc: large alloc 1147494400 bytes == 0x342a000 @  0x7f9d23af0615 0x592697 0x4cc8c9 0x4cca2b 0x50a73c 0x50c414 0x508144 0x509e70 0x50a86d 0x50c414 0x508144 0x509e70 0x50a86d 0x50d1f5 0x58f3b3 0x50c688 0x58f3b3 0x50c688 0x58f3b3 0x50c688 0x509235 0x595231 0x54aaaf 0x5a8b3c 0x50a9a3 0x50c414 0x508144 0x509e70 0x50a86d 0x50d1f5 0x508144\n",
            "     |████████████████████████████████| 995.4 MB 1.2 MB/s eta 0:00:01 tcmalloc: large alloc 1244307456 bytes == 0x82fd4000 @  0x7f9d23af0615 0x592697 0x4cc8c9 0x4cca2b 0x50a73c 0x50c414 0x508144 0x509e70 0x50a86d 0x50c414 0x508144 0x509e70 0x50a86d 0x50c414 0x508144 0x509e70 0x50a86d 0x50c414 0x508144 0x509e70 0x50a86d 0x50c414 0x508144 0x509e70 0x50a86d 0x50c414 0x509b39 0x50a86d 0x50c414 0x508144 0x509e70\n",
            "     |████████████████████████████████| 995.4 MB 14 kB/s              \n",
            "\u001b[?25hCollecting torchvision==0.10.0+rocm4.2\n",
            "  Downloading https://download.pytorch.org/whl/rocm4.2/torchvision-0.10.0%2Brocm4.2-cp36-cp36m-linux_x86_64.whl (66.3 MB)\n",
            "     |████████████████████████████████| 66.3 MB 13 kB/s             \n",
            "\u001b[?25hCollecting torchaudio==0.9.0\n",
            "  Downloading torchaudio-0.9.0-cp36-cp36m-manylinux1_x86_64.whl (1.9 MB)\n",
            "     |████████████████████████████████| 1.9 MB 4.7 MB/s            \n",
            "\u001b[?25hCollecting typing-extensions\n",
            "  Downloading typing_extensions-4.1.1-py3-none-any.whl (26 kB)\n",
            "Collecting dataclasses\n",
            "  Downloading dataclasses-0.8-py3-none-any.whl (19 kB)\n",
            "Collecting pillow>=5.3.0\n",
            "  Downloading Pillow-8.4.0-cp36-cp36m-manylinux_2_17_x86_64.manylinux2014_x86_64.whl (3.1 MB)\n",
            "     |████████████████████████████████| 3.1 MB 43.1 MB/s            \n",
            "\u001b[?25hCollecting numpy\n",
            "  Downloading numpy-1.19.5-cp36-cp36m-manylinux2010_x86_64.whl (14.8 MB)\n",
            "     |████████████████████████████████| 14.8 MB 39.6 MB/s            \n",
            "\u001b[?25hInstalling collected packages: typing-extensions, dataclasses, torch, pillow, numpy, torchvision, torchaudio\n",
            "Successfully installed dataclasses-0.8 numpy-1.19.5 pillow-8.4.0 torch-1.9.0+rocm4.2 torchaudio-0.9.0 torchvision-0.10.0+rocm4.2 typing-extensions-4.1.1\n",
            "\u001b[33mWARNING: Running pip as the 'root' user can result in broken permissions and conflicting behaviour with the system package manager. It is recommended to use a virtual environment instead: https://pip.pypa.io/warnings/venv\u001b[0m\n"
          ]
        }
      ]
    },
    {
      "cell_type": "code",
      "source": [
        "!pip install mmcv==1.3.9"
      ],
      "metadata": {
        "colab": {
          "base_uri": "https://localhost:8080/"
        },
        "id": "wzGgbouci7iE",
        "outputId": "b5de92cf-e29e-45c6-a7fa-31d2652fb669"
      },
      "execution_count": 11,
      "outputs": [
        {
          "output_type": "stream",
          "name": "stdout",
          "text": [
            "Looking in indexes: https://pypi.org/simple, https://us-python.pkg.dev/colab-wheels/public/simple/\n",
            "Collecting mmcv==1.3.9\n",
            "  Downloading mmcv-1.3.9.tar.gz (313 kB)\n",
            "     |████████████████████████████████| 313 kB 5.2 MB/s            \n",
            "\u001b[?25h  Preparing metadata (setup.py) ... \u001b[?25l\u001b[?25hdone\n",
            "Collecting addict\n",
            "  Downloading addict-2.4.0-py3-none-any.whl (3.8 kB)\n",
            "Requirement already satisfied: numpy in /usr/local/lib/python3.6/dist-packages (from mmcv==1.3.9) (1.19.5)\n",
            "Requirement already satisfied: Pillow in /usr/local/lib/python3.6/dist-packages (from mmcv==1.3.9) (8.4.0)\n",
            "Collecting pyyaml\n",
            "  Downloading PyYAML-6.0-cp36-cp36m-manylinux_2_5_x86_64.manylinux1_x86_64.manylinux_2_12_x86_64.manylinux2010_x86_64.whl (603 kB)\n",
            "     |████████████████████████████████| 603 kB 65.6 MB/s            \n",
            "\u001b[?25hCollecting yapf\n",
            "  Downloading yapf-0.32.0-py2.py3-none-any.whl (190 kB)\n",
            "     |████████████████████████████████| 190 kB 53.2 MB/s            \n",
            "\u001b[?25hCollecting opencv-python>=3\n",
            "  Downloading opencv_python-4.6.0.66-cp36-abi3-manylinux_2_17_x86_64.manylinux2014_x86_64.whl (60.9 MB)\n",
            "     |████████████████████████████████| 60.9 MB 1.2 MB/s            \n",
            "\u001b[?25hBuilding wheels for collected packages: mmcv\n",
            "  Building wheel for mmcv (setup.py) ... \u001b[?25l\u001b[?25hdone\n",
            "  Created wheel for mmcv: filename=mmcv-1.3.9-py2.py3-none-any.whl size=451849 sha256=029ea240b2e703b6f68e270d2956b550c6356561c69fbc50b033fc35e9ceaf56\n",
            "  Stored in directory: /root/.cache/pip/wheels/a9/70/fc/327e344288b36c9c21e37714d32d8e02c8327edff8f840c204\n",
            "Successfully built mmcv\n",
            "Installing collected packages: yapf, pyyaml, opencv-python, addict, mmcv\n",
            "Successfully installed addict-2.4.0 mmcv-1.3.9 opencv-python-4.6.0.66 pyyaml-6.0 yapf-0.32.0\n",
            "\u001b[33mWARNING: Running pip as the 'root' user can result in broken permissions and conflicting behaviour with the system package manager. It is recommended to use a virtual environment instead: https://pip.pypa.io/warnings/venv\u001b[0m\n"
          ]
        }
      ]
    },
    {
      "cell_type": "code",
      "source": [
        "ls"
      ],
      "metadata": {
        "colab": {
          "base_uri": "https://localhost:8080/"
        },
        "id": "RZgJDJOXkIqI",
        "outputId": "07e93e6e-6031-4286-988c-4eafe6ea4fd0"
      },
      "execution_count": 12,
      "outputs": [
        {
          "output_type": "stream",
          "name": "stdout",
          "text": [
            "\u001b[0m\u001b[01;34mconfigs\u001b[0m/  LICENSE   README.md         \u001b[01;34mresources\u001b[0m/   setup.py  \u001b[01;34mtools\u001b[0m/\n",
            "\u001b[01;34mdemo\u001b[0m/     Makefile  requirements.txt  SECURITY.md  \u001b[01;34mssod\u001b[0m/\n"
          ]
        }
      ]
    },
    {
      "cell_type": "code",
      "source": [
        "!make install"
      ],
      "metadata": {
        "colab": {
          "base_uri": "https://localhost:8080/"
        },
        "id": "56s992D7kSFe",
        "outputId": "6e949299-3957-4bda-a661-2e69a77c9ad9"
      },
      "execution_count": 13,
      "outputs": [
        {
          "output_type": "stream",
          "name": "stdout",
          "text": [
            "make pre\n",
            "make[1]: Entering directory '/content/SoftTeacherCustomDataset'\n",
            "python -m pip install -r requirements.txt -f https://download.pytorch.org/whl/torch_stable.html\n",
            "Looking in indexes: https://pypi.org/simple, https://us-python.pkg.dev/colab-wheels/public/simple/\n",
            "Looking in links: https://download.pytorch.org/whl/torch_stable.html\n",
            "Requirement already satisfied: torch in /usr/local/lib/python3.6/dist-packages (from -r requirements.txt (line 1)) (1.9.0+rocm4.2)\n",
            "Requirement already satisfied: torchvision in /usr/local/lib/python3.6/dist-packages (from -r requirements.txt (line 2)) (0.10.0+rocm4.2)\n",
            "Collecting mmcv-full\n",
            "  Downloading mmcv-full-1.7.0.tar.gz (593 kB)\n",
            "     |████████████████████████████████| 593 kB 5.1 MB/s            \n",
            "\u001b[?25h  Preparing metadata (setup.py) ... \u001b[?25l\u001b[?25hdone\n",
            "Collecting wandb\n",
            "  Downloading wandb-0.13.5-py2.py3-none-any.whl (1.9 MB)\n",
            "     |████████████████████████████████| 1.9 MB 64.2 MB/s            \n",
            "\u001b[?25hCollecting prettytable\n",
            "  Downloading prettytable-2.5.0-py3-none-any.whl (24 kB)\n",
            "Requirement already satisfied: dataclasses in /usr/local/lib/python3.6/dist-packages (from torch->-r requirements.txt (line 1)) (0.8)\n",
            "Requirement already satisfied: typing-extensions in /usr/local/lib/python3.6/dist-packages (from torch->-r requirements.txt (line 1)) (4.1.1)\n",
            "Requirement already satisfied: pillow>=5.3.0 in /usr/local/lib/python3.6/dist-packages (from torchvision->-r requirements.txt (line 2)) (8.4.0)\n",
            "Requirement already satisfied: numpy in /usr/local/lib/python3.6/dist-packages (from torchvision->-r requirements.txt (line 2)) (1.19.5)\n",
            "Requirement already satisfied: addict in /usr/local/lib/python3.6/dist-packages (from mmcv-full->-r requirements.txt (line 3)) (2.4.0)\n",
            "Collecting packaging\n",
            "  Downloading packaging-21.3-py3-none-any.whl (40 kB)\n",
            "     |████████████████████████████████| 40 kB 5.5 MB/s             \n",
            "\u001b[?25hRequirement already satisfied: pyyaml in /usr/local/lib/python3.6/dist-packages (from mmcv-full->-r requirements.txt (line 3)) (6.0)\n",
            "Requirement already satisfied: yapf in /usr/local/lib/python3.6/dist-packages (from mmcv-full->-r requirements.txt (line 3)) (0.32.0)\n",
            "Collecting shortuuid>=0.5.0\n",
            "  Downloading shortuuid-1.0.9-py3-none-any.whl (9.4 kB)\n",
            "Collecting promise<3,>=2.0\n",
            "  Downloading promise-2.3.tar.gz (19 kB)\n",
            "  Preparing metadata (setup.py) ... \u001b[?25l\u001b[?25hdone\n",
            "Collecting psutil>=5.0.0\n",
            "  Downloading psutil-5.9.3-cp36-cp36m-manylinux_2_12_x86_64.manylinux2010_x86_64.manylinux_2_17_x86_64.manylinux2014_x86_64.whl (290 kB)\n",
            "     |████████████████████████████████| 290 kB 58.9 MB/s            \n",
            "\u001b[?25hCollecting pathtools\n",
            "  Downloading pathtools-0.1.2.tar.gz (11 kB)\n",
            "  Preparing metadata (setup.py) ... \u001b[?25l\u001b[?25hdone\n",
            "Collecting protobuf!=4.0.*,!=4.21.0,<5,>=3.12.0\n",
            "  Downloading protobuf-3.19.6-cp36-cp36m-manylinux_2_17_x86_64.manylinux2014_x86_64.whl (1.1 MB)\n",
            "     |████████████████████████████████| 1.1 MB 40.5 MB/s            \n",
            "\u001b[?25hCollecting requests<3,>=2.0.0\n",
            "  Downloading requests-2.27.1-py2.py3-none-any.whl (63 kB)\n",
            "     |████████████████████████████████| 63 kB 1.7 MB/s             \n",
            "\u001b[?25hCollecting docker-pycreds>=0.4.0\n",
            "  Downloading docker_pycreds-0.4.0-py2.py3-none-any.whl (9.0 kB)\n",
            "Collecting Click!=8.0.0,>=7.0\n",
            "  Downloading click-8.0.4-py3-none-any.whl (97 kB)\n",
            "     |████████████████████████████████| 97 kB 7.2 MB/s             \n",
            "\u001b[?25hCollecting setproctitle\n",
            "  Downloading setproctitle-1.2.3-cp36-cp36m-manylinux_2_5_x86_64.manylinux1_x86_64.manylinux_2_17_x86_64.manylinux2014_x86_64.whl (29 kB)\n",
            "Collecting six>=1.13.0\n",
            "  Downloading six-1.16.0-py2.py3-none-any.whl (11 kB)\n",
            "Requirement already satisfied: setuptools in /usr/local/lib/python3.6/dist-packages (from wandb->-r requirements.txt (line 4)) (59.6.0)\n",
            "Collecting sentry-sdk>=1.0.0\n",
            "  Downloading sentry_sdk-1.10.1-py2.py3-none-any.whl (166 kB)\n",
            "     |████████████████████████████████| 166 kB 63.9 MB/s            \n",
            "\u001b[?25hCollecting GitPython>=1.0.0\n",
            "  Downloading GitPython-3.1.18-py3-none-any.whl (170 kB)\n",
            "     |████████████████████████████████| 170 kB 51.4 MB/s            \n",
            "\u001b[?25hCollecting wcwidth\n",
            "  Downloading wcwidth-0.2.5-py2.py3-none-any.whl (30 kB)\n",
            "Collecting importlib-metadata\n",
            "  Downloading importlib_metadata-4.8.3-py3-none-any.whl (17 kB)\n",
            "Collecting gitdb<5,>=4.0.1\n",
            "  Downloading gitdb-4.0.9-py3-none-any.whl (63 kB)\n",
            "     |████████████████████████████████| 63 kB 1.6 MB/s             \n",
            "\u001b[?25hCollecting urllib3<1.27,>=1.21.1\n",
            "  Downloading urllib3-1.26.12-py2.py3-none-any.whl (140 kB)\n",
            "     |████████████████████████████████| 140 kB 76.5 MB/s            \n",
            "\u001b[?25hCollecting charset-normalizer~=2.0.0\n",
            "  Downloading charset_normalizer-2.0.12-py3-none-any.whl (39 kB)\n",
            "Collecting certifi>=2017.4.17\n",
            "  Downloading certifi-2022.9.24-py3-none-any.whl (161 kB)\n",
            "     |████████████████████████████████| 161 kB 81.4 MB/s            \n",
            "\u001b[?25hCollecting idna<4,>=2.5\n",
            "  Downloading idna-3.4-py3-none-any.whl (61 kB)\n",
            "     |████████████████████████████████| 61 kB 106 kB/s             \n",
            "\u001b[?25hCollecting zipp>=0.5\n",
            "  Downloading zipp-3.6.0-py3-none-any.whl (5.3 kB)\n",
            "Collecting pyparsing!=3.0.5,>=2.0.2\n",
            "  Downloading pyparsing-3.0.9-py3-none-any.whl (98 kB)\n",
            "     |████████████████████████████████| 98 kB 8.5 MB/s             \n",
            "\u001b[?25hCollecting smmap<6,>=3.0.1\n",
            "  Downloading smmap-5.0.0-py3-none-any.whl (24 kB)\n",
            "Building wheels for collected packages: mmcv-full, promise, pathtools\n",
            "  Building wheel for mmcv-full (setup.py) ... \u001b[?25lerror\n",
            "\u001b[31m  ERROR: Failed building wheel for mmcv-full\u001b[0m\n",
            "\u001b[?25h  Running setup.py clean for mmcv-full\n",
            "  Building wheel for promise (setup.py) ... \u001b[?25l\u001b[?25hdone\n",
            "  Created wheel for promise: filename=promise-2.3-py3-none-any.whl size=21503 sha256=3b33a41e79bbe8f33b19d553fb8c9b36e06ef0dc7048415ea94a627f31f79522\n",
            "  Stored in directory: /root/.cache/pip/wheels/59/9a/1d/3f1afbbb5122d0410547bf9eb50955f4a7a98e53a6d8b99bd1\n",
            "  Building wheel for pathtools (setup.py) ... \u001b[?25l\u001b[?25hdone\n",
            "  Created wheel for pathtools: filename=pathtools-0.1.2-py3-none-any.whl size=8806 sha256=9261b29d0328d40a38f3de1337c4a0f380ca1f3967f082978d89d7322c3b5afd\n",
            "  Stored in directory: /root/.cache/pip/wheels/42/ea/90/e37d463fb3b03848bf715080595de62545266f53dd546b2497\n",
            "Successfully built promise pathtools\n",
            "Failed to build mmcv-full\n",
            "Installing collected packages: zipp, smmap, urllib3, six, pyparsing, importlib-metadata, idna, gitdb, charset-normalizer, certifi, wcwidth, shortuuid, setproctitle, sentry-sdk, requests, psutil, protobuf, promise, pathtools, packaging, GitPython, docker-pycreds, Click, wandb, prettytable, mmcv-full\n",
            "    Running setup.py install for mmcv-full ... \u001b[?25l\u001b[?25herror\n",
            "\u001b[31mERROR: Command errored out with exit status 1: /usr/bin/python3 -u -c 'import io, os, sys, setuptools, tokenize; sys.argv[0] = '\"'\"'/tmp/pip-install-93xdd89b/mmcv-full_f6b18ddaf84543d895affca7501b65e0/setup.py'\"'\"'; __file__='\"'\"'/tmp/pip-install-93xdd89b/mmcv-full_f6b18ddaf84543d895affca7501b65e0/setup.py'\"'\"';f = getattr(tokenize, '\"'\"'open'\"'\"', open)(__file__) if os.path.exists(__file__) else io.StringIO('\"'\"'from setuptools import setup; setup()'\"'\"');code = f.read().replace('\"'\"'\\r\\n'\"'\"', '\"'\"'\\n'\"'\"');f.close();exec(compile(code, __file__, '\"'\"'exec'\"'\"'))' install --record /tmp/pip-record-8h7e1ha1/install-record.txt --single-version-externally-managed --compile --install-headers /usr/local/include/python3.6/mmcv-full Check the logs for full command output.\u001b[0m\n",
            "Makefile:2: recipe for target 'pre' failed\n",
            "make[1]: *** [pre] Error 1\n",
            "make[1]: Leaving directory '/content/SoftTeacherCustomDataset'\n",
            "Makefile:7: recipe for target 'install' failed\n",
            "make: *** [install] Error 2\n"
          ]
        }
      ]
    },
    {
      "cell_type": "code",
      "source": [
        "!pip install mmcv-full"
      ],
      "metadata": {
        "colab": {
          "base_uri": "https://localhost:8080/"
        },
        "id": "G2LrltuRkiCe",
        "outputId": "2b0c8105-516d-4e7a-b2dc-e4b103d594e1"
      },
      "execution_count": 16,
      "outputs": [
        {
          "output_type": "stream",
          "name": "stdout",
          "text": [
            "Looking in indexes: https://pypi.org/simple, https://us-python.pkg.dev/colab-wheels/public/simple/\n",
            "Collecting mmcv-full\n",
            "  Using cached mmcv-full-1.7.0.tar.gz (593 kB)\n",
            "  Preparing metadata (setup.py) ... \u001b[?25l\u001b[?25hdone\n",
            "Requirement already satisfied: addict in /usr/local/lib/python3.6/dist-packages (from mmcv-full) (2.4.0)\n",
            "Requirement already satisfied: numpy in /usr/local/lib/python3.6/dist-packages (from mmcv-full) (1.19.5)\n",
            "Requirement already satisfied: packaging in /usr/local/lib/python3.6/dist-packages (from mmcv-full) (21.3)\n",
            "Requirement already satisfied: Pillow in /usr/local/lib/python3.6/dist-packages (from mmcv-full) (8.4.0)\n",
            "Requirement already satisfied: pyyaml in /usr/local/lib/python3.6/dist-packages (from mmcv-full) (6.0)\n",
            "Requirement already satisfied: yapf in /usr/local/lib/python3.6/dist-packages (from mmcv-full) (0.32.0)\n",
            "Requirement already satisfied: pyparsing!=3.0.5,>=2.0.2 in /usr/local/lib/python3.6/dist-packages (from packaging->mmcv-full) (3.0.9)\n",
            "Building wheels for collected packages: mmcv-full\n",
            "  Building wheel for mmcv-full (setup.py) ... \u001b[?25lerror\n",
            "\u001b[31m  ERROR: Failed building wheel for mmcv-full\u001b[0m\n",
            "\u001b[?25h  Running setup.py clean for mmcv-full\n",
            "Failed to build mmcv-full\n",
            "Installing collected packages: mmcv-full\n",
            "    Running setup.py install for mmcv-full ... \u001b[?25l\u001b[?25herror\n",
            "\u001b[31mERROR: Command errored out with exit status 1: /usr/bin/python3.6 -u -c 'import io, os, sys, setuptools, tokenize; sys.argv[0] = '\"'\"'/tmp/pip-install-n50ia6vr/mmcv-full_7294b47f817940f7909ec193350f6b53/setup.py'\"'\"'; __file__='\"'\"'/tmp/pip-install-n50ia6vr/mmcv-full_7294b47f817940f7909ec193350f6b53/setup.py'\"'\"';f = getattr(tokenize, '\"'\"'open'\"'\"', open)(__file__) if os.path.exists(__file__) else io.StringIO('\"'\"'from setuptools import setup; setup()'\"'\"');code = f.read().replace('\"'\"'\\r\\n'\"'\"', '\"'\"'\\n'\"'\"');f.close();exec(compile(code, __file__, '\"'\"'exec'\"'\"'))' install --record /tmp/pip-record-s77kymi_/install-record.txt --single-version-externally-managed --compile --install-headers /usr/local/include/python3.6/mmcv-full Check the logs for full command output.\u001b[0m\n"
          ]
        }
      ]
    },
    {
      "cell_type": "code",
      "source": [],
      "metadata": {
        "id": "hQ2slsHPlPDJ"
      },
      "execution_count": null,
      "outputs": []
    }
  ]
}